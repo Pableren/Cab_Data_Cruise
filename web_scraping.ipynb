{
 "cells": [
  {
   "cell_type": "markdown",
   "metadata": {},
   "source": [
    "# Web scraping - Extraccion de la data\n",
    "\n",
    "Considerar el punto de que:\n",
    "El web scraping que realizado, se encarga de descargar(link referenciando al archivo parket de la data) los archivos de la pagina web de TCL(Taxis & Limousine Commission), por lo que en realidad podrias decir cumplimos con una premisa del web scraping: la extracción de datos de una fuente externa, pero no realizamos una \"disección\" o \"scraping\"(en realidad referie a raspado-raspar) del documento html para luego procesar la data para construir y reorganizar los datos. En este caso, la data ya se obtiene en formato tabular."
   ]
  },
  {
   "cell_type": "code",
   "execution_count": 1,
   "metadata": {},
   "outputs": [],
   "source": [
    "import requests\n",
    "import os\n",
    "import pandas as pd\n",
    "import time\n",
    "from selenium import webdriver # pip install selenium\n",
    "from selenium.webdriver.common.by import By\n",
    "from selenium.webdriver.chrome.service import Service\n",
    "from selenium.webdriver.support.ui import WebDriverWait\n",
    "from selenium.webdriver.support import expected_conditions as EC\n",
    "from selenium.common.exceptions import TimeoutException"
   ]
  },
  {
   "cell_type": "code",
   "execution_count": 2,
   "metadata": {},
   "outputs": [
    {
     "name": "stdout",
     "output_type": "stream",
     "text": [
      "c:\\Pablo\\datasets\\TaxisNY\\descargas\n"
     ]
    }
   ],
   "source": [
    "# Crear una carpeta para las descargas si no existe\n",
    "download_dir = os.path.join(os.getcwd(), \"descargas\")\n",
    "if not os.path.exists(download_dir):\n",
    "    os.makedirs(download_dir)\n",
    "print(download_dir)"
   ]
  },
  {
   "cell_type": "markdown",
   "metadata": {},
   "source": [
    "#### Web driver de Selenium"
   ]
  },
  {
   "cell_type": "code",
   "execution_count": 6,
   "metadata": {},
   "outputs": [],
   "source": [
    "# Configura el WebDriver (asegúrate de tener el driver correspondiente)\n",
    "options = webdriver.ChromeOptions()\n",
    "options.add_argument(\"--window-size=800,640\")\n",
    "#Directorio predeterminado para descargar los archivos\n",
    "prefs = {\n",
    "    \"download.default_directory\": download_dir,  # Cambiar a tu directorio de descargas\n",
    "    \"download.prompt_for_download\": False,       # Desactivar el cuadro de diálogo de descarga\n",
    "    \"download.directory_upgrade\": True,          # Permitir actualizar la carpeta de descarga\n",
    "    \"safebrowsing.enabled\": True                 # Activar descarga segura\n",
    "}\n",
    "options.add_experimental_option(\"prefs\", prefs)\n",
    "service = Service(executable_path=\"chromedriver_win64\\chromedriver.exe\") #Ruta del chromedriver\n",
    "options.headless = True  # Enable headless mode\n",
    "#options.add_argument(\"--window-size=800,640\")\n",
    "driver = webdriver.Chrome(service=service, options=options)\n",
    "driver.get('https://www.nyc.gov/site/tlc/about/tlc-trip-record-data.page') # URL pagina de la data\n",
    "\n",
    "# Usar WebDriverWait para esperar hasta que la sección con la clase y el id estén visibles\n",
    "wait = WebDriverWait(driver, 20)\n",
    "faq_section_2023 = wait.until(EC.presence_of_element_located((By.CSS_SELECTOR, 'div.faq-answers#faq2023')))\n",
    "faq_section_2024 = wait.until(EC.presence_of_element_located((By.CSS_SELECTOR, 'div.faq-answers#faq2024')))\n",
    "\n",
    "# Buscar todos los enlaces dentro de la sección con class 'faq-answers' y id 'faq2023'\n",
    "taxi_links_2023 = faq_section_2023.find_elements(By.CSS_SELECTOR, 'a[title=\"Yellow Taxi Trip Records\"], a[title=\"Green Taxi Trip Records\"]')\n",
    "taxi_links_2024 = faq_section_2024.find_elements(By.CSS_SELECTOR, 'a[title=\"Yellow Taxi Trip Records\"], a[title=\"Green Taxi Trip Records\"]')"
   ]
  },
  {
   "cell_type": "markdown",
   "metadata": {},
   "source": [
    "#### Descarga de archivos"
   ]
  },
  {
   "cell_type": "code",
   "execution_count": 4,
   "metadata": {},
   "outputs": [
    {
     "ename": "NameError",
     "evalue": "name 'taxi_links_2023' is not defined",
     "output_type": "error",
     "traceback": [
      "\u001b[1;31m---------------------------------------------------------------------------\u001b[0m",
      "\u001b[1;31mNameError\u001b[0m                                 Traceback (most recent call last)",
      "Cell \u001b[1;32mIn[4], line 2\u001b[0m\n\u001b[0;32m      1\u001b[0m \u001b[38;5;66;03m# Descargar cada archivo del año 2023\u001b[39;00m\n\u001b[1;32m----> 2\u001b[0m \u001b[38;5;28;01mfor\u001b[39;00m url \u001b[38;5;129;01min\u001b[39;00m \u001b[43mtaxi_links_2023\u001b[49m:\n\u001b[0;32m      3\u001b[0m     \u001b[38;5;66;03m# Extraer el nombre del archivo de la URL\u001b[39;00m\n\u001b[0;32m      4\u001b[0m     url \u001b[38;5;241m=\u001b[39m url\u001b[38;5;241m.\u001b[39mget_attribute(\u001b[38;5;124m'\u001b[39m\u001b[38;5;124mhref\u001b[39m\u001b[38;5;124m'\u001b[39m)\n\u001b[0;32m      5\u001b[0m     file_name \u001b[38;5;241m=\u001b[39m url\u001b[38;5;241m.\u001b[39msplit(\u001b[38;5;124m\"\u001b[39m\u001b[38;5;124m/\u001b[39m\u001b[38;5;124m\"\u001b[39m)[\u001b[38;5;241m-\u001b[39m\u001b[38;5;241m1\u001b[39m]\n",
      "\u001b[1;31mNameError\u001b[0m: name 'taxi_links_2023' is not defined"
     ]
    }
   ],
   "source": [
    "# Descargar cada archivo del año 2023\n",
    "for url in taxi_links_2023:\n",
    "    # Extraer el nombre del archivo de la URL\n",
    "    url = url.get_attribute('href')\n",
    "    file_name = url.split(\"/\")[-1]\n",
    "    file_path = os.path.join(download_dir, file_name)\n",
    "    # Descargar el archivo\n",
    "    print(f\"Descargando {file_name} ...\")\n",
    "    #response = requests.get(url)\n",
    "    try:\n",
    "        response = requests.get(url, timeout=120)  # Aumentar el timeout a 120 segundos\n",
    "    except requests.exceptions.Timeout:\n",
    "        print(f\"Error: El archivo {file_name} tardó demasiado en responder.\")\n",
    "        continue  # Salta al siguiente archivo si hay un problema de tiempo de espera\n",
    "    # Verificar si la descarga fue exitosa\n",
    "    if response.status_code == 200:\n",
    "        # Guardar el archivo en la carpeta de descargas\n",
    "        with open(file_path, 'wb') as f:\n",
    "            f.write(response.content)\n",
    "        print(f\"Archivo descargado y guardado en: {file_path}\")\n",
    "    else:\n",
    "        print(f\"Error al descargar {file_name}: Código de estado {response.status_code}\")\n",
    "        \n",
    "\n",
    "# Descargar cada archivo del año 2024\n",
    "for url in taxi_links_2024:\n",
    "    # Extraer el nombre del archivo de la URL\n",
    "    url = url.get_attribute('href')\n",
    "    file_name = url.split(\"/\")[-1]\n",
    "    file_path = os.path.join(download_dir, file_name)\n",
    "    # Descargar el archivo\n",
    "    print(f\"Descargando {file_name} ...\")\n",
    "    #response = requests.get(url)\n",
    "    try:\n",
    "        response = requests.get(url, timeout=120)  # Aumentar el timeout a 120 segundos\n",
    "    except requests.exceptions.Timeout:\n",
    "        print(f\"Error: El archivo {file_name} tardó demasiado en responder.\")\n",
    "        continue  # Salta al siguiente archivo si hay un problema de tiempo de espera\n",
    "    # Verificar si la descarga fue exitosa\n",
    "    if response.status_code == 200:\n",
    "        # Guardar el archivo en la carpeta de descargas\n",
    "        with open(file_path, 'wb') as f:\n",
    "            f.write(response.content)\n",
    "        print(f\"Archivo descargado y guardado en: {file_path}\")\n",
    "    else:\n",
    "        print(f\"Error al descargar {file_name}: Código de estado {response.status_code}\")"
   ]
  },
  {
   "cell_type": "code",
   "execution_count": 5,
   "metadata": {},
   "outputs": [],
   "source": [
    "# Cierra el driver\n",
    "driver.quit()"
   ]
  },
  {
   "cell_type": "markdown",
   "metadata": {},
   "source": [
    "#### Descarga de los datos acerca del gasto energetico"
   ]
  },
  {
   "cell_type": "code",
   "execution_count": 5,
   "metadata": {},
   "outputs": [
    {
     "name": "stdout",
     "output_type": "stream",
     "text": [
      "c:\\Pablo\\datasets\\TaxisNY\\descargas\\Fuel_rate\n"
     ]
    },
    {
     "ename": "SessionNotCreatedException",
     "evalue": "Message: session not created\nfrom unknown error: cannot find Chrome binary\nStacktrace:\n\tGetHandleVerifier [0x00007FF67D3FB645+29573]\n\t(No symbol) [0x00007FF67D370470]\n\t(No symbol) [0x00007FF67D22B6EA]\n\t(No symbol) [0x00007FF67D2645D5]\n\t(No symbol) [0x00007FF67D26268E]\n\t(No symbol) [0x00007FF67D2B30F0]\n\t(No symbol) [0x00007FF67D2B2780]\n\t(No symbol) [0x00007FF67D2A70A3]\n\t(No symbol) [0x00007FF67D2712DF]\n\t(No symbol) [0x00007FF67D272441]\n\tGetHandleVerifier [0x00007FF67D72C58D+3375821]\n\tGetHandleVerifier [0x00007FF67D777987+3684039]\n\tGetHandleVerifier [0x00007FF67D76CDAB+3640043]\n\tGetHandleVerifier [0x00007FF67D4BB7C6+816390]\n\t(No symbol) [0x00007FF67D37B77F]\n\t(No symbol) [0x00007FF67D3775A4]\n\t(No symbol) [0x00007FF67D377740]\n\t(No symbol) [0x00007FF67D36659F]\n\tBaseThreadInitThunk [0x00007FFB671D7374+20]\n\tRtlUserThreadStart [0x00007FFB6741CC91+33]\n",
     "output_type": "error",
     "traceback": [
      "\u001b[1;31m---------------------------------------------------------------------------\u001b[0m",
      "\u001b[1;31mSessionNotCreatedException\u001b[0m                Traceback (most recent call last)",
      "Cell \u001b[1;32mIn[5], line 20\u001b[0m\n\u001b[0;32m     18\u001b[0m options\u001b[38;5;241m.\u001b[39mheadless \u001b[38;5;241m=\u001b[39m \u001b[38;5;28;01mTrue\u001b[39;00m  \u001b[38;5;66;03m# Enable headless mode\u001b[39;00m\n\u001b[0;32m     19\u001b[0m \u001b[38;5;66;03m#options.add_argument(\"--window-size=800,640\")\u001b[39;00m\n\u001b[1;32m---> 20\u001b[0m driver \u001b[38;5;241m=\u001b[39m \u001b[43mwebdriver\u001b[49m\u001b[38;5;241;43m.\u001b[39;49m\u001b[43mChrome\u001b[49m\u001b[43m(\u001b[49m\u001b[43mservice\u001b[49m\u001b[38;5;241;43m=\u001b[39;49m\u001b[43mservice\u001b[49m\u001b[43m,\u001b[49m\u001b[43m \u001b[49m\u001b[43moptions\u001b[49m\u001b[38;5;241;43m=\u001b[39;49m\u001b[43moptions\u001b[49m\u001b[43m)\u001b[49m\n\u001b[0;32m     21\u001b[0m driver\u001b[38;5;241m.\u001b[39mget(\u001b[38;5;124m'\u001b[39m\u001b[38;5;124mhttps://open.canada.ca/data/en/dataset/98f1a129-f628-4ce4-b24d-6f16bf24dd64#wb-auto-6\u001b[39m\u001b[38;5;124m'\u001b[39m) \u001b[38;5;66;03m# URL pagina de la data\u001b[39;00m\n\u001b[0;32m     23\u001b[0m \u001b[38;5;28;01mtry\u001b[39;00m:\n",
      "File \u001b[1;32mc:\\Users\\Pablo\\AppData\\Local\\Programs\\Python\\Python311\\Lib\\site-packages\\selenium\\webdriver\\chrome\\webdriver.py:45\u001b[0m, in \u001b[0;36mWebDriver.__init__\u001b[1;34m(self, options, service, keep_alive)\u001b[0m\n\u001b[0;32m     42\u001b[0m service \u001b[38;5;241m=\u001b[39m service \u001b[38;5;28;01mif\u001b[39;00m service \u001b[38;5;28;01melse\u001b[39;00m Service()\n\u001b[0;32m     43\u001b[0m options \u001b[38;5;241m=\u001b[39m options \u001b[38;5;28;01mif\u001b[39;00m options \u001b[38;5;28;01melse\u001b[39;00m Options()\n\u001b[1;32m---> 45\u001b[0m \u001b[38;5;28;43msuper\u001b[39;49m\u001b[43m(\u001b[49m\u001b[43m)\u001b[49m\u001b[38;5;241;43m.\u001b[39;49m\u001b[38;5;21;43m__init__\u001b[39;49m\u001b[43m(\u001b[49m\n\u001b[0;32m     46\u001b[0m \u001b[43m    \u001b[49m\u001b[43mbrowser_name\u001b[49m\u001b[38;5;241;43m=\u001b[39;49m\u001b[43mDesiredCapabilities\u001b[49m\u001b[38;5;241;43m.\u001b[39;49m\u001b[43mCHROME\u001b[49m\u001b[43m[\u001b[49m\u001b[38;5;124;43m\"\u001b[39;49m\u001b[38;5;124;43mbrowserName\u001b[39;49m\u001b[38;5;124;43m\"\u001b[39;49m\u001b[43m]\u001b[49m\u001b[43m,\u001b[49m\n\u001b[0;32m     47\u001b[0m \u001b[43m    \u001b[49m\u001b[43mvendor_prefix\u001b[49m\u001b[38;5;241;43m=\u001b[39;49m\u001b[38;5;124;43m\"\u001b[39;49m\u001b[38;5;124;43mgoog\u001b[39;49m\u001b[38;5;124;43m\"\u001b[39;49m\u001b[43m,\u001b[49m\n\u001b[0;32m     48\u001b[0m \u001b[43m    \u001b[49m\u001b[43moptions\u001b[49m\u001b[38;5;241;43m=\u001b[39;49m\u001b[43moptions\u001b[49m\u001b[43m,\u001b[49m\n\u001b[0;32m     49\u001b[0m \u001b[43m    \u001b[49m\u001b[43mservice\u001b[49m\u001b[38;5;241;43m=\u001b[39;49m\u001b[43mservice\u001b[49m\u001b[43m,\u001b[49m\n\u001b[0;32m     50\u001b[0m \u001b[43m    \u001b[49m\u001b[43mkeep_alive\u001b[49m\u001b[38;5;241;43m=\u001b[39;49m\u001b[43mkeep_alive\u001b[49m\u001b[43m,\u001b[49m\n\u001b[0;32m     51\u001b[0m \u001b[43m\u001b[49m\u001b[43m)\u001b[49m\n",
      "File \u001b[1;32mc:\\Users\\Pablo\\AppData\\Local\\Programs\\Python\\Python311\\Lib\\site-packages\\selenium\\webdriver\\chromium\\webdriver.py:66\u001b[0m, in \u001b[0;36mChromiumDriver.__init__\u001b[1;34m(self, browser_name, vendor_prefix, options, service, keep_alive)\u001b[0m\n\u001b[0;32m     57\u001b[0m executor \u001b[38;5;241m=\u001b[39m ChromiumRemoteConnection(\n\u001b[0;32m     58\u001b[0m     remote_server_addr\u001b[38;5;241m=\u001b[39m\u001b[38;5;28mself\u001b[39m\u001b[38;5;241m.\u001b[39mservice\u001b[38;5;241m.\u001b[39mservice_url,\n\u001b[0;32m     59\u001b[0m     browser_name\u001b[38;5;241m=\u001b[39mbrowser_name,\n\u001b[1;32m   (...)\u001b[0m\n\u001b[0;32m     62\u001b[0m     ignore_proxy\u001b[38;5;241m=\u001b[39moptions\u001b[38;5;241m.\u001b[39m_ignore_local_proxy,\n\u001b[0;32m     63\u001b[0m )\n\u001b[0;32m     65\u001b[0m \u001b[38;5;28;01mtry\u001b[39;00m:\n\u001b[1;32m---> 66\u001b[0m     \u001b[38;5;28;43msuper\u001b[39;49m\u001b[43m(\u001b[49m\u001b[43m)\u001b[49m\u001b[38;5;241;43m.\u001b[39;49m\u001b[38;5;21;43m__init__\u001b[39;49m\u001b[43m(\u001b[49m\u001b[43mcommand_executor\u001b[49m\u001b[38;5;241;43m=\u001b[39;49m\u001b[43mexecutor\u001b[49m\u001b[43m,\u001b[49m\u001b[43m \u001b[49m\u001b[43moptions\u001b[49m\u001b[38;5;241;43m=\u001b[39;49m\u001b[43moptions\u001b[49m\u001b[43m)\u001b[49m\n\u001b[0;32m     67\u001b[0m \u001b[38;5;28;01mexcept\u001b[39;00m \u001b[38;5;167;01mException\u001b[39;00m:\n\u001b[0;32m     68\u001b[0m     \u001b[38;5;28mself\u001b[39m\u001b[38;5;241m.\u001b[39mquit()\n",
      "File \u001b[1;32mc:\\Users\\Pablo\\AppData\\Local\\Programs\\Python\\Python311\\Lib\\site-packages\\selenium\\webdriver\\remote\\webdriver.py:212\u001b[0m, in \u001b[0;36mWebDriver.__init__\u001b[1;34m(self, command_executor, keep_alive, file_detector, options)\u001b[0m\n\u001b[0;32m    210\u001b[0m \u001b[38;5;28mself\u001b[39m\u001b[38;5;241m.\u001b[39m_authenticator_id \u001b[38;5;241m=\u001b[39m \u001b[38;5;28;01mNone\u001b[39;00m\n\u001b[0;32m    211\u001b[0m \u001b[38;5;28mself\u001b[39m\u001b[38;5;241m.\u001b[39mstart_client()\n\u001b[1;32m--> 212\u001b[0m \u001b[38;5;28;43mself\u001b[39;49m\u001b[38;5;241;43m.\u001b[39;49m\u001b[43mstart_session\u001b[49m\u001b[43m(\u001b[49m\u001b[43mcapabilities\u001b[49m\u001b[43m)\u001b[49m\n\u001b[0;32m    214\u001b[0m \u001b[38;5;28mself\u001b[39m\u001b[38;5;241m.\u001b[39m_websocket_connection \u001b[38;5;241m=\u001b[39m \u001b[38;5;28;01mNone\u001b[39;00m\n\u001b[0;32m    215\u001b[0m \u001b[38;5;28mself\u001b[39m\u001b[38;5;241m.\u001b[39m_script \u001b[38;5;241m=\u001b[39m \u001b[38;5;28;01mNone\u001b[39;00m\n",
      "File \u001b[1;32mc:\\Users\\Pablo\\AppData\\Local\\Programs\\Python\\Python311\\Lib\\site-packages\\selenium\\webdriver\\remote\\webdriver.py:299\u001b[0m, in \u001b[0;36mWebDriver.start_session\u001b[1;34m(self, capabilities)\u001b[0m\n\u001b[0;32m    292\u001b[0m \u001b[38;5;250m\u001b[39m\u001b[38;5;124;03m\"\"\"Creates a new session with the desired capabilities.\u001b[39;00m\n\u001b[0;32m    293\u001b[0m \n\u001b[0;32m    294\u001b[0m \u001b[38;5;124;03m:Args:\u001b[39;00m\n\u001b[0;32m    295\u001b[0m \u001b[38;5;124;03m - capabilities - a capabilities dict to start the session with.\u001b[39;00m\n\u001b[0;32m    296\u001b[0m \u001b[38;5;124;03m\"\"\"\u001b[39;00m\n\u001b[0;32m    298\u001b[0m caps \u001b[38;5;241m=\u001b[39m _create_caps(capabilities)\n\u001b[1;32m--> 299\u001b[0m response \u001b[38;5;241m=\u001b[39m \u001b[38;5;28;43mself\u001b[39;49m\u001b[38;5;241;43m.\u001b[39;49m\u001b[43mexecute\u001b[49m\u001b[43m(\u001b[49m\u001b[43mCommand\u001b[49m\u001b[38;5;241;43m.\u001b[39;49m\u001b[43mNEW_SESSION\u001b[49m\u001b[43m,\u001b[49m\u001b[43m \u001b[49m\u001b[43mcaps\u001b[49m\u001b[43m)\u001b[49m[\u001b[38;5;124m\"\u001b[39m\u001b[38;5;124mvalue\u001b[39m\u001b[38;5;124m\"\u001b[39m]\n\u001b[0;32m    300\u001b[0m \u001b[38;5;28mself\u001b[39m\u001b[38;5;241m.\u001b[39msession_id \u001b[38;5;241m=\u001b[39m response\u001b[38;5;241m.\u001b[39mget(\u001b[38;5;124m\"\u001b[39m\u001b[38;5;124msessionId\u001b[39m\u001b[38;5;124m\"\u001b[39m)\n\u001b[0;32m    301\u001b[0m \u001b[38;5;28mself\u001b[39m\u001b[38;5;241m.\u001b[39mcaps \u001b[38;5;241m=\u001b[39m response\u001b[38;5;241m.\u001b[39mget(\u001b[38;5;124m\"\u001b[39m\u001b[38;5;124mcapabilities\u001b[39m\u001b[38;5;124m\"\u001b[39m)\n",
      "File \u001b[1;32mc:\\Users\\Pablo\\AppData\\Local\\Programs\\Python\\Python311\\Lib\\site-packages\\selenium\\webdriver\\remote\\webdriver.py:354\u001b[0m, in \u001b[0;36mWebDriver.execute\u001b[1;34m(self, driver_command, params)\u001b[0m\n\u001b[0;32m    352\u001b[0m response \u001b[38;5;241m=\u001b[39m \u001b[38;5;28mself\u001b[39m\u001b[38;5;241m.\u001b[39mcommand_executor\u001b[38;5;241m.\u001b[39mexecute(driver_command, params)\n\u001b[0;32m    353\u001b[0m \u001b[38;5;28;01mif\u001b[39;00m response:\n\u001b[1;32m--> 354\u001b[0m     \u001b[38;5;28;43mself\u001b[39;49m\u001b[38;5;241;43m.\u001b[39;49m\u001b[43merror_handler\u001b[49m\u001b[38;5;241;43m.\u001b[39;49m\u001b[43mcheck_response\u001b[49m\u001b[43m(\u001b[49m\u001b[43mresponse\u001b[49m\u001b[43m)\u001b[49m\n\u001b[0;32m    355\u001b[0m     response[\u001b[38;5;124m\"\u001b[39m\u001b[38;5;124mvalue\u001b[39m\u001b[38;5;124m\"\u001b[39m] \u001b[38;5;241m=\u001b[39m \u001b[38;5;28mself\u001b[39m\u001b[38;5;241m.\u001b[39m_unwrap_value(response\u001b[38;5;241m.\u001b[39mget(\u001b[38;5;124m\"\u001b[39m\u001b[38;5;124mvalue\u001b[39m\u001b[38;5;124m\"\u001b[39m, \u001b[38;5;28;01mNone\u001b[39;00m))\n\u001b[0;32m    356\u001b[0m     \u001b[38;5;28;01mreturn\u001b[39;00m response\n",
      "File \u001b[1;32mc:\\Users\\Pablo\\AppData\\Local\\Programs\\Python\\Python311\\Lib\\site-packages\\selenium\\webdriver\\remote\\errorhandler.py:229\u001b[0m, in \u001b[0;36mErrorHandler.check_response\u001b[1;34m(self, response)\u001b[0m\n\u001b[0;32m    227\u001b[0m         alert_text \u001b[38;5;241m=\u001b[39m value[\u001b[38;5;124m\"\u001b[39m\u001b[38;5;124malert\u001b[39m\u001b[38;5;124m\"\u001b[39m]\u001b[38;5;241m.\u001b[39mget(\u001b[38;5;124m\"\u001b[39m\u001b[38;5;124mtext\u001b[39m\u001b[38;5;124m\"\u001b[39m)\n\u001b[0;32m    228\u001b[0m     \u001b[38;5;28;01mraise\u001b[39;00m exception_class(message, screen, stacktrace, alert_text)  \u001b[38;5;66;03m# type: ignore[call-arg]  # mypy is not smart enough here\u001b[39;00m\n\u001b[1;32m--> 229\u001b[0m \u001b[38;5;28;01mraise\u001b[39;00m exception_class(message, screen, stacktrace)\n",
      "\u001b[1;31mSessionNotCreatedException\u001b[0m: Message: session not created\nfrom unknown error: cannot find Chrome binary\nStacktrace:\n\tGetHandleVerifier [0x00007FF67D3FB645+29573]\n\t(No symbol) [0x00007FF67D370470]\n\t(No symbol) [0x00007FF67D22B6EA]\n\t(No symbol) [0x00007FF67D2645D5]\n\t(No symbol) [0x00007FF67D26268E]\n\t(No symbol) [0x00007FF67D2B30F0]\n\t(No symbol) [0x00007FF67D2B2780]\n\t(No symbol) [0x00007FF67D2A70A3]\n\t(No symbol) [0x00007FF67D2712DF]\n\t(No symbol) [0x00007FF67D272441]\n\tGetHandleVerifier [0x00007FF67D72C58D+3375821]\n\tGetHandleVerifier [0x00007FF67D777987+3684039]\n\tGetHandleVerifier [0x00007FF67D76CDAB+3640043]\n\tGetHandleVerifier [0x00007FF67D4BB7C6+816390]\n\t(No symbol) [0x00007FF67D37B77F]\n\t(No symbol) [0x00007FF67D3775A4]\n\t(No symbol) [0x00007FF67D377740]\n\t(No symbol) [0x00007FF67D36659F]\n\tBaseThreadInitThunk [0x00007FFB671D7374+20]\n\tRtlUserThreadStart [0x00007FFB6741CC91+33]\n"
     ]
    }
   ],
   "source": [
    "# Crear una carpeta para las descargas si no existe\n",
    "download_dir = os.path.join(os.getcwd(), \"descargas\\Fuel_rate\")\n",
    "if not os.path.exists(download_dir):\n",
    "    os.makedirs(download_dir)\n",
    "print(download_dir)\n",
    "# Configura el WebDriver (asegúrate de tener el driver correspondiente)\n",
    "options = webdriver.ChromeOptions()\n",
    "options.add_argument(\"--window-size=800,640\")\n",
    "#Directorio predeterminado para descargar los archivos\n",
    "prefs = {\n",
    "    \"download.default_directory\": download_dir,\n",
    "    \"download.prompt_for_download\": False,       \n",
    "    \"download.directory_upgrade\": True,          \n",
    "    \"safebrowsing.enabled\": True                 \n",
    "}\n",
    "options.add_experimental_option(\"prefs\", prefs)\n",
    "service = Service(executable_path=\"chromedriver_win64\\chromedriver.exe\") #Ruta del chromedriver\n",
    "options.headless = True  # Enable headless mode\n",
    "#options.add_argument(\"--window-size=800,640\")\n",
    "driver = webdriver.Chrome(service=service, options=options)\n",
    "driver.get('https://open.canada.ca/data/en/dataset/98f1a129-f628-4ce4-b24d-6f16bf24dd64#wb-auto-6') # URL pagina de la data\n",
    "\n",
    "try:\n",
    "    wait = WebDriverWait(driver, 40)\n",
    "    \n",
    "    # Paso 1: Encontrar el contenedor que tiene los enlaces a las subpáginas\n",
    "    main_section = wait.until(EC.presence_of_element_located((By.CSS_SELECTOR, 'section#dataset-resources.resources')))\n",
    "    print(\"main_section\",main_section)\n",
    "    # Buscar los enlaces a las subpáginas (donde están los datasets)\n",
    "    links = main_section.find_elements(By.CSS_SELECTOR, 'a.heading.resource-heading')\n",
    "    print(links)\n",
    "    # Limitar la iteración a los primeros 8 enlaces\n",
    "    max_links = 8\n",
    "    link_count = 0  # Contador para los enlaces procesados\n",
    "\n",
    "    # Iterar sobre cada enlace a la subpágina\n",
    "    for link in links:\n",
    "        if link_count >= max_links:  # Rompe el loop si ya se procesaron los primeros 5 enlaces\n",
    "            break\n",
    "\n",
    "        href = link.get_attribute(\"href\")  # Obtener el href de la subpágina\n",
    "        print(f\"Navegando a: {href}\")\n",
    "        driver.get(href)  # Navegar a la subpágina\n",
    "        \n",
    "        # Buscar los enlaces de los archivos en la subpágina\n",
    "        try:\n",
    "            # Esperar a que carguen los elementos en la nueva página\n",
    "            subpage_wait = WebDriverWait(driver, 20)\n",
    "            # Encontrar todos los enlaces a archivos CSV en la nueva página\n",
    "            csv_links = subpage_wait.until(EC.presence_of_all_elements_located((By.CSS_SELECTOR, 'a[href*=\"csv\"]')))\n",
    "            \n",
    "            # Descargar cada archivo CSV encontrado\n",
    "            for csv_link in csv_links:\n",
    "                file_href = csv_link.get_attribute(\"href\")\n",
    "                file_name = file_href.split('/')[-1]  # Obtener el nombre del archivo\n",
    "                file_path = os.path.join(download_dir, file_name)\n",
    "\n",
    "                # Comprobar si el archivo ya existe\n",
    "                if not os.path.exists(file_path):\n",
    "                    print(f\"Descargando archivo: {file_href}\")\n",
    "                    driver.get(file_href)  # Descargar el archivo automáticamente\n",
    "                else:\n",
    "                    print(f\"El archivo {file_name} ya existe. Saltando descarga.\")\n",
    "\n",
    "        except TimeoutException:\n",
    "            print(\"No se encontraron archivos CSV en la subpágina.\")\n",
    "\n",
    "        # Volver a la página anterior para continuar con los otros enlaces\n",
    "        driver.back()\n",
    "\n",
    "        link_count += 1  # Incrementar el contador después de procesar un enlace\n",
    "\n",
    "except TimeoutException:\n",
    "    print(\"No se encontraron los elementos dentro del tiempo de espera.\")\n",
    "    print(driver.page_source)  # Imprime el HTML para inspeccionar qué está cargando\n",
    "\n",
    "finally:\n",
    "    driver.quit()  # Cerrar el WebDriver al finalizar\n"
   ]
  }
 ],
 "metadata": {
  "kernelspec": {
   "display_name": "Python 3",
   "language": "python",
   "name": "python3"
  },
  "language_info": {
   "codemirror_mode": {
    "name": "ipython",
    "version": 3
   },
   "file_extension": ".py",
   "mimetype": "text/x-python",
   "name": "python",
   "nbconvert_exporter": "python",
   "pygments_lexer": "ipython3",
   "version": "3.11.4"
  }
 },
 "nbformat": 4,
 "nbformat_minor": 2
}
