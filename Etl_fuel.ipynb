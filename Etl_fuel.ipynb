{
 "cells": [
  {
   "cell_type": "markdown",
   "metadata": {},
   "source": [
    "#### Fuel data\n",
    "\n",
    "Para comprender mejor estos datos, a continuacion veremos algunas de las columnas que representan:\n",
    "\n",
    "#### **Vehículos tradicionales/híbridos**\n",
    "archivo: **fuel-consumption-ratings**\n",
    "- **Año** El año utilizado por el fabricante para designar un modelo de vehículo.\n",
    "- **Marca** El fabricante del vehículo\n",
    "- **Modelo** El nombre del modelo del vehículo.\n",
    "- **ategoría de vehículo** Clasificación de vehículos basada en el volumen interior para automóviles y el peso bruto vehicular para camionetas ligeras\n",
    "- **Desplazamiento (L)** El volumen total de todos los cilindros (en litros)\n",
    "- **Cilindros** El número de cilindros del motor.\n",
    "- **Transmisión** El tipo de transmisión y el número de informes/velocidades.\n",
    "- **Tipo de combustible** El tipo de combustible utilizado para impulsar el vehículo.\n",
    "- **Ciudad (L/100 km)** Clasificación del consumo de combustible en ciudad mostrada en litros cada 100 kilómetros\n",
    "- **Carretera (L/100 km)** Clasificación del consumo de combustible en carretera mostrada en litros cada 100 kilómetros\n",
    "- **Combinado (L/100 km)** Clasificación de consumo de combustible combinado mostrado en litros cada 100 kilómetros\n",
    "- **Combinado (mpg)** La clasificación combinada expresada en millas por galón imperial (mpg)\n",
    "- **Emisiones de CO2 (g/km)** Las emisiones de dióxido de carbono de los vehículos se muestran en gramos por kilómetro para conducción combinada en ciudad y carretera.\n",
    "- **índice de CO2** Emisiones de escape de dióxido de carbono clasificadas en una escala del 1 (peor) al 10 (mejor)\n",
    "- **índice de smog** Las emisiones de los tubos de escape de contaminantes que causan smog se clasifican en una escala del 1 (peor) al 10 (mejor)\n",
    "\n",
    "#### **Vehículos eléctricos híbridos enchufables**\n",
    "archivo: **plug-in-hybrid-electric-vehicles**\n",
    "\n",
    "- **Año** del modelo El año utilizado por el fabricante para designar un modelo de vehículo.\n",
    "- **Marca** El fabricante del vehículo.\n",
    "- **Modelo** El nombre del modelo del vehículo.\n",
    "- **Categoría de vehículo** La clasificación del vehículo basada en el volumen interior para automóviles y el peso bruto vehicular para camionetas livianas.\n",
    "- **Motor (kW)** La potencia máxima de un motor eléctrico (en kilovatios)\n",
    "- **Desplazamiento (L)** El volumen total de todos los cilindros (en litros)\n",
    "- **Cilindros** El número de cilindros en el motor.\n",
    "- **Transmisión** El tipo de transmisión y el número de marchas/velocidades.\n",
    "- **Tipo de combustible 1** El tipo de combustible utilizado para impulsar el vehículo en modo eléctrico.\n",
    "- **Le combinado/100 km** La clasificación de consumo de combustible combinado para funcionamiento en modo eléctrico expresado en litros equivalentes de gasolina cada 100 kilómetros. Entre paréntesis se muestra el consumo de electricidad en kilovatios hora cada 100 kilómetros y el consumo de gasolina (si corresponde) en litros cada 100 kilómetros.\n",
    "- **Autonomía 1** Distancia de conducción estimada (en kilómetros) con una batería completamente cargada\n",
    "- **Tiempo de carga (horas)** El período de tiempo estimado (en horas) para recargar completamente la batería a 240 voltios\n",
    "- **Tipo de combustible 2** El tipo de combustible utilizado para impulsar el vehículo en modo solo gasolina.\n",
    "- **Ciudad (L/100 km)** La clasificación de consumo de combustible en ciudad para el modo gasolina solo se muestra en litros cada 100 kilómetros.\n",
    "- **Carretera (L/100 km)** La clasificación de consumo de combustible en carretera para el modo gasolina solo se muestra en litros cada 100 kilómetros.\n",
    "- **Combinado (L/100 km)** La clasificación de consumo de combustible combinado para el modo gasolina solo se muestra en litros cada 100 kilómetros.\n",
    "- **Rango 2** La distancia estimada recorrida con el tanque lleno de combustible.\n",
    "- **Emisiones de CO2 (g/km)** Emisiones de escape de dióxido de carbono del vehículo mostradas en gramos por kilómetro para conducción combinada en ciudad y carretera\n",
    "- **Índice de CO2** Emisiones de escape de dióxido de carbono clasificadas en una escala del 1 (peor) al 10 (mejor)\n",
    "- **Índice de smog** Emisiones de escape de contaminantes que causan smog clasificadas en una escala del 1 (peor) al 10 (mejor)\n",
    "\n",
    "#### **vehículos eléctricos de batería**\n",
    "archivo: battery-electric-vehicles\n",
    "\n",
    "- **Año del modelo** El año utilizado por el fabricante para designar un modelo de vehículo.\n",
    "- **Marca** El fabricante del vehículo.\n",
    "- **Modelo** El nombre del modelo del vehículo.\n",
    "- **Categoría de vehículo** La clasificación del vehículo basada en el volumen interior para automóviles y el peso bruto - vehicular para camionetas livianas.\n",
    "- **Motor (kW)** La potencia máxima de un motor eléctrico (en kilovatios)\n",
    "- **Transmisión** El tipo de transmisión y el número de marchas/velocidades.\n",
    "- **Tipo de combustible** El tipo de combustible utilizado para impulsar el vehículo.\n",
    "- **Ciudad (kWh/100 km)** La clasificación de consumo de combustible en ciudad se muestra en kilovatios hora cada 100 kilómetros.\n",
    "- **Carretera (kWh/100 km)** La clasificación de consumo de combustible en carretera se muestra en kilovatios hora cada 100 - kilómetros.\n",
    "- **Combinado (kWh/100 km)** La clasificación de consumo de combustible combinado se muestra en kilovatios hora cada 100 - kilómetros.\n",
    "- **Ciudad (Le/100 km)** Índice de consumo de combustible en ciudad expresado en litros equivalentes de gasolina cada 100 - kilómetros.\n",
    "- **Carretera (Le/100 km)** Índice de consumo de combustible en carretera expresado en litros de gasolina equivalente cada 100 - **kilómetros.\n",
    "- **Combinado (Le/100 km)** El consumo combinado de combustible se expresa en litros equivalentes de gasolina cada 100 - kilómetros.\n",
    "- **Autonomía (km)** La distancia de conducción estimada (en kilómetros) recorrida con una batería completamente cargada.\n",
    "- **Emisiones de CO2 (g/km)** Emisiones de escape de dióxido de carbono del vehículo mostradas en gramos por kilómetro para conducción combinada en ciudad y carretera\n",
    "- **Índice de CO2** Emisiones de escape de dióxido de carbono clasificadas en una escala del 1 (peor) al 10 (mejor)\n",
    "- **Índice de smog** Emisiones de escape de contaminantes que causan smog clasificadas en una escala del 1 (peor) al 10 (mejor)\n",
    "- **Tiempo de carga (horas)** El período de tiempo estimado (en horas) para recargar completamente la batería a 240 voltios."
   ]
  },
  {
   "cell_type": "code",
   "execution_count": null,
   "metadata": {},
   "outputs": [],
   "source": [
    "import pandas as pd"
   ]
  },
  {
   "cell_type": "code",
   "execution_count": null,
   "metadata": {},
   "outputs": [],
   "source": [
    "df_electric = pd.read_csv('descargas/Fuel_rate/my2012-2024-battery-electric-vehicles.csv')\n",
    "df_hybrid = pd.read_csv('descargas/Fuel_rate/my2012-2024-plug-in-hybrid-electric-vehicles.csv')\n",
    "df_combustion = pd.read_csv('descargas/Fuel_rate/my2024-fuel-consumption-ratings.csv', encoding='latin-1')"
   ]
  },
  {
   "cell_type": "code",
   "execution_count": null,
   "metadata": {},
   "outputs": [],
   "source": [
    "df_electric.value_counts(subset='Fuel type')"
   ]
  },
  {
   "cell_type": "code",
   "execution_count": null,
   "metadata": {},
   "outputs": [],
   "source": [
    "df_hybrid.value_counts(subset='Fuel type 1')"
   ]
  },
  {
   "cell_type": "markdown",
   "metadata": {},
   "source": [
    "La B representa que el auto utiliza electricidad y Z o X que tambien puede utilizar gasolina, pero en los casos por ejemplo que poseen un *, es que no utilizaron gasolina durante las pruebas."
   ]
  },
  {
   "cell_type": "markdown",
   "metadata": {},
   "source": [
    "### **Presupuesto**\n",
    "\n",
    "Para el calculo del presupuesto, se procedio a calcular el gasto de los vehiculos por km, por lo que debemos convertir la variable de gasto cada 100 km ya sea en kWh o litros de nafta para ver el gasto por km. Ademas, al no poseer mas informacion acerca del tipo de la unidad, se calculara un promedio para los 2 tipos de energia que puedan llegar a consumir.\n",
    "\n",
    "#### **precio del kW**\n",
    "\n",
    "Durante el año 2023, el promedio del gasto del kW es de 13 centavos de dolar pero al encontrarnos con viajes realizados en el estado de New York, el precio promedio del kW en 2022 fue de 22.64 ¢/kWh\ty durante el 2023 fue de 19.23¢ / kWh por lo que se realizaran los calculos con un precio de 20 centavos de dolar por cada kWh. **1 kWh = $0.2**\n",
    "\n",
    "#### **precio del combustible**\n",
    "El precio de la gasolina en USA puede variar depende la zona, variando desde 3 a 4 dolares por galon del combustible.\n",
    "\n",
    "Se utilizara de referencia el precio de 3.5 dolares cada galon. 1 galón equivale a aproximadamente 3.785 litros por lo que si utilizamos 3.5 dolares por galon, el litro de combustible costaria 0.92 dolares. \n",
    "\n",
    "#### **Desgaste vehicular**\n",
    "\n",
    "A diferencia de los autos convencionales, los eléctricos tienen menos partes móviles, lo que se traduce en menos desgaste y, por ende, menos gastos de mantenimiento rutinario. Existen algunos factores que diferenciamos de los autos convencionales:\n",
    "\n",
    "En un auto eléctrico no hay que hacer **cambios de aceite** y **filtros de aceite**, no hay que colocar **líquido refrigerante**, no hay **bujías**, ni **caño de escape**, **motor de arranque**, **radiador de agua**, **correas de distribución o mangueras**. **La transmisión es directa**, no hay **caja de velocidades**, por lo tanto tampoco hay **varillaje ni embrague**.\n",
    "\n",
    "Segun nuestras fuentes, el gasto en mantenimiento para autos electricos es aproximadamente la mitad que el gasto de los vehiculos convencionales.\n",
    "\n",
    "Para el desgaste del vehiculo convencional, si consideramos segun la AAA, el costo del mantenimiento y reparo del vehiculo es de 0.09 dolares por milla, lo cual serian 0.15 dolares por km aproximadamente y 0.07 dolares por km para autos electricos.\n",
    "\n",
    "fuente al final del archivo."
   ]
  },
  {
   "cell_type": "markdown",
   "metadata": {},
   "source": [
    "### Ejemplificacion del caso\n",
    "#### Caso 1) Vehiculo electrico\n",
    "\n",
    "Supongamos que un automovil electrico gasta 10 kWh cada 100km. Este gasto lo dividimos para obtener el gasto por km. Luego se multiplica este valor por el precio que cuesta la electricidad en este caso 0.2 dolares por kWh. \n",
    "\n",
    "(0.1 kWh/km) x (0.2 USD/kWh) = 0.02 USD/km\n",
    "\n",
    "#### Caso 2) Vehiculo convencional\n",
    "\n",
    "Supongamos que un automovil convencional gasta 5 litros de gasolina cada 100km. Este gasto lo dividimos para obtener el gasto por km. Luego se multiplica este valor por el precio que cuesta la gasolina en este caso 0.92 dolares por litro.\n",
    "\n",
    "(0.05 L/km) x (0.92 USD/L) = 0.046 USD/km"
   ]
  },
  {
   "cell_type": "markdown",
   "metadata": {},
   "source": [
    "Fuentes\n",
    "\n",
    "kW:\n",
    "- https://www.energysage.com/local-data/electricity-cost/#:~:text=As%20of%20February%202023%2C%20the,based%20on%20where%20you%20live.\n",
    "\n",
    "Fuel:\n",
    "- https://www.eia.gov/petroleum/gasdiesel/\n",
    "\n",
    "Maintenance:\n",
    "- https://wrrv.com/the-average-cost-of-car-maintenance-per-year-in-new-york/\n",
    "-->\n",
    "- https://www.thebalancemoney.com/average-car-maintenance-cost-4775765#:~:text=If%20you%20drive%2010%2C000%20miles,to%20budget%20for%20these%20expenses.\n",
    "\n",
    "Maintenance electric cars:\n",
    "- https://www.greencars.com/es-us/perspectivas-de-expertos/costo-de-mantenimiento-de-un-automovil-electrico"
   ]
  }
 ],
 "metadata": {
  "language_info": {
   "name": "python"
  }
 },
 "nbformat": 4,
 "nbformat_minor": 2
}
