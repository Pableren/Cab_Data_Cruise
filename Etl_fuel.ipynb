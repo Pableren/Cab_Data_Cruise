{
 "cells": [
  {
   "cell_type": "markdown",
   "metadata": {},
   "source": [
    "#### Fuel data\n",
    "\n",
    "Para comprender mejor estos datos, a continuacion veremos algunas de las columnas que representan:\n",
    "\n",
    "#### **Vehículos tradicionales/híbridos**\n",
    "archivo: **fuel-consumption-ratings**\n",
    "- **Año** El año utilizado por el fabricante para designar un modelo de vehículo.\n",
    "- **Marca** El fabricante del vehículo\n",
    "- **Modelo** El nombre del modelo del vehículo.\n",
    "- **Categoría de vehículo** Clasificación de vehículos basada en el volumen interior para automóviles y el peso bruto vehicular para camionetas ligeras\n",
    "- **Desplazamiento (L)** El volumen total de todos los cilindros (en litros)\n",
    "- **Cilindros** El número de cilindros del motor.\n",
    "- **Transmisión** El tipo de transmisión y el número de informes/velocidades.\n",
    "- **Tipo de combustible** El tipo de combustible utilizado para impulsar el vehículo.\n",
    "- **Ciudad (L/100 km)** Clasificación del consumo de combustible en ciudad mostrada en litros cada 100 kilómetros\n",
    "- **Carretera (L/100 km)** Clasificación del consumo de combustible en carretera mostrada en litros cada 100 kilómetros\n",
    "- **Combinado (L/100 km)** Clasificación de consumo de combustible combinado mostrado en litros cada 100 kilómetros\n",
    "- **Combinado (mpg)** La clasificación combinada expresada en millas por galón imperial (mpg)\n",
    "- **Emisiones de CO2 (g/km)** Las emisiones de dióxido de carbono de los vehículos se muestran en gramos por kilómetro para conducción combinada en ciudad y carretera.\n",
    "- **índice de CO2** Emisiones de escape de dióxido de carbono clasificadas en una escala del 1 (peor) al 10 (mejor)\n",
    "- **índice de smog** Las emisiones de los tubos de escape de contaminantes que causan smog se clasifican en una escala del 1 (peor) al 10 (mejor)\n",
    "\n",
    "#### **Vehículos eléctricos híbridos enchufables**\n",
    "archivo: **plug-in-hybrid-electric-vehicles**\n",
    "\n",
    "- **Año** del modelo El año utilizado por el fabricante para designar un modelo de vehículo.\n",
    "- **Marca** El fabricante del vehículo.\n",
    "- **Modelo** El nombre del modelo del vehículo.\n",
    "- **Categoría de vehículo** La clasificación del vehículo basada en el volumen interior para automóviles y el peso bruto vehicular para camionetas livianas.\n",
    "- **Motor (kW)** La potencia máxima de un motor eléctrico (en kilovatios)\n",
    "- **Desplazamiento (L)** El volumen total de todos los cilindros (en litros)\n",
    "- **Cilindros** El número de cilindros en el motor.\n",
    "- **Transmisión** El tipo de transmisión y el número de marchas/velocidades.\n",
    "- **Tipo de combustible 1** El tipo de combustible utilizado para impulsar el vehículo en modo eléctrico.\n",
    "- **Le combinado/100 km** La clasificación de consumo de combustible combinado para funcionamiento en modo eléctrico expresado en litros equivalentes de gasolina cada 100 kilómetros. Entre paréntesis se muestra el consumo de electricidad en kilovatios hora cada 100 kilómetros y el consumo de gasolina (si corresponde) en litros cada 100 kilómetros.\n",
    "- **Autonomía 1** Distancia de conducción estimada (en kilómetros) con una batería completamente cargada\n",
    "- **Tiempo de carga (horas)** El período de tiempo estimado (en horas) para recargar completamente la batería a 240 voltios\n",
    "- **Tipo de combustible 2** El tipo de combustible utilizado para impulsar el vehículo en modo solo gasolina.\n",
    "- **Ciudad (L/100 km)** La clasificación de consumo de combustible en ciudad para el modo gasolina solo se muestra en litros cada 100 kilómetros.\n",
    "- **Carretera (L/100 km)** La clasificación de consumo de combustible en carretera para el modo gasolina solo se muestra en litros cada 100 kilómetros.\n",
    "- **Combinado (L/100 km)** La clasificación de consumo de combustible combinado para el modo gasolina solo se muestra en litros cada 100 kilómetros.\n",
    "- **Rango 2** La distancia estimada recorrida con el tanque lleno de combustible.\n",
    "- **Emisiones de CO2 (g/km)** Emisiones de escape de dióxido de carbono del vehículo mostradas en gramos por kilómetro para conducción combinada en ciudad y carretera\n",
    "- **Índice de CO2** Emisiones de escape de dióxido de carbono clasificadas en una escala del 1 (peor) al 10 (mejor)\n",
    "- **Índice de smog** Emisiones de escape de contaminantes que causan smog clasificadas en una escala del 1 (peor) al 10 (mejor)\n",
    "\n",
    "#### **vehículos eléctricos de batería**\n",
    "archivo: battery-electric-vehicles\n",
    "\n",
    "- **Año del modelo** El año utilizado por el fabricante para designar un modelo de vehículo.\n",
    "- **Marca** El fabricante del vehículo.\n",
    "- **Modelo** El nombre del modelo del vehículo.\n",
    "- **Categoría de vehículo** La clasificación del vehículo basada en el volumen interior para automóviles y el peso bruto - vehicular para camionetas livianas.\n",
    "- **Motor (kW)** La potencia máxima de un motor eléctrico (en kilovatios)\n",
    "- **Transmisión** El tipo de transmisión y el número de marchas/velocidades.\n",
    "- **Tipo de combustible** El tipo de combustible utilizado para impulsar el vehículo.\n",
    "- **Ciudad (kWh/100 km)** La clasificación de consumo de combustible en ciudad se muestra en kilovatios hora cada 100 kilómetros.\n",
    "- **Carretera (kWh/100 km)** La clasificación de consumo de combustible en carretera se muestra en kilovatios hora cada 100 - kilómetros.\n",
    "- **Combinado (kWh/100 km)** La clasificación de consumo de combustible combinado se muestra en kilovatios hora cada 100 - kilómetros.\n",
    "- **Ciudad (Le/100 km)** Índice de consumo de combustible en ciudad expresado en litros equivalentes de gasolina cada 100 - kilómetros.\n",
    "- **Carretera (Le/100 km)** Índice de consumo de combustible en carretera expresado en litros de gasolina equivalente cada 100 - **kilómetros.\n",
    "- **Combinado (Le/100 km)** El consumo combinado de combustible se expresa en litros equivalentes de gasolina cada 100 - kilómetros.\n",
    "- **Autonomía (km)** La distancia de conducción estimada (en kilómetros) recorrida con una batería completamente cargada.\n",
    "- **Emisiones de CO2 (g/km)** Emisiones de escape de dióxido de carbono del vehículo mostradas en gramos por kilómetro para conducción combinada en ciudad y carretera\n",
    "- **Índice de CO2** Emisiones de escape de dióxido de carbono clasificadas en una escala del 1 (peor) al 10 (mejor)\n",
    "- **Índice de smog** Emisiones de escape de contaminantes que causan smog clasificadas en una escala del 1 (peor) al 10 (mejor)\n",
    "- **Tiempo de carga (horas)** El período de tiempo estimado (en horas) para recargar completamente la batería a 240 voltios."
   ]
  },
  {
   "cell_type": "code",
   "execution_count": 1,
   "metadata": {},
   "outputs": [],
   "source": [
    "import pandas as pd"
   ]
  },
  {
   "cell_type": "code",
   "execution_count": 2,
   "metadata": {},
   "outputs": [],
   "source": [
    "df_electric = pd.read_csv('descargas/Fuel_rate/my2012-2024-battery-electric-vehicles.csv')\n",
    "df_hybrid = pd.read_csv('descargas/Fuel_rate/my2012-2024-plug-in-hybrid-electric-vehicles.csv')\n",
    "df_combustion = pd.read_csv('descargas/Fuel_rate/my2024-fuel-consumption-ratings.csv', encoding='latin-1')"
   ]
  },
  {
   "cell_type": "code",
   "execution_count": 3,
   "metadata": {},
   "outputs": [
    {
     "data": {
      "text/plain": [
       "Fuel type\n",
       "B    687\n",
       "Name: count, dtype: int64"
      ]
     },
     "execution_count": 3,
     "metadata": {},
     "output_type": "execute_result"
    }
   ],
   "source": [
    "df_electric.value_counts(subset='Fuel type')"
   ]
  },
  {
   "cell_type": "code",
   "execution_count": 4,
   "metadata": {},
   "outputs": [
    {
     "data": {
      "text/plain": [
       "Fuel type 1\n",
       "B/Z*    133\n",
       "B/X*     92\n",
       "B        39\n",
       "B/Z      21\n",
       "B/X      11\n",
       "Name: count, dtype: int64"
      ]
     },
     "execution_count": 4,
     "metadata": {},
     "output_type": "execute_result"
    }
   ],
   "source": [
    "df_hybrid.value_counts(subset='Fuel type 1')"
   ]
  },
  {
   "cell_type": "code",
   "execution_count": 5,
   "metadata": {},
   "outputs": [
    {
     "name": "stdout",
     "output_type": "stream",
     "text": [
      "(687, 18)\n",
      "(296, 20)\n",
      "(768, 15)\n"
     ]
    }
   ],
   "source": [
    "print(df_electric.shape)\n",
    "print(df_hybrid.shape)\n",
    "print(df_combustion.shape)"
   ]
  },
  {
   "cell_type": "code",
   "execution_count": 6,
   "metadata": {},
   "outputs": [],
   "source": [
    "df_electric.rename(mapper={'Combined (kWh/100 km)':'gasto',\n",
    "                           'CO2 emissions (g/km)':'co2_emissions'},axis=1,inplace=True)"
   ]
  },
  {
   "cell_type": "code",
   "execution_count": 7,
   "metadata": {},
   "outputs": [],
   "source": [
    "df_electric = df_electric[['gasto','co2_emissions']]\n",
    "df_electric['car_type'] = 2"
   ]
  },
  {
   "cell_type": "code",
   "execution_count": 8,
   "metadata": {},
   "outputs": [
    {
     "data": {
      "text/html": [
       "<div>\n",
       "<style scoped>\n",
       "    .dataframe tbody tr th:only-of-type {\n",
       "        vertical-align: middle;\n",
       "    }\n",
       "\n",
       "    .dataframe tbody tr th {\n",
       "        vertical-align: top;\n",
       "    }\n",
       "\n",
       "    .dataframe thead th {\n",
       "        text-align: right;\n",
       "    }\n",
       "</style>\n",
       "<table border=\"1\" class=\"dataframe\">\n",
       "  <thead>\n",
       "    <tr style=\"text-align: right;\">\n",
       "      <th></th>\n",
       "      <th>gasto</th>\n",
       "      <th>co2_emissions</th>\n",
       "      <th>car_type</th>\n",
       "    </tr>\n",
       "  </thead>\n",
       "  <tbody>\n",
       "    <tr>\n",
       "      <th>673</th>\n",
       "      <td>29.5</td>\n",
       "      <td>0</td>\n",
       "      <td>2</td>\n",
       "    </tr>\n",
       "    <tr>\n",
       "      <th>639</th>\n",
       "      <td>28.7</td>\n",
       "      <td>0</td>\n",
       "      <td>2</td>\n",
       "    </tr>\n",
       "  </tbody>\n",
       "</table>\n",
       "</div>"
      ],
      "text/plain": [
       "     gasto  co2_emissions  car_type\n",
       "673   29.5              0         2\n",
       "639   28.7              0         2"
      ]
     },
     "execution_count": 8,
     "metadata": {},
     "output_type": "execute_result"
    }
   ],
   "source": [
    "df_electric.sample(2)\n"
   ]
  },
  {
   "cell_type": "code",
   "execution_count": 9,
   "metadata": {},
   "outputs": [
    {
     "data": {
      "text/plain": [
       "22.546579330422126"
      ]
     },
     "execution_count": 9,
     "metadata": {},
     "output_type": "execute_result"
    }
   ],
   "source": [
    "df_electric.gasto.mean()"
   ]
  },
  {
   "cell_type": "code",
   "execution_count": 10,
   "metadata": {},
   "outputs": [
    {
     "data": {
      "text/html": [
       "<div>\n",
       "<style scoped>\n",
       "    .dataframe tbody tr th:only-of-type {\n",
       "        vertical-align: middle;\n",
       "    }\n",
       "\n",
       "    .dataframe tbody tr th {\n",
       "        vertical-align: top;\n",
       "    }\n",
       "\n",
       "    .dataframe thead th {\n",
       "        text-align: right;\n",
       "    }\n",
       "</style>\n",
       "<table border=\"1\" class=\"dataframe\">\n",
       "  <thead>\n",
       "    <tr style=\"text-align: right;\">\n",
       "      <th></th>\n",
       "      <th>Model year</th>\n",
       "      <th>Make</th>\n",
       "      <th>Model</th>\n",
       "      <th>Vehicle class</th>\n",
       "      <th>Motor (kW)</th>\n",
       "      <th>Engine size (L)</th>\n",
       "      <th>Cylinders</th>\n",
       "      <th>Transmission</th>\n",
       "      <th>Fuel type 1</th>\n",
       "      <th>Combined Le/100 km</th>\n",
       "      <th>Range 1 (km)</th>\n",
       "      <th>Recharge time (h)</th>\n",
       "      <th>Fuel type 2</th>\n",
       "      <th>City (L/100 km)</th>\n",
       "      <th>Highway (L/100 km)</th>\n",
       "      <th>Combined (L/100 km)</th>\n",
       "      <th>Range 2 (km)</th>\n",
       "      <th>CO2 emissions (g/km)</th>\n",
       "      <th>CO2 rating</th>\n",
       "      <th>Smog rating</th>\n",
       "    </tr>\n",
       "  </thead>\n",
       "  <tbody>\n",
       "    <tr>\n",
       "      <th>199</th>\n",
       "      <td>2022</td>\n",
       "      <td>Mitsubishi</td>\n",
       "      <td>Outlander PHEV AWD</td>\n",
       "      <td>Sport utility vehicle: Small</td>\n",
       "      <td>70</td>\n",
       "      <td>2.4</td>\n",
       "      <td>4</td>\n",
       "      <td>A1</td>\n",
       "      <td>B/X*</td>\n",
       "      <td>3.2 ([28.2 kWh + 0.0 L]/100 km)</td>\n",
       "      <td>39</td>\n",
       "      <td>4.0</td>\n",
       "      <td>X</td>\n",
       "      <td>9.2</td>\n",
       "      <td>9.0</td>\n",
       "      <td>9.1</td>\n",
       "      <td>470</td>\n",
       "      <td>103</td>\n",
       "      <td>9.0</td>\n",
       "      <td>7.0</td>\n",
       "    </tr>\n",
       "    <tr>\n",
       "      <th>125</th>\n",
       "      <td>2020</td>\n",
       "      <td>Mercedes-Benz</td>\n",
       "      <td>S 560e</td>\n",
       "      <td>Full-size</td>\n",
       "      <td>90</td>\n",
       "      <td>3.0</td>\n",
       "      <td>6</td>\n",
       "      <td>A9</td>\n",
       "      <td>B/Z*</td>\n",
       "      <td>3.7 ([32.7 kWh + 0.0 L]/100 km)</td>\n",
       "      <td>31</td>\n",
       "      <td>1.3</td>\n",
       "      <td>Z</td>\n",
       "      <td>11.4</td>\n",
       "      <td>9.0</td>\n",
       "      <td>10.3</td>\n",
       "      <td>785</td>\n",
       "      <td>127</td>\n",
       "      <td>9.0</td>\n",
       "      <td>3.0</td>\n",
       "    </tr>\n",
       "  </tbody>\n",
       "</table>\n",
       "</div>"
      ],
      "text/plain": [
       "     Model year           Make               Model  \\\n",
       "199        2022     Mitsubishi  Outlander PHEV AWD   \n",
       "125        2020  Mercedes-Benz              S 560e   \n",
       "\n",
       "                    Vehicle class  Motor (kW)  Engine size (L)  Cylinders  \\\n",
       "199  Sport utility vehicle: Small          70              2.4          4   \n",
       "125                     Full-size          90              3.0          6   \n",
       "\n",
       "    Transmission Fuel type 1               Combined Le/100 km  Range 1 (km)  \\\n",
       "199           A1        B/X*  3.2 ([28.2 kWh + 0.0 L]/100 km)            39   \n",
       "125           A9        B/Z*  3.7 ([32.7 kWh + 0.0 L]/100 km)            31   \n",
       "\n",
       "     Recharge time (h) Fuel type 2  City (L/100 km)  Highway (L/100 km)  \\\n",
       "199                4.0           X              9.2                 9.0   \n",
       "125                1.3           Z             11.4                 9.0   \n",
       "\n",
       "     Combined (L/100 km)  Range 2 (km)  CO2 emissions (g/km)  CO2 rating  \\\n",
       "199                  9.1           470                   103         9.0   \n",
       "125                 10.3           785                   127         9.0   \n",
       "\n",
       "     Smog rating  \n",
       "199          7.0  \n",
       "125          3.0  "
      ]
     },
     "execution_count": 10,
     "metadata": {},
     "output_type": "execute_result"
    }
   ],
   "source": [
    "df_hybrid.sample(2)"
   ]
  },
  {
   "cell_type": "code",
   "execution_count": 11,
   "metadata": {},
   "outputs": [],
   "source": [
    "df_hybrid.rename(mapper={'Combined Le/100 km':'gasto'\n",
    "                         ,'CO2 emissions (g/km)':'co2_emissions'},axis=1,inplace=True)"
   ]
  },
  {
   "cell_type": "markdown",
   "metadata": {},
   "source": [
    "#### Consumo hibrido\n",
    "El primer valor de mi columna \"Combined\" o la columna que expresa el gasto energetico del vehiculo, se encuentra medida en litros de gasolina.\n",
    "El primer valor dentro del parentesis hace referencia a los kWh que consume en 100 km y el segundo valor, la cantidad de litros de gasolina consumidos en 100 km. Para obtener el primer valor simplemente se divide a la cantidad de kWh cada 100km por 8.9 que es su equivalente, es decir que 1 litro de gasolina contiene energía equivalente a 8,9 kWh de electricidad."
   ]
  },
  {
   "cell_type": "code",
   "execution_count": 12,
   "metadata": {},
   "outputs": [],
   "source": [
    "df_hybrid['gasto'] = df_hybrid['gasto'].str.slice(0, 3)\n",
    "df_hybrid['gasto'] = df_hybrid['gasto'].astype(float)"
   ]
  },
  {
   "cell_type": "code",
   "execution_count": 13,
   "metadata": {},
   "outputs": [],
   "source": [
    "df_hybrid = df_hybrid[['gasto','co2_emissions']]\n",
    "df_hybrid['car_type'] = 1"
   ]
  },
  {
   "cell_type": "code",
   "execution_count": 14,
   "metadata": {},
   "outputs": [
    {
     "data": {
      "text/plain": [
       "3.4554054054054055"
      ]
     },
     "execution_count": 14,
     "metadata": {},
     "output_type": "execute_result"
    }
   ],
   "source": [
    "df_hybrid.gasto.mean()"
   ]
  },
  {
   "cell_type": "code",
   "execution_count": 15,
   "metadata": {},
   "outputs": [
    {
     "data": {
      "text/html": [
       "<div>\n",
       "<style scoped>\n",
       "    .dataframe tbody tr th:only-of-type {\n",
       "        vertical-align: middle;\n",
       "    }\n",
       "\n",
       "    .dataframe tbody tr th {\n",
       "        vertical-align: top;\n",
       "    }\n",
       "\n",
       "    .dataframe thead th {\n",
       "        text-align: right;\n",
       "    }\n",
       "</style>\n",
       "<table border=\"1\" class=\"dataframe\">\n",
       "  <thead>\n",
       "    <tr style=\"text-align: right;\">\n",
       "      <th></th>\n",
       "      <th>gasto</th>\n",
       "      <th>co2_emissions</th>\n",
       "      <th>car_type</th>\n",
       "    </tr>\n",
       "  </thead>\n",
       "  <tbody>\n",
       "    <tr>\n",
       "      <th>59</th>\n",
       "      <td>3.6</td>\n",
       "      <td>133</td>\n",
       "      <td>1</td>\n",
       "    </tr>\n",
       "    <tr>\n",
       "      <th>5</th>\n",
       "      <td>2.9</td>\n",
       "      <td>50</td>\n",
       "      <td>1</td>\n",
       "    </tr>\n",
       "    <tr>\n",
       "      <th>288</th>\n",
       "      <td>1.8</td>\n",
       "      <td>31</td>\n",
       "      <td>1</td>\n",
       "    </tr>\n",
       "  </tbody>\n",
       "</table>\n",
       "</div>"
      ],
      "text/plain": [
       "     gasto  co2_emissions  car_type\n",
       "59     3.6            133         1\n",
       "5      2.9             50         1\n",
       "288    1.8             31         1"
      ]
     },
     "execution_count": 15,
     "metadata": {},
     "output_type": "execute_result"
    }
   ],
   "source": [
    "df_hybrid.sample(3)"
   ]
  },
  {
   "cell_type": "code",
   "execution_count": 16,
   "metadata": {},
   "outputs": [],
   "source": [
    "df_combustion.rename(mapper={'Combined (L/100 km)':'gasto'\n",
    "                         ,'CO2 emissions (g/km)':'co2_emissions'},axis=1,inplace=True)"
   ]
  },
  {
   "cell_type": "code",
   "execution_count": 17,
   "metadata": {},
   "outputs": [
    {
     "data": {
      "text/plain": [
       "Fuel type\n",
       "Z    409\n",
       "X    335\n",
       "D     18\n",
       "E      6\n",
       "Name: count, dtype: int64"
      ]
     },
     "execution_count": 17,
     "metadata": {},
     "output_type": "execute_result"
    }
   ],
   "source": [
    "df_combustion['Fuel type'].value_counts()"
   ]
  },
  {
   "cell_type": "code",
   "execution_count": 18,
   "metadata": {},
   "outputs": [],
   "source": [
    "df_combustion = df_combustion[['gasto','co2_emissions']]\n",
    "df_combustion['car_type'] = 0"
   ]
  },
  {
   "cell_type": "code",
   "execution_count": 19,
   "metadata": {},
   "outputs": [
    {
     "data": {
      "text/plain": [
       "11.071223958333334"
      ]
     },
     "execution_count": 19,
     "metadata": {},
     "output_type": "execute_result"
    }
   ],
   "source": [
    "df_combustion.gasto.mean()"
   ]
  },
  {
   "cell_type": "markdown",
   "metadata": {},
   "source": [
    "Unimos los datos para preservar la informacion"
   ]
  },
  {
   "cell_type": "code",
   "execution_count": 20,
   "metadata": {},
   "outputs": [],
   "source": [
    "df_fuel = [df_electric,df_hybrid,df_combustion]\n",
    "df_fuel = pd.concat(df_fuel, ignore_index=True)"
   ]
  },
  {
   "cell_type": "code",
   "execution_count": 21,
   "metadata": {},
   "outputs": [
    {
     "data": {
      "text/html": [
       "<div>\n",
       "<style scoped>\n",
       "    .dataframe tbody tr th:only-of-type {\n",
       "        vertical-align: middle;\n",
       "    }\n",
       "\n",
       "    .dataframe tbody tr th {\n",
       "        vertical-align: top;\n",
       "    }\n",
       "\n",
       "    .dataframe thead th {\n",
       "        text-align: right;\n",
       "    }\n",
       "</style>\n",
       "<table border=\"1\" class=\"dataframe\">\n",
       "  <thead>\n",
       "    <tr style=\"text-align: right;\">\n",
       "      <th></th>\n",
       "      <th>gasto</th>\n",
       "      <th>co2_emissions</th>\n",
       "      <th>car_type</th>\n",
       "    </tr>\n",
       "  </thead>\n",
       "  <tbody>\n",
       "    <tr>\n",
       "      <th>720</th>\n",
       "      <td>5.0</td>\n",
       "      <td>162</td>\n",
       "      <td>1</td>\n",
       "    </tr>\n",
       "    <tr>\n",
       "      <th>1182</th>\n",
       "      <td>7.7</td>\n",
       "      <td>181</td>\n",
       "      <td>0</td>\n",
       "    </tr>\n",
       "    <tr>\n",
       "      <th>1683</th>\n",
       "      <td>6.8</td>\n",
       "      <td>159</td>\n",
       "      <td>0</td>\n",
       "    </tr>\n",
       "    <tr>\n",
       "      <th>628</th>\n",
       "      <td>32.5</td>\n",
       "      <td>0</td>\n",
       "      <td>2</td>\n",
       "    </tr>\n",
       "    <tr>\n",
       "      <th>713</th>\n",
       "      <td>2.7</td>\n",
       "      <td>57</td>\n",
       "      <td>1</td>\n",
       "    </tr>\n",
       "  </tbody>\n",
       "</table>\n",
       "</div>"
      ],
      "text/plain": [
       "      gasto  co2_emissions  car_type\n",
       "720     5.0            162         1\n",
       "1182    7.7            181         0\n",
       "1683    6.8            159         0\n",
       "628    32.5              0         2\n",
       "713     2.7             57         1"
      ]
     },
     "execution_count": 21,
     "metadata": {},
     "output_type": "execute_result"
    }
   ],
   "source": [
    "df_fuel.sample(5)"
   ]
  },
  {
   "cell_type": "markdown",
   "metadata": {},
   "source": [
    "La B representa que el auto utiliza electricidad y Z o X que tambien puede utilizar gasolina, pero en los casos por ejemplo que poseen un *, es que no utilizaron gasolina durante las pruebas."
   ]
  },
  {
   "cell_type": "markdown",
   "metadata": {},
   "source": [
    "### **Presupuesto**\n",
    "\n",
    "Para el calculo del presupuesto, se procedio a calcular el gasto de los vehiculos por km, por lo que debemos convertir la variable de gasto cada 100 km ya sea en kWh o litros de nafta para ver el gasto por km. Ademas, al no poseer mas informacion acerca del tipo de la unidad, se calculara un promedio para los 2 tipos de energia que puedan llegar a consumir.\n",
    "\n",
    "#### **precio del kW**\n",
    "\n",
    "Durante el año 2023, el promedio del gasto del kW es de 13 centavos de dolar pero al encontrarnos con viajes realizados en el estado de New York, el precio promedio del kW en 2022 fue de 22.64 ¢/kWh\ty durante el 2023 fue de 19.23¢ / kWh por lo que se estiman que los calculos aproximados serian de 20 centavos de dolar por cada kWh, **1 kWh = $0.2** pero debido a que las diferentes referencias se convertiran los kWh a litros de gasolina.\n",
    "\n",
    "#### **precio del combustible**\n",
    "El precio de la gasolina en USA puede variar depende la zona, variando desde 3 a 4 dolares por galon del combustible.\n",
    "\n",
    "Se utilizara de referencia el precio de 3.5 dolares cada galon. 1 galón equivale a aproximadamente 3.785 litros por lo que si utilizamos 3.5 dolares por galon, el litro de combustible costaria **0.92 dolares**. \n",
    "\n",
    "#### **Desgaste vehicular**\n",
    "\n",
    "A diferencia de los autos convencionales, los eléctricos tienen menos partes móviles, lo que se traduce en menos desgaste y, por ende, menos gastos de mantenimiento rutinario. Existen algunos factores que diferenciamos de los autos convencionales:\n",
    "\n",
    "En un auto eléctrico no hay que hacer **cambios de aceite** y **filtros de aceite**, no hay que colocar **líquido refrigerante**, no hay **bujías**, ni **caño de escape**, **motor de arranque**, **radiador de agua**, **correas de distribución o mangueras**. **La transmisión es directa**, no hay **caja de velocidades**, por lo tanto tampoco hay **varillaje ni embrague**.\n",
    "\n",
    "Segun nuestras fuentes, el gasto en mantenimiento para autos electricos es aproximadamente la mitad que el gasto de los vehiculos convencionales.\n",
    "\n",
    "Para el desgaste del vehiculo convencional, si consideramos segun la AAA, el costo del mantenimiento y reparo del vehiculo es de 0.09 dolares por milla, lo cual serian 0.15 dolares por km aproximadamente y 0.07 dolares por km para autos electricos."
   ]
  },
  {
   "cell_type": "code",
   "execution_count": 24,
   "metadata": {},
   "outputs": [
    {
     "name": "stdout",
     "output_type": "stream",
     "text": [
      "combustible consumido promedio en 100km 11.071223958333334\n",
      "combustible consumido promedio(hibridos) en 100km 3.4554054054054055\n",
      "kWh consumidos promedio en 100km 22.546579330422126\n",
      "litros equivalentes a kWh consumidos promedio en 100km 2.533323520272149\n"
     ]
    }
   ],
   "source": [
    "print(\"combustible consumido promedio en 100km\",df_fuel[df_fuel['car_type']==0].gasto.mean())\n",
    "print(\"combustible consumido promedio(hibridos) en 100km\",df_fuel[df_fuel['car_type']==1].gasto.mean())\n",
    "print(\"kWh consumidos promedio en 100km\",df_fuel[df_fuel['car_type']==2].gasto.mean())\n",
    "print(\"litros equivalentes a kWh consumidos promedio en 100km\",df_fuel[df_fuel['car_type']==2].gasto.mean()/8.9)"
   ]
  },
  {
   "cell_type": "markdown",
   "metadata": {},
   "source": [
    "Si bien es difícil cuantificar exactamente cuánto \"aire se contamina\" con CO2, podemos evaluar su impacto a través de mediciones de concentración, índices de calidad del aire y cálculos de la huella de carbono. Ademas de su principal impacto en el calentamiento global que puede generar por ejemplo un aumento del nivel del mar, eventos climáticos extremos o pérdida de biodiversidad entre otros.\n",
    "\n",
    "Es importante considerar que la calidad del aire es un problema complejo que depende de múltiples factores.\n",
    "\n",
    "En este caso evaluaremos los gramos emitidos de este gas por los diferentes tipos de vehiculos."
   ]
  },
  {
   "cell_type": "code",
   "execution_count": 125,
   "metadata": {},
   "outputs": [
    {
     "name": "stdout",
     "output_type": "stream",
     "text": [
      "co2 emitido promedio en 100km 259.1901041666667\n",
      "co2 emitido promedio en 100km promedio(hibridos) en 100km 99.41554054054055\n",
      "co2 emitido promedio en 100km promedio(electricos) en 100km 0.0\n"
     ]
    }
   ],
   "source": [
    "print(\"co2 emitido promedio en 100km\",df_fuel[df_fuel['car_type']==0].co2_emissions.mean())\n",
    "print(\"co2 emitido promedio en 100km promedio(hibridos) en 100km\",df_fuel[df_fuel['car_type']==1].co2_emissions.mean())\n",
    "print(\"co2 emitido promedio en 100km promedio(electricos) en 100km\",df_fuel[df_fuel['car_type']==2].co2_emissions.mean()/8.9)"
   ]
  },
  {
   "cell_type": "markdown",
   "metadata": {},
   "source": [
    "Los vehículos eléctricos emiten cero CO2 durante la conducción, pero las emisiones asociadas a la generación de electricidad deben considerarse asi tanto como el proceso de fabricacion de los mismos."
   ]
  },
  {
   "cell_type": "markdown",
   "metadata": {},
   "source": [
    "**Aclaracion**\n",
    "\n",
    "Para homogeneizar los datos de la columna 'fuel_type'(datos de taxis, archivo \"Etl\"), que contiene tanto litros como kWh, se ha realizado una conversión de energía. Los valores expresados en kWh (kilovatios hora) se han convertido a su equivalente en litros de gasolina.\n",
    "\n",
    "Considerando que un litro de gasolina equivale aproximadamente a 8.9 kWh, se ha dividido cada valor en kWh entre 8.9. Esta operación permite obtener el equivalente en litros de gasolina que representaría el consumo energético expresado en kWh. De esta manera, se logra una columna de datos con una única unidad de medida (litros), facilitando así su análisis y comparación."
   ]
  },
  {
   "cell_type": "markdown",
   "metadata": {},
   "source": [
    "### Data a utilizar\n",
    "\n",
    "- Gasto energetico de combustible como gasolina: 11/100 = **0.1 L cada km**\n",
    "- Gasto energetico de combustible como gasolina/electricidad: 3.5/100 = **0.035 L cada km**\n",
    "- Gasto energetico de combustible como electricidad: 2.5/100 = **0.025 kWh cada km**"
   ]
  },
  {
   "cell_type": "markdown",
   "metadata": {},
   "source": [
    "### Ejemplificacion del caso\n",
    "#### Caso 1) Vehiculo electrico\n",
    "\n",
    "Supongamos que un automovil electrico gasta 10 kWh cada 100km. Este gasto lo dividimos para obtener el gasto por km. Luego se multiplica este valor por el precio que cuesta la electricidad en este caso 0.2 dolares por kWh. \n",
    "\n",
    "(0.1 kWh/km) x (0.2 USD/kWh) = 0.02 USD/km\n",
    "\n",
    "#### Caso 2) Vehiculo convencional\n",
    "\n",
    "Supongamos que un automovil convencional gasta 5 litros de gasolina cada 100km. Este gasto lo dividimos para obtener el gasto por km. Luego se multiplica este valor por el precio que cuesta la gasolina en este caso 0.92 dolares por litro.\n",
    "\n",
    "(0.05 L/km) x (0.92 USD/L) = 0.046 USD/km"
   ]
  },
  {
   "cell_type": "markdown",
   "metadata": {},
   "source": [
    "Fuentes\n",
    "\n",
    "kW:\n",
    "- https://www.energysage.com/local-data/electricity-cost/#:~:text=As%20of%20February%202023%2C%20the,based%20on%20where%20you%20live.\n",
    "\n",
    "Fuel:\n",
    "- https://www.eia.gov/petroleum/gasdiesel/\n",
    "\n",
    "Maintenance:\n",
    "- https://wrrv.com/the-average-cost-of-car-maintenance-per-year-in-new-york/\n",
    "-->\n",
    "- https://www.thebalancemoney.com/average-car-maintenance-cost-4775765#:~:text=If%20you%20drive%2010%2C000%20miles,to%20budget%20for%20these%20expenses.\n",
    "\n",
    "Maintenance electric cars:\n",
    "- https://www.greencars.com/es-us/perspectivas-de-expertos/costo-de-mantenimiento-de-un-automovil-electrico"
   ]
  }
 ],
 "metadata": {
  "kernelspec": {
   "display_name": "Python 3",
   "language": "python",
   "name": "python3"
  },
  "language_info": {
   "codemirror_mode": {
    "name": "ipython",
    "version": 3
   },
   "file_extension": ".py",
   "mimetype": "text/x-python",
   "name": "python",
   "nbconvert_exporter": "python",
   "pygments_lexer": "ipython3",
   "version": "3.11.4"
  }
 },
 "nbformat": 4,
 "nbformat_minor": 2
}
