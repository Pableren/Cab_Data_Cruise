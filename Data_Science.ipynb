{
 "cells": [
  {
   "cell_type": "markdown",
   "metadata": {},
   "source": [
    "# Data Science\n",
    "\n",
    "Debido al requerimiento del cliente, se procederan a reordenar la data, para obtener un set de datos horarios donde cada fila represente la cantidad de viajes realizados en esa hora en especifico(hora de comienzo del viaje)."
   ]
  },
  {
   "cell_type": "code",
   "execution_count": 1,
   "metadata": {},
   "outputs": [],
   "source": [
    "import pandas as pd"
   ]
  },
  {
   "cell_type": "code",
   "execution_count": 2,
   "metadata": {},
   "outputs": [],
   "source": [
    "df = pd.read_parquet('Data\\process_taxis.parquet',engine='pyarrow')"
   ]
  },
  {
   "cell_type": "code",
   "execution_count": 5,
   "metadata": {},
   "outputs": [],
   "source": [
    "df.set_index(keys='pickup_datetime',inplace=True)"
   ]
  },
  {
   "cell_type": "code",
   "execution_count": 7,
   "metadata": {},
   "outputs": [
    {
     "data": {
      "text/plain": [
       "DatetimeIndex(['2023-01-01 00:00:00', '2023-01-01 00:00:05',\n",
       "               '2023-01-01 00:00:06', '2023-01-01 00:00:08',\n",
       "               '2023-01-01 00:00:09', '2023-01-01 00:00:18',\n",
       "               '2023-01-01 00:00:47', '2023-01-01 00:00:52',\n",
       "               '2023-01-01 00:01:07', '2023-01-01 00:01:08',\n",
       "               ...\n",
       "               '2024-06-30 23:59:49', '2024-06-30 23:59:49',\n",
       "               '2024-06-30 23:59:51', '2024-06-30 23:59:51',\n",
       "               '2024-06-30 23:59:54', '2024-06-30 23:59:54',\n",
       "               '2024-06-30 23:59:55', '2024-06-30 23:59:56',\n",
       "               '2024-07-01 00:00:27', '2024-07-01 00:05:23'],\n",
       "              dtype='datetime64[us]', name='pickup_datetime', length=47089377, freq=None)"
      ]
     },
     "execution_count": 7,
     "metadata": {},
     "output_type": "execute_result"
    }
   ],
   "source": [
    "df.index"
   ]
  },
  {
   "cell_type": "code",
   "execution_count": null,
   "metadata": {},
   "outputs": [],
   "source": [
    "# Crear un nuevo DataFrame con la cantidad de registros por hora\n",
    "df_hour = df.resample('H').size().to_frame('viajes')"
   ]
  },
  {
   "cell_type": "code",
   "execution_count": 10,
   "metadata": {},
   "outputs": [
    {
     "data": {
      "text/html": [
       "<div>\n",
       "<style scoped>\n",
       "    .dataframe tbody tr th:only-of-type {\n",
       "        vertical-align: middle;\n",
       "    }\n",
       "\n",
       "    .dataframe tbody tr th {\n",
       "        vertical-align: top;\n",
       "    }\n",
       "\n",
       "    .dataframe thead th {\n",
       "        text-align: right;\n",
       "    }\n",
       "</style>\n",
       "<table border=\"1\" class=\"dataframe\">\n",
       "  <thead>\n",
       "    <tr style=\"text-align: right;\">\n",
       "      <th></th>\n",
       "      <th>conteo_registros</th>\n",
       "    </tr>\n",
       "    <tr>\n",
       "      <th>pickup_datetime</th>\n",
       "      <th></th>\n",
       "    </tr>\n",
       "  </thead>\n",
       "  <tbody>\n",
       "    <tr>\n",
       "      <th>2024-06-30 23:00:00</th>\n",
       "      <td>1720</td>\n",
       "    </tr>\n",
       "    <tr>\n",
       "      <th>2024-07-01 00:00:00</th>\n",
       "      <td>2</td>\n",
       "    </tr>\n",
       "  </tbody>\n",
       "</table>\n",
       "</div>"
      ],
      "text/plain": [
       "                     conteo_registros\n",
       "pickup_datetime                      \n",
       "2024-06-30 23:00:00              1720\n",
       "2024-07-01 00:00:00                 2"
      ]
     },
     "execution_count": 10,
     "metadata": {},
     "output_type": "execute_result"
    }
   ],
   "source": [
    "df_hour.tail(2)"
   ]
  },
  {
   "cell_type": "code",
   "execution_count": 14,
   "metadata": {},
   "outputs": [
    {
     "data": {
      "text/plain": [
       "Index(['dropoff_datetime', 'passenger_count', 'trip_distance', 'PULocationID',\n",
       "       'DOLocationID', 'total_price', 'service', 'fuel_type',\n",
       "       'energy_consumption', 'fuel_cost', 'trip_duration', 'labor', 'co2',\n",
       "       'maintenance', 'net_profit'],\n",
       "      dtype='object')"
      ]
     },
     "execution_count": 14,
     "metadata": {},
     "output_type": "execute_result"
    }
   ],
   "source": [
    "df.columns"
   ]
  },
  {
   "cell_type": "markdown",
   "metadata": {},
   "source": [
    "### Seleccion de variables\n",
    "\n",
    "Debido a que nuestra ganancia neta ya es el resultado de restarle al precio total del viaje, sus costos(costo de combustible, mantenimiento, etc) usaremos la variable de ganancia neta,duracion del viaje y cantidad de CO2 emitido.\n",
    "******\n",
    "#### <center>Target</center>\n",
    "\n",
    "El desafio al cual nos ha sometido el cliente, es predecir la demanda de taxis, para lo cual es necesario saber o estimar un valor de cuantos viajes pudieran llegar a realizarse. Por lo cual, se utilizara como target la columna \"viajes\" creada a partir del recuento de instancias de nuestra data principal transformada en un dataframe con frecuencia horaria.\n",
    "\n",
    "#### <center>Inputs del modelo</center>\n",
    "\n",
    "Se consideraron utilizar las variables de ganancia neta, duracion del viaje y cantidad de CO2"
   ]
  },
  {
   "cell_type": "code",
   "execution_count": null,
   "metadata": {},
   "outputs": [],
   "source": [
    "#sum_for_price = df['total_price'].resample('H').sum().to_frame('total_price')\n",
    "#sum_for_cost = df['fuel_cost'].resample('H').sum().to_frame('fuel_cost')\n",
    "sum_for_profit = df['net_profit'].resample('H').sum().to_frame('net_profit')\n",
    "sum_for_duration = df['trip_duration'].resample('H').sum().to_frame('trip_duration')\n",
    "sum_for_co2 = df['co2'].resample('H').sum().to_frame('co2')"
   ]
  },
  {
   "cell_type": "code",
   "execution_count": null,
   "metadata": {},
   "outputs": [],
   "source": [
    "# Unir los resultados en un solo DataFrame\n",
    "resultado = df_hour.join([sum_for_profit,sum_for_duration,sum_for_co2])"
   ]
  },
  {
   "cell_type": "code",
   "execution_count": 27,
   "metadata": {},
   "outputs": [
    {
     "data": {
      "text/html": [
       "<div>\n",
       "<style scoped>\n",
       "    .dataframe tbody tr th:only-of-type {\n",
       "        vertical-align: middle;\n",
       "    }\n",
       "\n",
       "    .dataframe tbody tr th {\n",
       "        vertical-align: top;\n",
       "    }\n",
       "\n",
       "    .dataframe thead th {\n",
       "        text-align: right;\n",
       "    }\n",
       "</style>\n",
       "<table border=\"1\" class=\"dataframe\">\n",
       "  <thead>\n",
       "    <tr style=\"text-align: right;\">\n",
       "      <th></th>\n",
       "      <th>conteo_registros</th>\n",
       "      <th>fuel_cost</th>\n",
       "      <th>net_profit</th>\n",
       "      <th>trip_duration</th>\n",
       "      <th>co2</th>\n",
       "    </tr>\n",
       "    <tr>\n",
       "      <th>pickup_datetime</th>\n",
       "      <th></th>\n",
       "      <th></th>\n",
       "      <th></th>\n",
       "      <th></th>\n",
       "      <th></th>\n",
       "    </tr>\n",
       "  </thead>\n",
       "  <tbody>\n",
       "    <tr>\n",
       "      <th>2023-01-01 00:00:00</th>\n",
       "      <td>4370</td>\n",
       "      <td>971.372653</td>\n",
       "      <td>97207.925369</td>\n",
       "      <td>974.944444</td>\n",
       "      <td>24258.15776</td>\n",
       "    </tr>\n",
       "    <tr>\n",
       "      <th>2023-01-01 01:00:00</th>\n",
       "      <td>4543</td>\n",
       "      <td>1091.092179</td>\n",
       "      <td>102594.328054</td>\n",
       "      <td>989.394167</td>\n",
       "      <td>27604.39664</td>\n",
       "    </tr>\n",
       "    <tr>\n",
       "      <th>2023-01-01 02:00:00</th>\n",
       "      <td>3805</td>\n",
       "      <td>955.695558</td>\n",
       "      <td>84971.601142</td>\n",
       "      <td>744.652500</td>\n",
       "      <td>24178.79168</td>\n",
       "    </tr>\n",
       "    <tr>\n",
       "      <th>2023-01-01 03:00:00</th>\n",
       "      <td>2853</td>\n",
       "      <td>725.197507</td>\n",
       "      <td>63744.816193</td>\n",
       "      <td>533.422500</td>\n",
       "      <td>18230.76224</td>\n",
       "    </tr>\n",
       "    <tr>\n",
       "      <th>2023-01-01 04:00:00</th>\n",
       "      <td>1729</td>\n",
       "      <td>445.140528</td>\n",
       "      <td>37629.893139</td>\n",
       "      <td>307.328333</td>\n",
       "      <td>11231.16080</td>\n",
       "    </tr>\n",
       "    <tr>\n",
       "      <th>...</th>\n",
       "      <td>...</td>\n",
       "      <td>...</td>\n",
       "      <td>...</td>\n",
       "      <td>...</td>\n",
       "      <td>...</td>\n",
       "    </tr>\n",
       "    <tr>\n",
       "      <th>2024-06-30 20:00:00</th>\n",
       "      <td>2889</td>\n",
       "      <td>568.307699</td>\n",
       "      <td>59838.564601</td>\n",
       "      <td>609.137500</td>\n",
       "      <td>14353.05184</td>\n",
       "    </tr>\n",
       "    <tr>\n",
       "      <th>2024-06-30 21:00:00</th>\n",
       "      <td>2967</td>\n",
       "      <td>603.105926</td>\n",
       "      <td>61374.740862</td>\n",
       "      <td>613.465278</td>\n",
       "      <td>15257.32128</td>\n",
       "    </tr>\n",
       "    <tr>\n",
       "      <th>2024-06-30 22:00:00</th>\n",
       "      <td>2495</td>\n",
       "      <td>522.075197</td>\n",
       "      <td>50010.844181</td>\n",
       "      <td>485.215556</td>\n",
       "      <td>13230.58096</td>\n",
       "    </tr>\n",
       "    <tr>\n",
       "      <th>2024-06-30 23:00:00</th>\n",
       "      <td>1720</td>\n",
       "      <td>383.038394</td>\n",
       "      <td>34772.740540</td>\n",
       "      <td>334.426667</td>\n",
       "      <td>9549.15952</td>\n",
       "    </tr>\n",
       "    <tr>\n",
       "      <th>2024-07-01 00:00:00</th>\n",
       "      <td>2</td>\n",
       "      <td>0.169942</td>\n",
       "      <td>37.100191</td>\n",
       "      <td>0.286667</td>\n",
       "      <td>3.27888</td>\n",
       "    </tr>\n",
       "  </tbody>\n",
       "</table>\n",
       "<p>13129 rows × 5 columns</p>\n",
       "</div>"
      ],
      "text/plain": [
       "                     conteo_registros    fuel_cost     net_profit  \\\n",
       "pickup_datetime                                                     \n",
       "2023-01-01 00:00:00              4370   971.372653   97207.925369   \n",
       "2023-01-01 01:00:00              4543  1091.092179  102594.328054   \n",
       "2023-01-01 02:00:00              3805   955.695558   84971.601142   \n",
       "2023-01-01 03:00:00              2853   725.197507   63744.816193   \n",
       "2023-01-01 04:00:00              1729   445.140528   37629.893139   \n",
       "...                               ...          ...            ...   \n",
       "2024-06-30 20:00:00              2889   568.307699   59838.564601   \n",
       "2024-06-30 21:00:00              2967   603.105926   61374.740862   \n",
       "2024-06-30 22:00:00              2495   522.075197   50010.844181   \n",
       "2024-06-30 23:00:00              1720   383.038394   34772.740540   \n",
       "2024-07-01 00:00:00                 2     0.169942      37.100191   \n",
       "\n",
       "                     trip_duration          co2  \n",
       "pickup_datetime                                  \n",
       "2023-01-01 00:00:00     974.944444  24258.15776  \n",
       "2023-01-01 01:00:00     989.394167  27604.39664  \n",
       "2023-01-01 02:00:00     744.652500  24178.79168  \n",
       "2023-01-01 03:00:00     533.422500  18230.76224  \n",
       "2023-01-01 04:00:00     307.328333  11231.16080  \n",
       "...                            ...          ...  \n",
       "2024-06-30 20:00:00     609.137500  14353.05184  \n",
       "2024-06-30 21:00:00     613.465278  15257.32128  \n",
       "2024-06-30 22:00:00     485.215556  13230.58096  \n",
       "2024-06-30 23:00:00     334.426667   9549.15952  \n",
       "2024-07-01 00:00:00       0.286667      3.27888  \n",
       "\n",
       "[13129 rows x 5 columns]"
      ]
     },
     "execution_count": 27,
     "metadata": {},
     "output_type": "execute_result"
    }
   ],
   "source": [
    "resultado"
   ]
  },
  {
   "cell_type": "code",
   "execution_count": null,
   "metadata": {},
   "outputs": [],
   "source": [
    "df['year'] = df['pickup_datetime'].dt.year\n",
    "df['quarter'] = df['pickup_datetime'].dt.quarter\n",
    "df['month'] = df['pickup_datetime'].dt.month\n",
    "df['day_month'] = df['pickup_datetime'].dt.day\n",
    "df['weekday'] = df['pickup_datetime'].dt.day_name()\n",
    "df['hour'] = df['pickup_datetime'].dt.hour\n",
    "df['weekend'] = df['pickup_datetime'].apply(lambda x: x.weekday() < 5).astype(int) # 1 = weekday, 0 = weekend\n",
    "#df.drop(columns=['pickup_datetime','dropoff_datetime'],inplace=True)"
   ]
  }
 ],
 "metadata": {
  "kernelspec": {
   "display_name": "Python 3",
   "language": "python",
   "name": "python3"
  },
  "language_info": {
   "codemirror_mode": {
    "name": "ipython",
    "version": 3
   },
   "file_extension": ".py",
   "mimetype": "text/x-python",
   "name": "python",
   "nbconvert_exporter": "python",
   "pygments_lexer": "ipython3",
   "version": "3.11.4"
  }
 },
 "nbformat": 4,
 "nbformat_minor": 2
}
