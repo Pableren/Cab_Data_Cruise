{
 "cells": [
  {
   "cell_type": "markdown",
   "metadata": {},
   "source": [
    "# Data Science\n",
    "\n",
    "Debido al requerimiento del cliente, se procederan a reordenar la data, para obtener un set de datos horarios donde cada fila represente la cantidad de viajes realizados en esa hora en especifico(hora de comienzo del viaje)."
   ]
  },
  {
   "cell_type": "code",
   "execution_count": 40,
   "metadata": {},
   "outputs": [],
   "source": [
    "import pandas as pd\n",
    "import seaborn as sns\n",
    "import matplotlib.pyplot as plt"
   ]
  },
  {
   "cell_type": "code",
   "execution_count": 41,
   "metadata": {},
   "outputs": [],
   "source": [
    "df = pd.read_parquet('Data\\process_taxis.parquet',engine='pyarrow')"
   ]
  },
  {
   "cell_type": "code",
   "execution_count": 42,
   "metadata": {},
   "outputs": [],
   "source": [
    "df.set_index(keys='pickup_datetime',inplace=True)"
   ]
  },
  {
   "cell_type": "code",
   "execution_count": 43,
   "metadata": {},
   "outputs": [
    {
     "data": {
      "text/plain": [
       "DatetimeIndex(['2023-01-01 00:00:00', '2023-01-01 00:00:05',\n",
       "               '2023-01-01 00:00:06', '2023-01-01 00:00:08',\n",
       "               '2023-01-01 00:00:09', '2023-01-01 00:00:18',\n",
       "               '2023-01-01 00:00:47', '2023-01-01 00:00:52',\n",
       "               '2023-01-01 00:01:07', '2023-01-01 00:01:08',\n",
       "               ...\n",
       "               '2024-06-30 23:59:49', '2024-06-30 23:59:49',\n",
       "               '2024-06-30 23:59:51', '2024-06-30 23:59:51',\n",
       "               '2024-06-30 23:59:54', '2024-06-30 23:59:54',\n",
       "               '2024-06-30 23:59:55', '2024-06-30 23:59:56',\n",
       "               '2024-07-01 00:00:27', '2024-07-01 00:05:23'],\n",
       "              dtype='datetime64[us]', name='pickup_datetime', length=47089377, freq=None)"
      ]
     },
     "execution_count": 43,
     "metadata": {},
     "output_type": "execute_result"
    }
   ],
   "source": [
    "df.index"
   ]
  },
  {
   "cell_type": "code",
   "execution_count": 44,
   "metadata": {},
   "outputs": [],
   "source": [
    "# Crear un nuevo DataFrame con la cantidad de registros por hora\n",
    "df_hour = df.resample('H').size().to_frame('viajes')"
   ]
  },
  {
   "cell_type": "code",
   "execution_count": 45,
   "metadata": {},
   "outputs": [
    {
     "data": {
      "text/html": [
       "<div>\n",
       "<style scoped>\n",
       "    .dataframe tbody tr th:only-of-type {\n",
       "        vertical-align: middle;\n",
       "    }\n",
       "\n",
       "    .dataframe tbody tr th {\n",
       "        vertical-align: top;\n",
       "    }\n",
       "\n",
       "    .dataframe thead th {\n",
       "        text-align: right;\n",
       "    }\n",
       "</style>\n",
       "<table border=\"1\" class=\"dataframe\">\n",
       "  <thead>\n",
       "    <tr style=\"text-align: right;\">\n",
       "      <th></th>\n",
       "      <th>viajes</th>\n",
       "    </tr>\n",
       "    <tr>\n",
       "      <th>pickup_datetime</th>\n",
       "      <th></th>\n",
       "    </tr>\n",
       "  </thead>\n",
       "  <tbody>\n",
       "    <tr>\n",
       "      <th>2024-06-30 23:00:00</th>\n",
       "      <td>1720</td>\n",
       "    </tr>\n",
       "    <tr>\n",
       "      <th>2024-07-01 00:00:00</th>\n",
       "      <td>2</td>\n",
       "    </tr>\n",
       "  </tbody>\n",
       "</table>\n",
       "</div>"
      ],
      "text/plain": [
       "                     viajes\n",
       "pickup_datetime            \n",
       "2024-06-30 23:00:00    1720\n",
       "2024-07-01 00:00:00       2"
      ]
     },
     "execution_count": 45,
     "metadata": {},
     "output_type": "execute_result"
    }
   ],
   "source": [
    "df_hour.tail(2)"
   ]
  },
  {
   "cell_type": "code",
   "execution_count": 46,
   "metadata": {},
   "outputs": [
    {
     "data": {
      "text/plain": [
       "Index(['dropoff_datetime', 'passenger_count', 'trip_distance', 'PULocationID',\n",
       "       'DOLocationID', 'total_price', 'service', 'fuel_type',\n",
       "       'energy_consumption', 'fuel_cost', 'trip_duration', 'labor', 'co2',\n",
       "       'maintenance', 'net_profit'],\n",
       "      dtype='object')"
      ]
     },
     "execution_count": 46,
     "metadata": {},
     "output_type": "execute_result"
    }
   ],
   "source": [
    "df.columns"
   ]
  },
  {
   "cell_type": "markdown",
   "metadata": {},
   "source": [
    "### <center>Models</center>\n",
    "\n",
    "Para cumplir con las expectativas del cliente, se evaluaran 2 modelos\n",
    "\n",
    "- Forecaster Autoregresive: \n",
    "\n",
    "Para modelar la evolución de los datos como serie de tiempo, se optó por un modelo Forecaster Autoregresivo que incorpora lags de la variable objetivo y variables de tiempo (como la hora, mes, dia, etc). Esta elección se fundamenta en la hipótesis de que los valores futuros de la serie están fuertemente influenciados por sus valores pasados y por patrones estacionales o cíclicos asociados a las variables de tiempo.\n",
    "\n",
    "Los lags permiten capturar la autocorrelación presente en la serie, mientras que las variables de tiempo ayudan a modelar los componentes estacionales y de tendencia, lo que resulta en predicciones más precisas y robustas.\n",
    "Luego de esto se evaluara el desempeño del modelo para su comparacion.\n",
    "\n",
    "- Modelo de Predicción en Cascada(Autoregresion y Random Forest o regresion lineal multiple):\n",
    "\n",
    "Para realizar predicciones futuras de la variable objetivo, el modelo se desarrollará en dos etapas. En la primera etapa, se utilizarán modelos predictivos para estimar los valores futuros de las variables auxiliares (ganancia neta, duración del viaje, y CO₂ emitido). Estas estimaciones serán generadas únicamente a partir de valores pasados de cada una de las variables auxiliares, aplicando un modelo autoregresivo puro. Así, para cada variable auxiliar, se entrenará un modelo autoregresivo independiente que capture las tendencias y patrones de su serie temporal individual sin depender de otras variables.\n",
    "\n",
    "En la segunda etapa, las estimaciones futuras de estas variables auxiliares se utilizarán como entradas (features) en el modelo final. Este modelo tendrá como objetivo principal la predicción de la variable objetivo y empleará tanto los valores estimados de las variables auxiliares como el valor pasado de la variable objetivo para optimizar su precisión en las predicciones futuras. \n",
    "\n",
    "******\n",
    "\n",
    "### <center>Target</center>\n",
    "\n",
    "El desafio al cual nos ha sometido el cliente, es predecir la demanda de taxis, para lo cual es necesario saber o estimar un valor de cuantos viajes pudieran llegar a realizarse. Por lo cual, se utilizara como target la columna \"viajes\" creada a partir del recuento de instancias de nuestra data principal transformada en un dataframe con frecuencia horaria.\n",
    "\n"
   ]
  },
  {
   "cell_type": "code",
   "execution_count": 47,
   "metadata": {},
   "outputs": [],
   "source": [
    "#sum_for_price = df['total_price'].resample('H').sum().to_frame('total_price')\n",
    "#sum_for_cost = df['fuel_cost'].resample('H').sum().to_frame('fuel_cost')\n",
    "sum_for_profit = df['net_profit'].resample('H').sum().to_frame('net_profit')\n",
    "sum_for_duration = df['trip_duration'].resample('H').sum().to_frame('trip_duration')\n",
    "sum_for_co2 = df['co2'].resample('H').sum().to_frame('co2')"
   ]
  },
  {
   "cell_type": "code",
   "execution_count": 48,
   "metadata": {},
   "outputs": [],
   "source": [
    "# Unir los resultados en un solo DataFrame\n",
    "df_hour = df_hour.join([sum_for_profit,sum_for_duration,sum_for_co2])"
   ]
  },
  {
   "cell_type": "code",
   "execution_count": 49,
   "metadata": {},
   "outputs": [
    {
     "data": {
      "text/html": [
       "<div>\n",
       "<style scoped>\n",
       "    .dataframe tbody tr th:only-of-type {\n",
       "        vertical-align: middle;\n",
       "    }\n",
       "\n",
       "    .dataframe tbody tr th {\n",
       "        vertical-align: top;\n",
       "    }\n",
       "\n",
       "    .dataframe thead th {\n",
       "        text-align: right;\n",
       "    }\n",
       "</style>\n",
       "<table border=\"1\" class=\"dataframe\">\n",
       "  <thead>\n",
       "    <tr style=\"text-align: right;\">\n",
       "      <th></th>\n",
       "      <th>viajes</th>\n",
       "      <th>net_profit</th>\n",
       "      <th>trip_duration</th>\n",
       "      <th>co2</th>\n",
       "    </tr>\n",
       "    <tr>\n",
       "      <th>pickup_datetime</th>\n",
       "      <th></th>\n",
       "      <th></th>\n",
       "      <th></th>\n",
       "      <th></th>\n",
       "    </tr>\n",
       "  </thead>\n",
       "  <tbody>\n",
       "    <tr>\n",
       "      <th>2023-01-01 00:00:00</th>\n",
       "      <td>4370</td>\n",
       "      <td>97207.925369</td>\n",
       "      <td>974.944444</td>\n",
       "      <td>24258.15776</td>\n",
       "    </tr>\n",
       "    <tr>\n",
       "      <th>2023-01-01 01:00:00</th>\n",
       "      <td>4543</td>\n",
       "      <td>102594.328054</td>\n",
       "      <td>989.394167</td>\n",
       "      <td>27604.39664</td>\n",
       "    </tr>\n",
       "    <tr>\n",
       "      <th>2023-01-01 02:00:00</th>\n",
       "      <td>3805</td>\n",
       "      <td>84971.601142</td>\n",
       "      <td>744.652500</td>\n",
       "      <td>24178.79168</td>\n",
       "    </tr>\n",
       "    <tr>\n",
       "      <th>2023-01-01 03:00:00</th>\n",
       "      <td>2853</td>\n",
       "      <td>63744.816193</td>\n",
       "      <td>533.422500</td>\n",
       "      <td>18230.76224</td>\n",
       "    </tr>\n",
       "    <tr>\n",
       "      <th>2023-01-01 04:00:00</th>\n",
       "      <td>1729</td>\n",
       "      <td>37629.893139</td>\n",
       "      <td>307.328333</td>\n",
       "      <td>11231.16080</td>\n",
       "    </tr>\n",
       "    <tr>\n",
       "      <th>...</th>\n",
       "      <td>...</td>\n",
       "      <td>...</td>\n",
       "      <td>...</td>\n",
       "      <td>...</td>\n",
       "    </tr>\n",
       "    <tr>\n",
       "      <th>2024-06-30 20:00:00</th>\n",
       "      <td>2889</td>\n",
       "      <td>59838.564601</td>\n",
       "      <td>609.137500</td>\n",
       "      <td>14353.05184</td>\n",
       "    </tr>\n",
       "    <tr>\n",
       "      <th>2024-06-30 21:00:00</th>\n",
       "      <td>2967</td>\n",
       "      <td>61374.740862</td>\n",
       "      <td>613.465278</td>\n",
       "      <td>15257.32128</td>\n",
       "    </tr>\n",
       "    <tr>\n",
       "      <th>2024-06-30 22:00:00</th>\n",
       "      <td>2495</td>\n",
       "      <td>50010.844181</td>\n",
       "      <td>485.215556</td>\n",
       "      <td>13230.58096</td>\n",
       "    </tr>\n",
       "    <tr>\n",
       "      <th>2024-06-30 23:00:00</th>\n",
       "      <td>1720</td>\n",
       "      <td>34772.740540</td>\n",
       "      <td>334.426667</td>\n",
       "      <td>9549.15952</td>\n",
       "    </tr>\n",
       "    <tr>\n",
       "      <th>2024-07-01 00:00:00</th>\n",
       "      <td>2</td>\n",
       "      <td>37.100191</td>\n",
       "      <td>0.286667</td>\n",
       "      <td>3.27888</td>\n",
       "    </tr>\n",
       "  </tbody>\n",
       "</table>\n",
       "<p>13129 rows × 4 columns</p>\n",
       "</div>"
      ],
      "text/plain": [
       "                     viajes     net_profit  trip_duration          co2\n",
       "pickup_datetime                                                       \n",
       "2023-01-01 00:00:00    4370   97207.925369     974.944444  24258.15776\n",
       "2023-01-01 01:00:00    4543  102594.328054     989.394167  27604.39664\n",
       "2023-01-01 02:00:00    3805   84971.601142     744.652500  24178.79168\n",
       "2023-01-01 03:00:00    2853   63744.816193     533.422500  18230.76224\n",
       "2023-01-01 04:00:00    1729   37629.893139     307.328333  11231.16080\n",
       "...                     ...            ...            ...          ...\n",
       "2024-06-30 20:00:00    2889   59838.564601     609.137500  14353.05184\n",
       "2024-06-30 21:00:00    2967   61374.740862     613.465278  15257.32128\n",
       "2024-06-30 22:00:00    2495   50010.844181     485.215556  13230.58096\n",
       "2024-06-30 23:00:00    1720   34772.740540     334.426667   9549.15952\n",
       "2024-07-01 00:00:00       2      37.100191       0.286667      3.27888\n",
       "\n",
       "[13129 rows x 4 columns]"
      ]
     },
     "execution_count": 49,
     "metadata": {},
     "output_type": "execute_result"
    }
   ],
   "source": [
    "df_hour"
   ]
  },
  {
   "cell_type": "code",
   "execution_count": 50,
   "metadata": {},
   "outputs": [],
   "source": [
    "#df.reset_index(inplace=True)\n",
    "#df['year'] = df['pickup_datetime'].dt.year\n",
    "#df['quarter'] = df['pickup_datetime'].dt.quarter\n",
    "#df['month'] = df['pickup_datetime'].dt.month\n",
    "#df['day_month'] = df['pickup_datetime'].dt.day\n",
    "#df['weekday'] = df['pickup_datetime'].dt.day_name()\n",
    "#df['hour'] = df['pickup_datetime'].dt.hour\n",
    "#df['weekend'] = df['pickup_datetime'].apply(lambda x: x.weekday() < 5).astype(int) # 1 = weekday, 0 = weekend\n",
    "#df.drop(columns=['pickup_datetime','dropoff_datetime'],inplace=True)"
   ]
  },
  {
   "cell_type": "code",
   "execution_count": 51,
   "metadata": {},
   "outputs": [],
   "source": [
    "df_hour.reset_index(inplace=True)"
   ]
  },
  {
   "cell_type": "code",
   "execution_count": 52,
   "metadata": {},
   "outputs": [
    {
     "name": "stdout",
     "output_type": "stream",
     "text": [
      "2024-07-01T00:00:00.000000 \n",
      " 2024-07-01 00:00:00\n"
     ]
    }
   ],
   "source": [
    "fecha = df_hour['pickup_datetime'][-1:].values[0]\n",
    "ultima_fecha = pd.to_datetime(fecha)\n",
    "print(fecha,\"\\n\",ultima_fecha)"
   ]
  },
  {
   "cell_type": "code",
   "execution_count": 53,
   "metadata": {},
   "outputs": [
    {
     "data": {
      "text/html": [
       "<div>\n",
       "<style scoped>\n",
       "    .dataframe tbody tr th:only-of-type {\n",
       "        vertical-align: middle;\n",
       "    }\n",
       "\n",
       "    .dataframe tbody tr th {\n",
       "        vertical-align: top;\n",
       "    }\n",
       "\n",
       "    .dataframe thead th {\n",
       "        text-align: right;\n",
       "    }\n",
       "</style>\n",
       "<table border=\"1\" class=\"dataframe\">\n",
       "  <thead>\n",
       "    <tr style=\"text-align: right;\">\n",
       "      <th></th>\n",
       "      <th>pickup_datetime</th>\n",
       "      <th>viajes</th>\n",
       "      <th>net_profit</th>\n",
       "      <th>trip_duration</th>\n",
       "      <th>co2</th>\n",
       "    </tr>\n",
       "  </thead>\n",
       "  <tbody>\n",
       "    <tr>\n",
       "      <th>0</th>\n",
       "      <td>2023-01-01 00:00:00</td>\n",
       "      <td>4370</td>\n",
       "      <td>97207.925369</td>\n",
       "      <td>974.944444</td>\n",
       "      <td>24258.15776</td>\n",
       "    </tr>\n",
       "    <tr>\n",
       "      <th>1</th>\n",
       "      <td>2023-01-01 01:00:00</td>\n",
       "      <td>4543</td>\n",
       "      <td>102594.328054</td>\n",
       "      <td>989.394167</td>\n",
       "      <td>27604.39664</td>\n",
       "    </tr>\n",
       "    <tr>\n",
       "      <th>2</th>\n",
       "      <td>2023-01-01 02:00:00</td>\n",
       "      <td>3805</td>\n",
       "      <td>84971.601142</td>\n",
       "      <td>744.652500</td>\n",
       "      <td>24178.79168</td>\n",
       "    </tr>\n",
       "    <tr>\n",
       "      <th>3</th>\n",
       "      <td>2023-01-01 03:00:00</td>\n",
       "      <td>2853</td>\n",
       "      <td>63744.816193</td>\n",
       "      <td>533.422500</td>\n",
       "      <td>18230.76224</td>\n",
       "    </tr>\n",
       "    <tr>\n",
       "      <th>4</th>\n",
       "      <td>2023-01-01 04:00:00</td>\n",
       "      <td>1729</td>\n",
       "      <td>37629.893139</td>\n",
       "      <td>307.328333</td>\n",
       "      <td>11231.16080</td>\n",
       "    </tr>\n",
       "    <tr>\n",
       "      <th>5</th>\n",
       "      <td>2023-01-01 05:00:00</td>\n",
       "      <td>628</td>\n",
       "      <td>12337.244940</td>\n",
       "      <td>97.538333</td>\n",
       "      <td>3223.26688</td>\n",
       "    </tr>\n",
       "    <tr>\n",
       "      <th>6</th>\n",
       "      <td>2023-01-01 06:00:00</td>\n",
       "      <td>468</td>\n",
       "      <td>8813.262989</td>\n",
       "      <td>72.400000</td>\n",
       "      <td>3029.20304</td>\n",
       "    </tr>\n",
       "    <tr>\n",
       "      <th>7</th>\n",
       "      <td>2023-01-01 07:00:00</td>\n",
       "      <td>573</td>\n",
       "      <td>10145.013892</td>\n",
       "      <td>79.927222</td>\n",
       "      <td>3004.18784</td>\n",
       "    </tr>\n",
       "    <tr>\n",
       "      <th>8</th>\n",
       "      <td>2023-01-01 08:00:00</td>\n",
       "      <td>676</td>\n",
       "      <td>12083.792491</td>\n",
       "      <td>101.755556</td>\n",
       "      <td>3657.96448</td>\n",
       "    </tr>\n",
       "    <tr>\n",
       "      <th>9</th>\n",
       "      <td>2023-01-01 09:00:00</td>\n",
       "      <td>1179</td>\n",
       "      <td>20707.888947</td>\n",
       "      <td>170.000000</td>\n",
       "      <td>6126.29696</td>\n",
       "    </tr>\n",
       "  </tbody>\n",
       "</table>\n",
       "</div>"
      ],
      "text/plain": [
       "      pickup_datetime  viajes     net_profit  trip_duration          co2\n",
       "0 2023-01-01 00:00:00    4370   97207.925369     974.944444  24258.15776\n",
       "1 2023-01-01 01:00:00    4543  102594.328054     989.394167  27604.39664\n",
       "2 2023-01-01 02:00:00    3805   84971.601142     744.652500  24178.79168\n",
       "3 2023-01-01 03:00:00    2853   63744.816193     533.422500  18230.76224\n",
       "4 2023-01-01 04:00:00    1729   37629.893139     307.328333  11231.16080\n",
       "5 2023-01-01 05:00:00     628   12337.244940      97.538333   3223.26688\n",
       "6 2023-01-01 06:00:00     468    8813.262989      72.400000   3029.20304\n",
       "7 2023-01-01 07:00:00     573   10145.013892      79.927222   3004.18784\n",
       "8 2023-01-01 08:00:00     676   12083.792491     101.755556   3657.96448\n",
       "9 2023-01-01 09:00:00    1179   20707.888947     170.000000   6126.29696"
      ]
     },
     "execution_count": 53,
     "metadata": {},
     "output_type": "execute_result"
    }
   ],
   "source": [
    "df_hour[:10]"
   ]
  },
  {
   "cell_type": "code",
   "execution_count": 54,
   "metadata": {},
   "outputs": [
    {
     "data": {
      "text/plain": [
       "DatetimeIndex(['2023-01-01 00:00:00', '2023-01-01 01:00:00',\n",
       "               '2023-01-01 02:00:00', '2023-01-01 03:00:00',\n",
       "               '2023-01-01 04:00:00', '2023-01-01 05:00:00',\n",
       "               '2023-01-01 06:00:00', '2023-01-01 07:00:00',\n",
       "               '2023-01-01 08:00:00', '2023-01-01 09:00:00',\n",
       "               ...\n",
       "               '2024-06-30 15:00:00', '2024-06-30 16:00:00',\n",
       "               '2024-06-30 17:00:00', '2024-06-30 18:00:00',\n",
       "               '2024-06-30 19:00:00', '2024-06-30 20:00:00',\n",
       "               '2024-06-30 21:00:00', '2024-06-30 22:00:00',\n",
       "               '2024-06-30 23:00:00', '2024-07-01 00:00:00'],\n",
       "              dtype='datetime64[ns]', length=13129, freq='60T')"
      ]
     },
     "execution_count": 54,
     "metadata": {},
     "output_type": "execute_result"
    }
   ],
   "source": [
    "num_dias = len(df_hour)\n",
    "dates = pd.date_range(end=ultima_fecha, periods=num_dias,freq='60min')\n",
    "dates"
   ]
  },
  {
   "cell_type": "code",
   "execution_count": 55,
   "metadata": {},
   "outputs": [],
   "source": [
    "from skforecast.ForecasterAutoreg import ForecasterAutoreg\n",
    "from lightgbm import LGBMRegressor"
   ]
  },
  {
   "cell_type": "code",
   "execution_count": 56,
   "metadata": {},
   "outputs": [],
   "source": [
    "lags=[1,30,90,180]\n",
    "forecaster = ForecasterAutoreg(regressor=LGBMRegressor(random_state=42, verbose=-1), lags=lags)"
   ]
  },
  {
   "cell_type": "code",
   "execution_count": 57,
   "metadata": {},
   "outputs": [],
   "source": [
    "forecaster.fit(y=df_hour['viajes'])"
   ]
  },
  {
   "cell_type": "code",
   "execution_count": 87,
   "metadata": {},
   "outputs": [],
   "source": [
    "predictions = forecaster.predict(steps=48)"
   ]
  },
  {
   "cell_type": "code",
   "execution_count": 88,
   "metadata": {},
   "outputs": [],
   "source": [
    "ultima_fecha = df_hour['pickup_datetime'].iloc[-1]\n",
    "N = len(predictions)  # Número de predicciones futuras\n",
    "fechas_futuras = pd.date_range(start=ultima_fecha, periods=N + 1, freq='H')[1:]  # Excluye la última fecha histórica\n"
   ]
  },
  {
   "cell_type": "code",
   "execution_count": 89,
   "metadata": {},
   "outputs": [
    {
     "data": {
      "text/plain": [
       "DatetimeIndex(['2024-07-01 01:00:00', '2024-07-01 02:00:00',\n",
       "               '2024-07-01 03:00:00', '2024-07-01 04:00:00',\n",
       "               '2024-07-01 05:00:00', '2024-07-01 06:00:00',\n",
       "               '2024-07-01 07:00:00', '2024-07-01 08:00:00',\n",
       "               '2024-07-01 09:00:00', '2024-07-01 10:00:00',\n",
       "               '2024-07-01 11:00:00', '2024-07-01 12:00:00',\n",
       "               '2024-07-01 13:00:00', '2024-07-01 14:00:00',\n",
       "               '2024-07-01 15:00:00', '2024-07-01 16:00:00',\n",
       "               '2024-07-01 17:00:00', '2024-07-01 18:00:00',\n",
       "               '2024-07-01 19:00:00', '2024-07-01 20:00:00',\n",
       "               '2024-07-01 21:00:00', '2024-07-01 22:00:00',\n",
       "               '2024-07-01 23:00:00', '2024-07-02 00:00:00',\n",
       "               '2024-07-02 01:00:00', '2024-07-02 02:00:00',\n",
       "               '2024-07-02 03:00:00', '2024-07-02 04:00:00',\n",
       "               '2024-07-02 05:00:00', '2024-07-02 06:00:00',\n",
       "               '2024-07-02 07:00:00', '2024-07-02 08:00:00',\n",
       "               '2024-07-02 09:00:00', '2024-07-02 10:00:00',\n",
       "               '2024-07-02 11:00:00', '2024-07-02 12:00:00',\n",
       "               '2024-07-02 13:00:00', '2024-07-02 14:00:00',\n",
       "               '2024-07-02 15:00:00', '2024-07-02 16:00:00',\n",
       "               '2024-07-02 17:00:00', '2024-07-02 18:00:00',\n",
       "               '2024-07-02 19:00:00', '2024-07-02 20:00:00',\n",
       "               '2024-07-02 21:00:00', '2024-07-02 22:00:00',\n",
       "               '2024-07-02 23:00:00', '2024-07-03 00:00:00'],\n",
       "              dtype='datetime64[ns]', freq='H')"
      ]
     },
     "execution_count": 89,
     "metadata": {},
     "output_type": "execute_result"
    }
   ],
   "source": [
    "fechas_futuras"
   ]
  },
  {
   "cell_type": "code",
   "execution_count": null,
   "metadata": {},
   "outputs": [
    {
     "data": {
      "text/html": [
       "<div>\n",
       "<style scoped>\n",
       "    .dataframe tbody tr th:only-of-type {\n",
       "        vertical-align: middle;\n",
       "    }\n",
       "\n",
       "    .dataframe tbody tr th {\n",
       "        vertical-align: top;\n",
       "    }\n",
       "\n",
       "    .dataframe thead th {\n",
       "        text-align: right;\n",
       "    }\n",
       "</style>\n",
       "<table border=\"1\" class=\"dataframe\">\n",
       "  <thead>\n",
       "    <tr style=\"text-align: right;\">\n",
       "      <th></th>\n",
       "      <th>0</th>\n",
       "    </tr>\n",
       "  </thead>\n",
       "  <tbody>\n",
       "    <tr>\n",
       "      <th>0</th>\n",
       "      <td>174.659428</td>\n",
       "    </tr>\n",
       "    <tr>\n",
       "      <th>1</th>\n",
       "      <td>218.280957</td>\n",
       "    </tr>\n",
       "    <tr>\n",
       "      <th>2</th>\n",
       "      <td>292.965420</td>\n",
       "    </tr>\n",
       "    <tr>\n",
       "      <th>3</th>\n",
       "      <td>264.084285</td>\n",
       "    </tr>\n",
       "    <tr>\n",
       "      <th>4</th>\n",
       "      <td>243.656667</td>\n",
       "    </tr>\n",
       "    <tr>\n",
       "      <th>5</th>\n",
       "      <td>322.479582</td>\n",
       "    </tr>\n",
       "    <tr>\n",
       "      <th>6</th>\n",
       "      <td>791.184540</td>\n",
       "    </tr>\n",
       "    <tr>\n",
       "      <th>7</th>\n",
       "      <td>1359.183263</td>\n",
       "    </tr>\n",
       "    <tr>\n",
       "      <th>8</th>\n",
       "      <td>2655.269812</td>\n",
       "    </tr>\n",
       "    <tr>\n",
       "      <th>9</th>\n",
       "      <td>3279.279650</td>\n",
       "    </tr>\n",
       "    <tr>\n",
       "      <th>10</th>\n",
       "      <td>3686.047525</td>\n",
       "    </tr>\n",
       "    <tr>\n",
       "      <th>11</th>\n",
       "      <td>3927.775952</td>\n",
       "    </tr>\n",
       "    <tr>\n",
       "      <th>12</th>\n",
       "      <td>4011.678935</td>\n",
       "    </tr>\n",
       "    <tr>\n",
       "      <th>13</th>\n",
       "      <td>4141.095457</td>\n",
       "    </tr>\n",
       "    <tr>\n",
       "      <th>14</th>\n",
       "      <td>4323.159932</td>\n",
       "    </tr>\n",
       "    <tr>\n",
       "      <th>15</th>\n",
       "      <td>4504.434161</td>\n",
       "    </tr>\n",
       "    <tr>\n",
       "      <th>16</th>\n",
       "      <td>4617.111571</td>\n",
       "    </tr>\n",
       "    <tr>\n",
       "      <th>17</th>\n",
       "      <td>4813.099915</td>\n",
       "    </tr>\n",
       "    <tr>\n",
       "      <th>18</th>\n",
       "      <td>4491.651441</td>\n",
       "    </tr>\n",
       "    <tr>\n",
       "      <th>19</th>\n",
       "      <td>3985.257251</td>\n",
       "    </tr>\n",
       "    <tr>\n",
       "      <th>20</th>\n",
       "      <td>3014.725797</td>\n",
       "    </tr>\n",
       "    <tr>\n",
       "      <th>21</th>\n",
       "      <td>1989.556494</td>\n",
       "    </tr>\n",
       "    <tr>\n",
       "      <th>22</th>\n",
       "      <td>980.094344</td>\n",
       "    </tr>\n",
       "    <tr>\n",
       "      <th>23</th>\n",
       "      <td>398.291883</td>\n",
       "    </tr>\n",
       "    <tr>\n",
       "      <th>24</th>\n",
       "      <td>333.939671</td>\n",
       "    </tr>\n",
       "    <tr>\n",
       "      <th>25</th>\n",
       "      <td>345.374706</td>\n",
       "    </tr>\n",
       "    <tr>\n",
       "      <th>26</th>\n",
       "      <td>394.075610</td>\n",
       "    </tr>\n",
       "    <tr>\n",
       "      <th>27</th>\n",
       "      <td>498.852520</td>\n",
       "    </tr>\n",
       "    <tr>\n",
       "      <th>28</th>\n",
       "      <td>902.891112</td>\n",
       "    </tr>\n",
       "    <tr>\n",
       "      <th>29</th>\n",
       "      <td>1365.367205</td>\n",
       "    </tr>\n",
       "    <tr>\n",
       "      <th>30</th>\n",
       "      <td>2855.804849</td>\n",
       "    </tr>\n",
       "    <tr>\n",
       "      <th>31</th>\n",
       "      <td>3876.763838</td>\n",
       "    </tr>\n",
       "    <tr>\n",
       "      <th>32</th>\n",
       "      <td>4453.096874</td>\n",
       "    </tr>\n",
       "    <tr>\n",
       "      <th>33</th>\n",
       "      <td>4688.694068</td>\n",
       "    </tr>\n",
       "    <tr>\n",
       "      <th>34</th>\n",
       "      <td>4702.379509</td>\n",
       "    </tr>\n",
       "    <tr>\n",
       "      <th>35</th>\n",
       "      <td>4889.783942</td>\n",
       "    </tr>\n",
       "    <tr>\n",
       "      <th>36</th>\n",
       "      <td>5033.464299</td>\n",
       "    </tr>\n",
       "    <tr>\n",
       "      <th>37</th>\n",
       "      <td>5277.223637</td>\n",
       "    </tr>\n",
       "    <tr>\n",
       "      <th>38</th>\n",
       "      <td>5389.703481</td>\n",
       "    </tr>\n",
       "    <tr>\n",
       "      <th>39</th>\n",
       "      <td>5532.011888</td>\n",
       "    </tr>\n",
       "    <tr>\n",
       "      <th>40</th>\n",
       "      <td>5769.556102</td>\n",
       "    </tr>\n",
       "    <tr>\n",
       "      <th>41</th>\n",
       "      <td>5895.428696</td>\n",
       "    </tr>\n",
       "    <tr>\n",
       "      <th>42</th>\n",
       "      <td>5396.036869</td>\n",
       "    </tr>\n",
       "    <tr>\n",
       "      <th>43</th>\n",
       "      <td>5213.849369</td>\n",
       "    </tr>\n",
       "    <tr>\n",
       "      <th>44</th>\n",
       "      <td>5158.484030</td>\n",
       "    </tr>\n",
       "    <tr>\n",
       "      <th>45</th>\n",
       "      <td>4794.343089</td>\n",
       "    </tr>\n",
       "    <tr>\n",
       "      <th>46</th>\n",
       "      <td>4118.455817</td>\n",
       "    </tr>\n",
       "    <tr>\n",
       "      <th>47</th>\n",
       "      <td>2488.178491</td>\n",
       "    </tr>\n",
       "  </tbody>\n",
       "</table>\n",
       "</div>"
      ],
      "text/plain": [
       "              0\n",
       "0    174.659428\n",
       "1    218.280957\n",
       "2    292.965420\n",
       "3    264.084285\n",
       "4    243.656667\n",
       "5    322.479582\n",
       "6    791.184540\n",
       "7   1359.183263\n",
       "8   2655.269812\n",
       "9   3279.279650\n",
       "10  3686.047525\n",
       "11  3927.775952\n",
       "12  4011.678935\n",
       "13  4141.095457\n",
       "14  4323.159932\n",
       "15  4504.434161\n",
       "16  4617.111571\n",
       "17  4813.099915\n",
       "18  4491.651441\n",
       "19  3985.257251\n",
       "20  3014.725797\n",
       "21  1989.556494\n",
       "22   980.094344\n",
       "23   398.291883\n",
       "24   333.939671\n",
       "25   345.374706\n",
       "26   394.075610\n",
       "27   498.852520\n",
       "28   902.891112\n",
       "29  1365.367205\n",
       "30  2855.804849\n",
       "31  3876.763838\n",
       "32  4453.096874\n",
       "33  4688.694068\n",
       "34  4702.379509\n",
       "35  4889.783942\n",
       "36  5033.464299\n",
       "37  5277.223637\n",
       "38  5389.703481\n",
       "39  5532.011888\n",
       "40  5769.556102\n",
       "41  5895.428696\n",
       "42  5396.036869\n",
       "43  5213.849369\n",
       "44  5158.484030\n",
       "45  4794.343089\n",
       "46  4118.455817\n",
       "47  2488.178491"
      ]
     },
     "execution_count": 90,
     "metadata": {},
     "output_type": "execute_result"
    }
   ],
   "source": [
    "predictions = pd.DataFrame(predictions)\n",
    "#predictions"
   ]
  },
  {
   "cell_type": "code",
   "execution_count": 91,
   "metadata": {},
   "outputs": [],
   "source": [
    "# Asignamos estas fechas a tu dataframe de predicciones\n",
    "predictions['fecha'] = fechas_futuras"
   ]
  },
  {
   "cell_type": "code",
   "execution_count": 93,
   "metadata": {},
   "outputs": [],
   "source": [
    "#predictions.rename(columns={'0':'viajes'})\n",
    "predictions.columns = ['viajes','fecha']"
   ]
  },
  {
   "cell_type": "code",
   "execution_count": 94,
   "metadata": {},
   "outputs": [
    {
     "data": {
      "image/png": "[encoded data removed]",
      "text/plain": [
       "<Figure size 500x600 with 1 Axes>"
      ]
     },
     "metadata": {},
     "output_type": "display_data"
    }
   ],
   "source": [
    "fig = plt.figure(figsize=(5,6))\n",
    "axes = plt.axes()\n",
    "sns.lineplot(data=predictions,ax=axes,x=predictions['fecha'],y='viajes')\n",
    "sns.lineplot(data=df_hour,ax=axes,x=df_hour['pickup_datetime'][-50:],y='viajes')\n",
    "plt.show()"
   ]
  }
 ],
 "metadata": {
  "kernelspec": {
   "display_name": "Python 3",
   "language": "python",
   "name": "python3"
  },
  "language_info": {
   "codemirror_mode": {
    "name": "ipython",
    "version": 3
   },
   "file_extension": ".py",
   "mimetype": "text/x-python",
   "name": "python",
   "nbconvert_exporter": "python",
   "pygments_lexer": "ipython3",
   "version": "3.11.4"
  }
 },
 "nbformat": 4,
 "nbformat_minor": 2
}
