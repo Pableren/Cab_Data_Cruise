{
 "cells": [
  {
   "cell_type": "markdown",
   "metadata": {},
   "source": [
    "#### ETL\n",
    "\n",
    "Antes de realizar el modelo, se procedio a entender el problema planteado por el equipo:\n",
    "\n",
    "Predecir la cantidad de viajes proximos para preveer la demanda de taxis."
   ]
  }
 ],
 "metadata": {
  "language_info": {
   "name": "python"
  }
 },
 "nbformat": 4,
 "nbformat_minor": 2
}
