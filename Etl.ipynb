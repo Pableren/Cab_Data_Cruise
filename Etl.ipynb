{
 "cells": [
  {
   "cell_type": "code",
   "execution_count": 42,
   "metadata": {},
   "outputs": [],
   "source": [
    "import pandas as pd"
   ]
  },
  {
   "cell_type": "markdown",
   "metadata": {},
   "source": [
    "#### Procesamiento de taxis"
   ]
  },
  {
   "cell_type": "markdown",
   "metadata": {},
   "source": [
    "Para simular una carga incremental en la nube, el ultimo mes de datos no se utilizaran."
   ]
  },
  {
   "cell_type": "code",
   "execution_count": 43,
   "metadata": {},
   "outputs": [],
   "source": [
    "green_2301 = pd.read_parquet('descargas/green_tripdata_2023-01.parquet',engine='pyarrow')\n",
    "green_2302 = pd.read_parquet('descargas/green_tripdata_2023-02.parquet',engine='pyarrow')\n",
    "green_2303 = pd.read_parquet('descargas/green_tripdata_2023-03.parquet',engine='pyarrow')\n",
    "green_2304 = pd.read_parquet('descargas/green_tripdata_2023-04.parquet',engine='pyarrow')\n",
    "green_2305 = pd.read_parquet('descargas/green_tripdata_2023-05.parquet',engine='pyarrow')\n",
    "green_2306 = pd.read_parquet('descargas/green_tripdata_2023-06.parquet',engine='pyarrow')\n",
    "green_2307 = pd.read_parquet('descargas/green_tripdata_2023-07.parquet',engine='pyarrow')\n",
    "green_2308 = pd.read_parquet('descargas/green_tripdata_2023-08.parquet',engine='pyarrow')\n",
    "green_2309 = pd.read_parquet('descargas/green_tripdata_2023-09.parquet',engine='pyarrow')\n",
    "green_2310 = pd.read_parquet('descargas/green_tripdata_2023-10.parquet',engine='pyarrow')\n",
    "green_2311 = pd.read_parquet('descargas/green_tripdata_2023-11.parquet',engine='pyarrow')\n",
    "green_2312 = pd.read_parquet('descargas/green_tripdata_2023-12.parquet',engine='pyarrow')\n",
    "green_2401 = pd.read_parquet('descargas/green_tripdata_2024-01.parquet',engine='pyarrow')\n",
    "green_2402 = pd.read_parquet('descargas/green_tripdata_2024-02.parquet',engine='pyarrow')\n",
    "green_2403 = pd.read_parquet('descargas/green_tripdata_2024-03.parquet',engine='pyarrow')\n",
    "green_2404 = pd.read_parquet('descargas/green_tripdata_2024-04.parquet',engine='pyarrow')\n",
    "green_2405 = pd.read_parquet('descargas/green_tripdata_2024-05.parquet',engine='pyarrow')\n",
    "green_2406 = pd.read_parquet('descargas/green_tripdata_2024-06.parquet',engine='pyarrow')\n",
    "#green_2407 = pd.read_parquet('descargas/green_tripdata_2024-07.parquet',engine='pyarrow')"
   ]
  },
  {
   "cell_type": "code",
   "execution_count": 44,
   "metadata": {},
   "outputs": [
    {
     "name": "stdout",
     "output_type": "stream",
     "text": [
      "<class 'list'>\n"
     ]
    }
   ],
   "source": [
    "df_taxis_green = [green_2301,green_2302,green_2303,green_2304,green_2305,\n",
    "               green_2306,green_2307,green_2308,green_2309,green_2310,green_2311,\n",
    "               green_2312,green_2401,green_2402,green_2403,green_2404,green_2405,green_2406]\n",
    "print(type(df_taxis_green))"
   ]
  },
  {
   "cell_type": "code",
   "execution_count": 45,
   "metadata": {},
   "outputs": [
    {
     "name": "stdout",
     "output_type": "stream",
     "text": [
      "<class 'pandas.core.frame.DataFrame'>\n",
      "RangeIndex: 1126867 entries, 0 to 1126866\n",
      "Data columns (total 20 columns):\n",
      " #   Column                 Non-Null Count    Dtype         \n",
      "---  ------                 --------------    -----         \n",
      " 0   VendorID               1126867 non-null  int64         \n",
      " 1   lpep_pickup_datetime   1126867 non-null  datetime64[us]\n",
      " 2   lpep_dropoff_datetime  1126867 non-null  datetime64[us]\n",
      " 3   store_and_fwd_flag     1057035 non-null  object        \n",
      " 4   RatecodeID             1057035 non-null  float64       \n",
      " 5   PULocationID           1126867 non-null  int64         \n",
      " 6   DOLocationID           1126867 non-null  int64         \n",
      " 7   passenger_count        1057035 non-null  float64       \n",
      " 8   trip_distance          1126867 non-null  float64       \n",
      " 9   fare_amount            1126867 non-null  float64       \n",
      " 10  extra                  1126867 non-null  float64       \n",
      " 11  mta_tax                1126867 non-null  float64       \n",
      " 12  tip_amount             1126867 non-null  float64       \n",
      " 13  tolls_amount           1126867 non-null  float64       \n",
      " 14  ehail_fee              0 non-null        object        \n",
      " 15  improvement_surcharge  1126867 non-null  float64       \n",
      " 16  total_amount           1126867 non-null  float64       \n",
      " 17  payment_type           1057035 non-null  float64       \n",
      " 18  trip_type              1056941 non-null  float64       \n",
      " 19  congestion_surcharge   1057035 non-null  float64       \n",
      "dtypes: datetime64[us](2), float64(13), int64(3), object(2)\n",
      "memory usage: 171.9+ MB\n"
     ]
    }
   ],
   "source": [
    "# Concateamos para crear uno solo\n",
    "df_taxis_green = pd.concat(df_taxis_green, ignore_index=True)\n",
    "df_taxis_green.info()"
   ]
  },
  {
   "cell_type": "markdown",
   "metadata": {},
   "source": [
    "1. **VendorID**: Un código que representa al proveedor de tecnología (TPEP) que proporcionó el registro del viaje.\n",
    "   - `1`: Creative Mobile Technologies, LLC\n",
    "   - `2`: VeriFone Inc.\n",
    "2. **tpep_pickup_datetime**: Fecha y hora en que se inició el viaje (se activó el taxímetro).\n",
    "3. **tpep_dropoff_datetime**: Fecha y hora en que finalizó el viaje (se desactivó el taxímetro).\n",
    "4. **Passenger_count**: Cantidad de pasajeros reportados para el viaje. Este dato es ingresado manualmente por el conductor.\n",
    "5. **Trip_distance**: Distancia recorrida durante el viaje, reportada en millas.\n",
    "6. **PULocationID**: ID de la zona de taxi TLC donde comenzó el viaje.\n",
    "7. **DOLocationID**: ID de la zona de taxi TLC donde terminó el viaje.\n",
    "8. **RateCodeID**: Código de la tarifa aplicada para el viaje.\n",
    "   - `1`: Tarifa estándar\n",
    "   - `2`: JFK\n",
    "   - `3`: Newark\n",
    "   - `4`: Nassau o Westchester\n",
    "   - `5`: Tarifa negociada\n",
    "   - `6`: Viaje en grupo\n",
    "9. **Store_and_fwd_flag**: Indica si el registro del viaje fue almacenado temporalmente en la memoria del vehículo debido a problemas de conectividad.\n",
    "   - `Y`: Sí, almacenado y enviado más tarde\n",
    "   - `N`: No, enviado en tiempo real\n",
    "10. **Payment_type**: Método de pago utilizado.\n",
    "    - `1`: Tarjeta de crédito\n",
    "    - `2`: Efectivo\n",
    "    - `3`: Sin cargo\n",
    "    - `4`: Disputa\n",
    "    - `5`: Desconocido\n",
    "    - `6`: Viaje anulado\n",
    "11. **Fare_amount**: Monto de la tarifa calculada en base al tiempo y distancia por el taxímetro.\n",
    "12. **Extra**: Cargos adicionales (como cargos por hora pico o nocturnos).\n",
    "13. **MTA_tax**: Un impuesto de $0.50 para la Autoridad Metropolitana de Transporte (MTA).\n",
    "14. **Improvement_surcharge**: Un recargo de $0.30 que se aplica desde 2015.\n",
    "15. **Tip_amount**: Propinas recibidas, automáticamente registradas para pagos con tarjeta de crédito (las propinas en efectivo no se incluyen).\n",
    "16. **Tolls_amount**: Total de peajes pagados durante el viaje.\n",
    "17. **Total_amount**: El total del viaje, excluyendo las propinas en efectivo.\n",
    "18. **Congestion_Surcharge**: Recargo por congestión recolectado para el programa de tarifas de congestión del Estado de Nueva York.\n",
    "19. **Airport_fee**: Un recargo de $1.25 para recogidas en los aeropuertos LaGuardia y JFK."
   ]
  },
  {
   "cell_type": "code",
   "execution_count": 46,
   "metadata": {},
   "outputs": [
    {
     "data": {
      "text/plain": [
       "VendorID                       0\n",
       "lpep_pickup_datetime           0\n",
       "lpep_dropoff_datetime          0\n",
       "store_and_fwd_flag         69832\n",
       "RatecodeID                 69832\n",
       "PULocationID                   0\n",
       "DOLocationID                   0\n",
       "passenger_count            69832\n",
       "trip_distance                  0\n",
       "fare_amount                    0\n",
       "extra                          0\n",
       "mta_tax                        0\n",
       "tip_amount                     0\n",
       "tolls_amount                   0\n",
       "ehail_fee                1126867\n",
       "improvement_surcharge          0\n",
       "total_amount                   0\n",
       "payment_type               69832\n",
       "trip_type                  69926\n",
       "congestion_surcharge       69832\n",
       "dtype: int64"
      ]
     },
     "execution_count": 46,
     "metadata": {},
     "output_type": "execute_result"
    }
   ],
   "source": [
    "df_taxis_green.isna().sum()"
   ]
  },
  {
   "cell_type": "markdown",
   "metadata": {},
   "source": [
    "#### Para lograr los objetivos de la empresa, se decidieron utilizar solamente las columnas de:\n",
    "\n",
    "- pickup_datetime\n",
    "- dropoff_datetime\n",
    "- PULocationID      \n",
    "- DOLocationID      \n",
    "- passenger_count\n",
    "- trip_distance\n",
    "- tip_amount\n",
    "- amount\n"
   ]
  },
  {
   "cell_type": "code",
   "execution_count": 47,
   "metadata": {},
   "outputs": [
    {
     "name": "stdout",
     "output_type": "stream",
     "text": [
      "<class 'pandas.core.frame.DataFrame'>\n",
      "RangeIndex: 1126867 entries, 0 to 1126866\n",
      "Data columns (total 8 columns):\n",
      " #   Column            Non-Null Count    Dtype         \n",
      "---  ------            --------------    -----         \n",
      " 0   pickup_datetime   1126867 non-null  datetime64[us]\n",
      " 1   dropoff_datetime  1126867 non-null  datetime64[us]\n",
      " 2   PULocationID      1126867 non-null  int64         \n",
      " 3   DOLocationID      1126867 non-null  int64         \n",
      " 4   passenger_count   1057035 non-null  float64       \n",
      " 5   trip_distance     1126867 non-null  float64       \n",
      " 6   tip_amount        1126867 non-null  float64       \n",
      " 7   amount            1126867 non-null  float64       \n",
      "dtypes: datetime64[us](2), float64(4), int64(2)\n",
      "memory usage: 68.8 MB\n"
     ]
    }
   ],
   "source": [
    "drop_cols = ['store_and_fwd_flag', 'fare_amount', 'extra', 'mta_tax', 'tolls_amount', 'improvement_surcharge',\n",
    "                    'ehail_fee', 'congestion_surcharge', 'trip_type', 'VendorID', 'RatecodeID', 'payment_type']\n",
    "\n",
    "# Eliminamos las columnas de la lista\n",
    "df_taxis_green.drop(columns=drop_cols, inplace=True)\n",
    "# Renombramos las columnas\n",
    "df_taxis_green.rename(columns={'lpep_pickup_datetime': 'pickup_datetime','lpep_dropoff_datetime': 'dropoff_datetime',\n",
    "                            'total_amount': 'amount'}, inplace=True)\n",
    "df_taxis_green.info()"
   ]
  },
  {
   "cell_type": "markdown",
   "metadata": {},
   "source": []
  },
  {
   "cell_type": "markdown",
   "metadata": {},
   "source": [
    "Las columnas de tip_amount y amount, se sumaran para tener una variable donde exprese la cantidad total del dinero que gasto el cliente."
   ]
  },
  {
   "cell_type": "code",
   "execution_count": 48,
   "metadata": {},
   "outputs": [],
   "source": [
    "# Sumamos las columnas amount y tip_amount para crear la columna total_price\n",
    "df_taxis_green['total_price'] = df_taxis_green['amount'] + df_taxis_green['tip_amount']\n",
    "df_taxis_green.drop(columns=['amount', 'tip_amount'], inplace=True)"
   ]
  },
  {
   "cell_type": "markdown",
   "metadata": {},
   "source": [
    "Debido a que las columnas con cantidad de pasajeros y distancia del viaje pueden llegar a ser 0, se procedio a eliminar las filas que posean 0 en estas columnas."
   ]
  },
  {
   "cell_type": "code",
   "execution_count": 49,
   "metadata": {},
   "outputs": [
    {
     "name": "stdout",
     "output_type": "stream",
     "text": [
      "passenger_count\n",
      "1.0    891297\n",
      "2.0     94581\n",
      "5.0     27804\n",
      "6.0     15144\n",
      "3.0     13620\n",
      "0.0      9260\n",
      "4.0      5190\n",
      "7.0        57\n",
      "9.0        43\n",
      "8.0        39\n",
      "Name: count, dtype: int64 trip_distance\n",
      "0.00        57261\n",
      "1.40        10015\n",
      "1.30         9529\n",
      "1.20         8453\n",
      "1.50         8092\n",
      "            ...  \n",
      "62.55           1\n",
      "58.74           1\n",
      "44.51           1\n",
      "107.97          1\n",
      "33967.47        1\n",
      "Name: count, Length: 4283, dtype: int64\n"
     ]
    }
   ],
   "source": [
    "print(df_taxis_green['passenger_count'].value_counts(),df_taxis_green['trip_distance'].value_counts())\n"
   ]
  },
  {
   "cell_type": "code",
   "execution_count": 50,
   "metadata": {},
   "outputs": [],
   "source": [
    "df_taxis_green = df_taxis_green[df_taxis_green['passenger_count'] != 0.0]\n",
    "df_taxis_green = df_taxis_green[df_taxis_green['trip_distance'] != 0.0]"
   ]
  },
  {
   "cell_type": "code",
   "execution_count": 51,
   "metadata": {},
   "outputs": [
    {
     "name": "stdout",
     "output_type": "stream",
     "text": [
      "67546\n"
     ]
    },
    {
     "data": {
      "text/plain": [
       "0"
      ]
     },
     "execution_count": 51,
     "metadata": {},
     "output_type": "execute_result"
    }
   ],
   "source": [
    "# Verificamos nulos\n",
    "print(df_taxis_green['passenger_count'].isnull().sum())\n",
    "# Debido a que sabemos que se efectuo el pago, completamos los valores nulos de la columna passenger_count con el valor 1.\n",
    "df_taxis_green['passenger_count'].fillna(1, inplace=True)\n",
    "df_taxis_green['passenger_count'].isnull().sum()"
   ]
  },
  {
   "cell_type": "markdown",
   "metadata": {},
   "source": [
    "#### Creacion de la columna \"service\" que sera booleana siendo 1 = \"green\" y 0 = \"yellow\""
   ]
  },
  {
   "cell_type": "code",
   "execution_count": 52,
   "metadata": {},
   "outputs": [
    {
     "data": {
      "text/html": [
       "<div>\n",
       "<style scoped>\n",
       "    .dataframe tbody tr th:only-of-type {\n",
       "        vertical-align: middle;\n",
       "    }\n",
       "\n",
       "    .dataframe tbody tr th {\n",
       "        vertical-align: top;\n",
       "    }\n",
       "\n",
       "    .dataframe thead th {\n",
       "        text-align: right;\n",
       "    }\n",
       "</style>\n",
       "<table border=\"1\" class=\"dataframe\">\n",
       "  <thead>\n",
       "    <tr style=\"text-align: right;\">\n",
       "      <th></th>\n",
       "      <th>pickup_datetime</th>\n",
       "      <th>dropoff_datetime</th>\n",
       "      <th>PULocationID</th>\n",
       "      <th>DOLocationID</th>\n",
       "      <th>passenger_count</th>\n",
       "      <th>trip_distance</th>\n",
       "      <th>total_price</th>\n",
       "      <th>service</th>\n",
       "    </tr>\n",
       "  </thead>\n",
       "  <tbody>\n",
       "    <tr>\n",
       "      <th>1126864</th>\n",
       "      <td>2024-06-30 19:39:00</td>\n",
       "      <td>2024-06-30 20:00:00</td>\n",
       "      <td>247</td>\n",
       "      <td>151</td>\n",
       "      <td>1.0</td>\n",
       "      <td>3.34</td>\n",
       "      <td>35.93</td>\n",
       "      <td>1</td>\n",
       "    </tr>\n",
       "    <tr>\n",
       "      <th>1126866</th>\n",
       "      <td>2024-06-30 22:10:00</td>\n",
       "      <td>2024-06-30 22:40:00</td>\n",
       "      <td>61</td>\n",
       "      <td>112</td>\n",
       "      <td>1.0</td>\n",
       "      <td>5.14</td>\n",
       "      <td>39.70</td>\n",
       "      <td>1</td>\n",
       "    </tr>\n",
       "  </tbody>\n",
       "</table>\n",
       "</div>"
      ],
      "text/plain": [
       "            pickup_datetime    dropoff_datetime  PULocationID  DOLocationID  \\\n",
       "1126864 2024-06-30 19:39:00 2024-06-30 20:00:00           247           151   \n",
       "1126866 2024-06-30 22:10:00 2024-06-30 22:40:00            61           112   \n",
       "\n",
       "         passenger_count  trip_distance  total_price  service  \n",
       "1126864              1.0           3.34        35.93        1  \n",
       "1126866              1.0           5.14        39.70        1  "
      ]
     },
     "execution_count": 52,
     "metadata": {},
     "output_type": "execute_result"
    }
   ],
   "source": [
    "df_taxis_green['service'] = 1\n",
    "df_taxis_green.tail(2)"
   ]
  },
  {
   "cell_type": "markdown",
   "metadata": {},
   "source": [
    "#### **Yellow Taxis**"
   ]
  },
  {
   "cell_type": "code",
   "execution_count": 53,
   "metadata": {},
   "outputs": [],
   "source": [
    "yellow_2301 = pd.read_parquet('descargas/yellow_tripdata_2023-01.parquet',engine='pyarrow')\n",
    "yellow_2302 = pd.read_parquet('descargas/yellow_tripdata_2023-02.parquet',engine='pyarrow')\n",
    "yellow_2303 = pd.read_parquet('descargas/yellow_tripdata_2023-03.parquet',engine='pyarrow')\n",
    "yellow_2304 = pd.read_parquet('descargas/yellow_tripdata_2023-04.parquet',engine='pyarrow')\n",
    "yellow_2305 = pd.read_parquet('descargas/yellow_tripdata_2023-05.parquet',engine='pyarrow')\n",
    "yellow_2306 = pd.read_parquet('descargas/yellow_tripdata_2023-06.parquet',engine='pyarrow')\n",
    "yellow_2307 = pd.read_parquet('descargas/yellow_tripdata_2023-07.parquet',engine='pyarrow')\n",
    "yellow_2308 = pd.read_parquet('descargas/yellow_tripdata_2023-08.parquet',engine='pyarrow')\n",
    "yellow_2309 = pd.read_parquet('descargas/yellow_tripdata_2023-09.parquet',engine='pyarrow')\n",
    "yellow_2310 = pd.read_parquet('descargas/yellow_tripdata_2023-10.parquet',engine='pyarrow')\n",
    "yellow_2311 = pd.read_parquet('descargas/yellow_tripdata_2023-11.parquet',engine='pyarrow')\n",
    "yellow_2312 = pd.read_parquet('descargas/yellow_tripdata_2023-12.parquet',engine='pyarrow')\n",
    "yellow_2401 = pd.read_parquet('descargas/yellow_tripdata_2024-01.parquet',engine='pyarrow')\n",
    "yellow_2402 = pd.read_parquet('descargas/yellow_tripdata_2024-02.parquet',engine='pyarrow')\n",
    "yellow_2403 = pd.read_parquet('descargas/yellow_tripdata_2024-03.parquet',engine='pyarrow')\n",
    "yellow_2404 = pd.read_parquet('descargas/yellow_tripdata_2024-04.parquet',engine='pyarrow')\n",
    "yellow_2405 = pd.read_parquet('descargas/yellow_tripdata_2024-05.parquet',engine='pyarrow')\n",
    "yellow_2406 = pd.read_parquet('descargas/yellow_tripdata_2024-06.parquet',engine='pyarrow')\n",
    "#green_2407 = pd.read_parquet('descargas/yellow_tripdata_2024-07.parquet',engine='pyarrow')"
   ]
  },
  {
   "cell_type": "markdown",
   "metadata": {},
   "source": []
  },
  {
   "cell_type": "code",
   "execution_count": 54,
   "metadata": {},
   "outputs": [
    {
     "name": "stdout",
     "output_type": "stream",
     "text": [
      "<class 'list'>\n",
      "<class 'pandas.core.frame.DataFrame'>\n",
      "RangeIndex: 58642319 entries, 0 to 58642318\n",
      "Data columns (total 20 columns):\n",
      " #   Column                 Dtype         \n",
      "---  ------                 -----         \n",
      " 0   VendorID               int64         \n",
      " 1   tpep_pickup_datetime   datetime64[us]\n",
      " 2   tpep_dropoff_datetime  datetime64[us]\n",
      " 3   passenger_count        float64       \n",
      " 4   trip_distance          float64       \n",
      " 5   RatecodeID             float64       \n",
      " 6   store_and_fwd_flag     object        \n",
      " 7   PULocationID           int64         \n",
      " 8   DOLocationID           int64         \n",
      " 9   payment_type           int64         \n",
      " 10  fare_amount            float64       \n",
      " 11  extra                  float64       \n",
      " 12  mta_tax                float64       \n",
      " 13  tip_amount             float64       \n",
      " 14  tolls_amount           float64       \n",
      " 15  improvement_surcharge  float64       \n",
      " 16  total_amount           float64       \n",
      " 17  congestion_surcharge   float64       \n",
      " 18  airport_fee            float64       \n",
      " 19  Airport_fee            float64       \n",
      "dtypes: datetime64[us](2), float64(13), int64(4), object(1)\n",
      "memory usage: 8.7+ GB\n",
      "VendorID                        0\n",
      "tpep_pickup_datetime            0\n",
      "tpep_dropoff_datetime           0\n",
      "passenger_count           3285341\n",
      "trip_distance                   0\n",
      "RatecodeID                3285341\n",
      "store_and_fwd_flag        3285341\n",
      "PULocationID                    0\n",
      "DOLocationID                    0\n",
      "payment_type                    0\n",
      "fare_amount                     0\n",
      "extra                           0\n",
      "mta_tax                         0\n",
      "tip_amount                      0\n",
      "tolls_amount                    0\n",
      "improvement_surcharge           0\n",
      "total_amount                    0\n",
      "congestion_surcharge      3285341\n",
      "airport_fee              55647296\n",
      "Airport_fee               6280364\n",
      "dtype: int64\n"
     ]
    }
   ],
   "source": [
    "df_taxis_yellow = [yellow_2301,yellow_2302,yellow_2303,yellow_2304,yellow_2305,yellow_2306,\n",
    "                   yellow_2307,yellow_2308,yellow_2309,yellow_2310,yellow_2311,yellow_2312,\n",
    "                   yellow_2401,yellow_2402,yellow_2403,yellow_2404,yellow_2405,yellow_2406]\n",
    "print(type(df_taxis_yellow))\n",
    "\n",
    "df_taxis_yellow = pd.concat(df_taxis_yellow, ignore_index=True)\n",
    "df_taxis_yellow.info()\n",
    "\n",
    "print(df_taxis_yellow.isna().sum())"
   ]
  },
  {
   "cell_type": "code",
   "execution_count": 55,
   "metadata": {},
   "outputs": [
    {
     "name": "stdout",
     "output_type": "stream",
     "text": [
      "<class 'pandas.core.frame.DataFrame'>\n",
      "RangeIndex: 58642319 entries, 0 to 58642318\n",
      "Data columns (total 8 columns):\n",
      " #   Column            Dtype         \n",
      "---  ------            -----         \n",
      " 0   pickup_datetime   datetime64[us]\n",
      " 1   dropoff_datetime  datetime64[us]\n",
      " 2   passenger_count   float64       \n",
      " 3   trip_distance     float64       \n",
      " 4   PULocationID      int64         \n",
      " 5   DOLocationID      int64         \n",
      " 6   tip_amount        float64       \n",
      " 7   amount            float64       \n",
      "dtypes: datetime64[us](2), float64(4), int64(2)\n",
      "memory usage: 3.5 GB\n"
     ]
    }
   ],
   "source": [
    "drop_cols = ['store_and_fwd_flag', 'fare_amount', 'extra', 'mta_tax', 'tolls_amount', 'improvement_surcharge',\n",
    "                    'congestion_surcharge', 'VendorID', 'RatecodeID', 'payment_type','airport_fee','Airport_fee']\n",
    "\n",
    "# Eliminamos las columnas de la lista\n",
    "df_taxis_yellow.drop(columns=drop_cols, inplace=True)\n",
    "\n",
    "# Renombramos las columnas\n",
    "df_taxis_yellow.rename(columns={'tpep_pickup_datetime': 'pickup_datetime','tpep_dropoff_datetime': 'dropoff_datetime',\n",
    "                            'total_amount': 'amount'}, inplace=True)\n",
    "df_taxis_yellow.info()"
   ]
  },
  {
   "cell_type": "markdown",
   "metadata": {},
   "source": [
    "- pickup_datetime\n",
    "- dropoff_datetime\n",
    "- PULocationID      \n",
    "- DOLocationID      \n",
    "- passenger_count\n",
    "- trip_distance\n",
    "- tip_amount\n",
    "- amount"
   ]
  },
  {
   "cell_type": "code",
   "execution_count": 56,
   "metadata": {},
   "outputs": [],
   "source": [
    "# Sumamos las columnas amount y tip_amount para crear la columna total_price\n",
    "df_taxis_yellow['total_price'] = df_taxis_yellow['amount'] + df_taxis_yellow['tip_amount']\n",
    "df_taxis_yellow.drop(columns=['amount', 'tip_amount'], inplace=True)"
   ]
  },
  {
   "cell_type": "code",
   "execution_count": 57,
   "metadata": {},
   "outputs": [],
   "source": [
    "df_taxis_yellow = df_taxis_yellow[df_taxis_yellow['passenger_count'] != 0.0]\n",
    "df_taxis_yellow = df_taxis_yellow[df_taxis_yellow['trip_distance'] != 0.0]"
   ]
  },
  {
   "cell_type": "code",
   "execution_count": 58,
   "metadata": {},
   "outputs": [
    {
     "name": "stdout",
     "output_type": "stream",
     "text": [
      "2869727\n"
     ]
    },
    {
     "data": {
      "text/plain": [
       "0"
      ]
     },
     "execution_count": 58,
     "metadata": {},
     "output_type": "execute_result"
    }
   ],
   "source": [
    "# Verificamos nulos\n",
    "print(df_taxis_yellow['passenger_count'].isnull().sum())\n",
    "# Debido a que sabemos que se efectuo el pago, completamos los valores nulos de la columna passenger_count con el valor 1.\n",
    "df_taxis_yellow['passenger_count'].fillna(1, inplace=True)\n",
    "df_taxis_yellow['passenger_count'].isnull().sum()"
   ]
  },
  {
   "cell_type": "code",
   "execution_count": 59,
   "metadata": {},
   "outputs": [
    {
     "data": {
      "text/html": [
       "<div>\n",
       "<style scoped>\n",
       "    .dataframe tbody tr th:only-of-type {\n",
       "        vertical-align: middle;\n",
       "    }\n",
       "\n",
       "    .dataframe tbody tr th {\n",
       "        vertical-align: top;\n",
       "    }\n",
       "\n",
       "    .dataframe thead th {\n",
       "        text-align: right;\n",
       "    }\n",
       "</style>\n",
       "<table border=\"1\" class=\"dataframe\">\n",
       "  <thead>\n",
       "    <tr style=\"text-align: right;\">\n",
       "      <th></th>\n",
       "      <th>pickup_datetime</th>\n",
       "      <th>dropoff_datetime</th>\n",
       "      <th>passenger_count</th>\n",
       "      <th>trip_distance</th>\n",
       "      <th>PULocationID</th>\n",
       "      <th>DOLocationID</th>\n",
       "      <th>total_price</th>\n",
       "      <th>service</th>\n",
       "    </tr>\n",
       "  </thead>\n",
       "  <tbody>\n",
       "    <tr>\n",
       "      <th>58642317</th>\n",
       "      <td>2024-06-30 23:33:36</td>\n",
       "      <td>2024-06-30 23:42:37</td>\n",
       "      <td>1.0</td>\n",
       "      <td>1.60</td>\n",
       "      <td>158</td>\n",
       "      <td>231</td>\n",
       "      <td>18.41</td>\n",
       "      <td>0</td>\n",
       "    </tr>\n",
       "    <tr>\n",
       "      <th>58642318</th>\n",
       "      <td>2024-06-30 23:04:50</td>\n",
       "      <td>2024-06-30 23:11:15</td>\n",
       "      <td>1.0</td>\n",
       "      <td>1.28</td>\n",
       "      <td>158</td>\n",
       "      <td>186</td>\n",
       "      <td>16.40</td>\n",
       "      <td>0</td>\n",
       "    </tr>\n",
       "  </tbody>\n",
       "</table>\n",
       "</div>"
      ],
      "text/plain": [
       "             pickup_datetime    dropoff_datetime  passenger_count  \\\n",
       "58642317 2024-06-30 23:33:36 2024-06-30 23:42:37              1.0   \n",
       "58642318 2024-06-30 23:04:50 2024-06-30 23:11:15              1.0   \n",
       "\n",
       "          trip_distance  PULocationID  DOLocationID  total_price  service  \n",
       "58642317           1.60           158           231        18.41        0  \n",
       "58642318           1.28           158           186        16.40        0  "
      ]
     },
     "execution_count": 59,
     "metadata": {},
     "output_type": "execute_result"
    }
   ],
   "source": [
    "df_taxis_yellow['service'] = 0\n",
    "df_taxis_yellow.tail(2)"
   ]
  },
  {
   "cell_type": "code",
   "execution_count": 60,
   "metadata": {},
   "outputs": [
    {
     "data": {
      "text/plain": [
       "Index(['pickup_datetime', 'dropoff_datetime', 'passenger_count',\n",
       "       'trip_distance', 'PULocationID', 'DOLocationID', 'total_price',\n",
       "       'service'],\n",
       "      dtype='object')"
      ]
     },
     "execution_count": 60,
     "metadata": {},
     "output_type": "execute_result"
    }
   ],
   "source": [
    "df_taxis_yellow.columns"
   ]
  },
  {
   "cell_type": "code",
   "execution_count": 61,
   "metadata": {},
   "outputs": [],
   "source": [
    "new_order = ['pickup_datetime', 'dropoff_datetime', 'passenger_count',\n",
    "             'trip_distance', 'PULocationID', 'DOLocationID','total_price','service']\n",
    "df_taxis_green = df_taxis_green.reindex(columns=new_order)"
   ]
  },
  {
   "cell_type": "code",
   "execution_count": 62,
   "metadata": {},
   "outputs": [
    {
     "name": "stdout",
     "output_type": "stream",
     "text": [
      "<class 'pandas.core.frame.DataFrame'>\n",
      "RangeIndex: 57785408 entries, 0 to 57785407\n",
      "Data columns (total 8 columns):\n",
      " #   Column            Dtype         \n",
      "---  ------            -----         \n",
      " 0   pickup_datetime   datetime64[us]\n",
      " 1   dropoff_datetime  datetime64[us]\n",
      " 2   passenger_count   float64       \n",
      " 3   trip_distance     float64       \n",
      " 4   PULocationID      int64         \n",
      " 5   DOLocationID      int64         \n",
      " 6   total_price       float64       \n",
      " 7   service           int64         \n",
      "dtypes: datetime64[us](2), float64(3), int64(3)\n",
      "memory usage: 3.4 GB\n"
     ]
    }
   ],
   "source": [
    "# Concatenamos los DataFrames de yellow y green taxis\n",
    "taxis = pd.concat([df_taxis_yellow, df_taxis_green], ignore_index=True)\n",
    "taxis.info()"
   ]
  },
  {
   "cell_type": "code",
   "execution_count": 63,
   "metadata": {},
   "outputs": [
    {
     "data": {
      "text/plain": [
       "Timestamp('2001-01-01 00:06:49')"
      ]
     },
     "execution_count": 63,
     "metadata": {},
     "output_type": "execute_result"
    }
   ],
   "source": [
    "taxis.pickup_datetime.min()"
   ]
  },
  {
   "cell_type": "code",
   "execution_count": 64,
   "metadata": {},
   "outputs": [
    {
     "data": {
      "text/plain": [
       "Index(['pickup_datetime', 'dropoff_datetime', 'passenger_count',\n",
       "       'trip_distance', 'PULocationID', 'DOLocationID', 'total_price',\n",
       "       'service'],\n",
       "      dtype='object')"
      ]
     },
     "execution_count": 64,
     "metadata": {},
     "output_type": "execute_result"
    }
   ],
   "source": [
    "taxis.columns"
   ]
  },
  {
   "cell_type": "code",
   "execution_count": 65,
   "metadata": {},
   "outputs": [],
   "source": [
    "taxis = taxis.sort_values(by='pickup_datetime')"
   ]
  },
  {
   "cell_type": "code",
   "execution_count": 66,
   "metadata": {},
   "outputs": [
    {
     "data": {
      "text/html": [
       "<div>\n",
       "<style scoped>\n",
       "    .dataframe tbody tr th:only-of-type {\n",
       "        vertical-align: middle;\n",
       "    }\n",
       "\n",
       "    .dataframe tbody tr th {\n",
       "        vertical-align: top;\n",
       "    }\n",
       "\n",
       "    .dataframe thead th {\n",
       "        text-align: right;\n",
       "    }\n",
       "</style>\n",
       "<table border=\"1\" class=\"dataframe\">\n",
       "  <thead>\n",
       "    <tr style=\"text-align: right;\">\n",
       "      <th></th>\n",
       "      <th>pickup_datetime</th>\n",
       "      <th>dropoff_datetime</th>\n",
       "      <th>passenger_count</th>\n",
       "      <th>trip_distance</th>\n",
       "      <th>PULocationID</th>\n",
       "      <th>DOLocationID</th>\n",
       "      <th>total_price</th>\n",
       "      <th>service</th>\n",
       "    </tr>\n",
       "  </thead>\n",
       "  <tbody>\n",
       "    <tr>\n",
       "      <th>7022616</th>\n",
       "      <td>2001-01-01 00:06:49</td>\n",
       "      <td>2001-01-01 15:42:11</td>\n",
       "      <td>2.0</td>\n",
       "      <td>7.41</td>\n",
       "      <td>161</td>\n",
       "      <td>231</td>\n",
       "      <td>53.9</td>\n",
       "      <td>0</td>\n",
       "    </tr>\n",
       "    <tr>\n",
       "      <th>12041332</th>\n",
       "      <td>2001-01-01 00:07:36</td>\n",
       "      <td>2001-01-01 00:16:31</td>\n",
       "      <td>1.0</td>\n",
       "      <td>1.68</td>\n",
       "      <td>239</td>\n",
       "      <td>43</td>\n",
       "      <td>14.7</td>\n",
       "      <td>0</td>\n",
       "    </tr>\n",
       "  </tbody>\n",
       "</table>\n",
       "</div>"
      ],
      "text/plain": [
       "             pickup_datetime    dropoff_datetime  passenger_count  \\\n",
       "7022616  2001-01-01 00:06:49 2001-01-01 15:42:11              2.0   \n",
       "12041332 2001-01-01 00:07:36 2001-01-01 00:16:31              1.0   \n",
       "\n",
       "          trip_distance  PULocationID  DOLocationID  total_price  service  \n",
       "7022616            7.41           161           231         53.9        0  \n",
       "12041332           1.68           239            43         14.7        0  "
      ]
     },
     "execution_count": 66,
     "metadata": {},
     "output_type": "execute_result"
    }
   ],
   "source": [
    "taxis.head(2)"
   ]
  },
  {
   "cell_type": "markdown",
   "metadata": {},
   "source": [
    "Debido a la existencia de algunos datos que su fecha no corresponde con los años extraidos, se procedera a aplicar una mascara para su filtrado."
   ]
  },
  {
   "cell_type": "code",
   "execution_count": 67,
   "metadata": {},
   "outputs": [
    {
     "name": "stdout",
     "output_type": "stream",
     "text": [
      "(57785408, 8)\n",
      "(57785287, 8)\n"
     ]
    }
   ],
   "source": [
    "print(taxis.shape)\n",
    "taxis = taxis[(taxis['pickup_datetime'].dt.year == 2023) | (taxis['pickup_datetime'].dt.year == 2024)]\n",
    "print(taxis.shape)"
   ]
  },
  {
   "cell_type": "code",
   "execution_count": 68,
   "metadata": {},
   "outputs": [
    {
     "name": "stdout",
     "output_type": "stream",
     "text": [
      "<class 'pandas.core.frame.DataFrame'>\n",
      "Index: 57785287 entries, 2906736 to 56322147\n",
      "Data columns (total 8 columns):\n",
      " #   Column            Dtype         \n",
      "---  ------            -----         \n",
      " 0   pickup_datetime   datetime64[us]\n",
      " 1   dropoff_datetime  datetime64[us]\n",
      " 2   passenger_count   float64       \n",
      " 3   trip_distance     float64       \n",
      " 4   PULocationID      int64         \n",
      " 5   DOLocationID      int64         \n",
      " 6   total_price       float64       \n",
      " 7   service           int64         \n",
      "dtypes: datetime64[us](2), float64(3), int64(3)\n",
      "memory usage: 3.9 GB\n"
     ]
    }
   ],
   "source": [
    "taxis.info()"
   ]
  },
  {
   "cell_type": "code",
   "execution_count": 69,
   "metadata": {},
   "outputs": [],
   "source": [
    "# Extraer año, trimestre, mes, día del mes, día de la semana y hora\n",
    "#taxis['year'] = taxis['pickup_datetime'].dt.year\n",
    "#taxis['quarter'] = taxis['pickup_datetime'].dt.quarter\n",
    "#taxis['month'] = taxis['pickup_datetime'].dt.month\n",
    "#taxis['day_month'] = taxis['pickup_datetime'].dt.day\n",
    "#taxis['weekday'] = taxis['pickup_datetime'].dt.day_name()\n",
    "#taxis['hour'] = taxis['pickup_datetime'].dt.hour\n",
    "#taxis.drop(columns=['pickup_datetime','dropoff_datetime'],inplace=True)"
   ]
  },
  {
   "cell_type": "code",
   "execution_count": 70,
   "metadata": {},
   "outputs": [
    {
     "name": "stdout",
     "output_type": "stream",
     "text": [
      "<class 'pandas.core.frame.DataFrame'>\n",
      "Index: 57785287 entries, 2906736 to 56322147\n",
      "Data columns (total 8 columns):\n",
      " #   Column            Dtype         \n",
      "---  ------            -----         \n",
      " 0   pickup_datetime   datetime64[us]\n",
      " 1   dropoff_datetime  datetime64[us]\n",
      " 2   passenger_count   float64       \n",
      " 3   trip_distance     float64       \n",
      " 4   PULocationID      int64         \n",
      " 5   DOLocationID      int64         \n",
      " 6   total_price       float64       \n",
      " 7   service           int64         \n",
      "dtypes: datetime64[us](2), float64(3), int64(3)\n",
      "memory usage: 3.9 GB\n"
     ]
    }
   ],
   "source": [
    "taxis.info()"
   ]
  },
  {
   "cell_type": "code",
   "execution_count": 71,
   "metadata": {},
   "outputs": [
    {
     "name": "stdout",
     "output_type": "stream",
     "text": [
      "<class 'pandas.core.frame.DataFrame'>\n",
      "Index: 57785287 entries, 2906736 to 56322147\n",
      "Data columns (total 8 columns):\n",
      " #   Column            Dtype         \n",
      "---  ------            -----         \n",
      " 0   pickup_datetime   datetime64[us]\n",
      " 1   dropoff_datetime  datetime64[us]\n",
      " 2   passenger_count   float64       \n",
      " 3   trip_distance     float64       \n",
      " 4   PULocationID      int64         \n",
      " 5   DOLocationID      int64         \n",
      " 6   total_price       float64       \n",
      " 7   service           int64         \n",
      "dtypes: datetime64[us](2), float64(3), int64(3)\n",
      "memory usage: 3.9 GB\n"
     ]
    }
   ],
   "source": [
    "taxis.info()"
   ]
  },
  {
   "cell_type": "code",
   "execution_count": 74,
   "metadata": {},
   "outputs": [
    {
     "name": "stdout",
     "output_type": "stream",
     "text": [
      "<class 'pandas.core.frame.DataFrame'>\n",
      "Index: 57785287 entries, 2906736 to 56322147\n",
      "Data columns (total 8 columns):\n",
      " #   Column             Dtype  \n",
      "---  ------             -----  \n",
      " 0   passenger_count    float64\n",
      " 1   trip_distance      float64\n",
      " 2   PULocationID       int64  \n",
      " 3   DOLocationID       int64  \n",
      " 4   total_price        float64\n",
      " 5   service            int64  \n",
      " 6   pickup_timestamp   int64  \n",
      " 7   dropoff_timestamp  int64  \n",
      "dtypes: float64(3), int64(5)\n",
      "memory usage: 3.9 GB\n"
     ]
    }
   ],
   "source": [
    "taxis.info()"
   ]
  },
  {
   "cell_type": "code",
   "execution_count": 75,
   "metadata": {},
   "outputs": [],
   "source": [
    "taxis.to_parquet('Data\\process_taxis.parquet',engine='pyarrow')"
   ]
  },
  {
   "cell_type": "code",
   "execution_count": 76,
   "metadata": {},
   "outputs": [],
   "source": [
    "del taxis\n",
    "del df_taxis_green\n",
    "del df_taxis_yellow"
   ]
  },
  {
   "cell_type": "markdown",
   "metadata": {},
   "source": [
    "#### Fuel data"
   ]
  },
  {
   "cell_type": "code",
   "execution_count": 34,
   "metadata": {},
   "outputs": [],
   "source": [
    "df_electric = pd.read_csv('descargas/Fuel_rate/my2012-2024-battery-electric-vehicles.csv')\n",
    "df_hybrid = pd.read_csv('descargas/Fuel_rate/my2012-2024-plug-in-hybrid-electric-vehicles.csv')\n",
    "df_combustion = pd.read_csv('descargas/Fuel_rate/my2024-fuel-consumption-ratings.csv', encoding='latin-1')"
   ]
  },
  {
   "cell_type": "code",
   "execution_count": 35,
   "metadata": {},
   "outputs": [
    {
     "data": {
      "text/html": [
       "<div>\n",
       "<style scoped>\n",
       "    .dataframe tbody tr th:only-of-type {\n",
       "        vertical-align: middle;\n",
       "    }\n",
       "\n",
       "    .dataframe tbody tr th {\n",
       "        vertical-align: top;\n",
       "    }\n",
       "\n",
       "    .dataframe thead th {\n",
       "        text-align: right;\n",
       "    }\n",
       "</style>\n",
       "<table border=\"1\" class=\"dataframe\">\n",
       "  <thead>\n",
       "    <tr style=\"text-align: right;\">\n",
       "      <th></th>\n",
       "      <th>Model year</th>\n",
       "      <th>Make</th>\n",
       "      <th>Model</th>\n",
       "      <th>Vehicle class</th>\n",
       "      <th>Motor (kW)</th>\n",
       "      <th>Transmission</th>\n",
       "      <th>Fuel type</th>\n",
       "      <th>City (kWh/100 km)</th>\n",
       "      <th>Highway (kWh/100 km)</th>\n",
       "      <th>Combined (kWh/100 km)</th>\n",
       "      <th>City (Le/100 km)</th>\n",
       "      <th>Highway (Le/100 km)</th>\n",
       "      <th>Combined (Le/100 km)</th>\n",
       "      <th>Range (km)</th>\n",
       "      <th>CO2 emissions (g/km)</th>\n",
       "      <th>CO2 rating</th>\n",
       "      <th>Smog rating</th>\n",
       "      <th>Recharge time (h)</th>\n",
       "    </tr>\n",
       "  </thead>\n",
       "  <tbody>\n",
       "    <tr>\n",
       "      <th>199</th>\n",
       "      <td>2021</td>\n",
       "      <td>Nissan</td>\n",
       "      <td>LEAF SV/SL PLUS</td>\n",
       "      <td>Mid-size</td>\n",
       "      <td>160</td>\n",
       "      <td>A1</td>\n",
       "      <td>B</td>\n",
       "      <td>18.3</td>\n",
       "      <td>22.1</td>\n",
       "      <td>20.0</td>\n",
       "      <td>2.1</td>\n",
       "      <td>2.5</td>\n",
       "      <td>2.2</td>\n",
       "      <td>349</td>\n",
       "      <td>0</td>\n",
       "      <td>10.0</td>\n",
       "      <td>10.0</td>\n",
       "      <td>11.0</td>\n",
       "    </tr>\n",
       "    <tr>\n",
       "      <th>249</th>\n",
       "      <td>2022</td>\n",
       "      <td>Ford</td>\n",
       "      <td>Mustang Mach-E Standard Range</td>\n",
       "      <td>Sport utility vehicle: Small</td>\n",
       "      <td>198</td>\n",
       "      <td>A1</td>\n",
       "      <td>B</td>\n",
       "      <td>19.0</td>\n",
       "      <td>21.9</td>\n",
       "      <td>20.3</td>\n",
       "      <td>2.1</td>\n",
       "      <td>2.5</td>\n",
       "      <td>2.3</td>\n",
       "      <td>397</td>\n",
       "      <td>0</td>\n",
       "      <td>10.0</td>\n",
       "      <td>10.0</td>\n",
       "      <td>8.1</td>\n",
       "    </tr>\n",
       "  </tbody>\n",
       "</table>\n",
       "</div>"
      ],
      "text/plain": [
       "     Model year    Make                          Model  \\\n",
       "199        2021  Nissan                LEAF SV/SL PLUS   \n",
       "249        2022    Ford  Mustang Mach-E Standard Range   \n",
       "\n",
       "                    Vehicle class  Motor (kW) Transmission Fuel type  \\\n",
       "199                      Mid-size         160           A1         B   \n",
       "249  Sport utility vehicle: Small         198           A1         B   \n",
       "\n",
       "     City (kWh/100 km)  Highway (kWh/100 km)  Combined (kWh/100 km)  \\\n",
       "199               18.3                  22.1                   20.0   \n",
       "249               19.0                  21.9                   20.3   \n",
       "\n",
       "     City (Le/100 km)  Highway (Le/100 km)  Combined (Le/100 km)  Range (km)  \\\n",
       "199               2.1                  2.5                   2.2         349   \n",
       "249               2.1                  2.5                   2.3         397   \n",
       "\n",
       "     CO2 emissions (g/km)  CO2 rating   Smog rating  Recharge time (h)  \n",
       "199                     0         10.0         10.0               11.0  \n",
       "249                     0         10.0         10.0                8.1  "
      ]
     },
     "execution_count": 35,
     "metadata": {},
     "output_type": "execute_result"
    }
   ],
   "source": [
    "df_electric.sample(2)"
   ]
  },
  {
   "cell_type": "code",
   "execution_count": 36,
   "metadata": {},
   "outputs": [],
   "source": [
    "df = pd.read_parquet('Data\\process_taxis.parquet',engine='pyarrow')"
   ]
  },
  {
   "cell_type": "code",
   "execution_count": 37,
   "metadata": {},
   "outputs": [],
   "source": [
    "import seaborn as sns\n",
    "import matplotlib.pyplot as plt"
   ]
  },
  {
   "cell_type": "code",
   "execution_count": 38,
   "metadata": {},
   "outputs": [
    {
     "data": {
      "text/html": [
       "<div>\n",
       "<style scoped>\n",
       "    .dataframe tbody tr th:only-of-type {\n",
       "        vertical-align: middle;\n",
       "    }\n",
       "\n",
       "    .dataframe tbody tr th {\n",
       "        vertical-align: top;\n",
       "    }\n",
       "\n",
       "    .dataframe thead th {\n",
       "        text-align: right;\n",
       "    }\n",
       "</style>\n",
       "<table border=\"1\" class=\"dataframe\">\n",
       "  <thead>\n",
       "    <tr style=\"text-align: right;\">\n",
       "      <th></th>\n",
       "      <th>pickup_datetime</th>\n",
       "      <th>dropoff_datetime</th>\n",
       "      <th>passenger_count</th>\n",
       "      <th>trip_distance</th>\n",
       "      <th>PULocationID</th>\n",
       "      <th>DOLocationID</th>\n",
       "      <th>total_price</th>\n",
       "      <th>service</th>\n",
       "    </tr>\n",
       "  </thead>\n",
       "  <tbody>\n",
       "    <tr>\n",
       "      <th>28819687</th>\n",
       "      <td>2023-10-11 15:42:18</td>\n",
       "      <td>2023-10-11 16:01:11</td>\n",
       "      <td>1.0</td>\n",
       "      <td>0.07</td>\n",
       "      <td>229</td>\n",
       "      <td>234</td>\n",
       "      <td>27.70</td>\n",
       "      <td>0</td>\n",
       "    </tr>\n",
       "    <tr>\n",
       "      <th>29409113</th>\n",
       "      <td>2023-10-16 19:19:58</td>\n",
       "      <td>2023-10-16 19:40:47</td>\n",
       "      <td>1.0</td>\n",
       "      <td>3.60</td>\n",
       "      <td>161</td>\n",
       "      <td>231</td>\n",
       "      <td>35.80</td>\n",
       "      <td>0</td>\n",
       "    </tr>\n",
       "    <tr>\n",
       "      <th>53015615</th>\n",
       "      <td>2024-05-20 11:46:07</td>\n",
       "      <td>2024-05-20 12:39:51</td>\n",
       "      <td>1.0</td>\n",
       "      <td>11.90</td>\n",
       "      <td>138</td>\n",
       "      <td>230</td>\n",
       "      <td>109.33</td>\n",
       "      <td>0</td>\n",
       "    </tr>\n",
       "    <tr>\n",
       "      <th>1603998</th>\n",
       "      <td>2023-01-17 23:59:40</td>\n",
       "      <td>2023-01-18 00:16:02</td>\n",
       "      <td>1.0</td>\n",
       "      <td>4.31</td>\n",
       "      <td>230</td>\n",
       "      <td>151</td>\n",
       "      <td>40.34</td>\n",
       "      <td>0</td>\n",
       "    </tr>\n",
       "    <tr>\n",
       "      <th>27094235</th>\n",
       "      <td>2023-09-25 12:45:36</td>\n",
       "      <td>2023-09-25 12:49:53</td>\n",
       "      <td>1.0</td>\n",
       "      <td>0.50</td>\n",
       "      <td>236</td>\n",
       "      <td>237</td>\n",
       "      <td>10.50</td>\n",
       "      <td>0</td>\n",
       "    </tr>\n",
       "    <tr>\n",
       "      <th>29099548</th>\n",
       "      <td>2023-10-13 21:19:57</td>\n",
       "      <td>2023-10-13 21:24:45</td>\n",
       "      <td>1.0</td>\n",
       "      <td>0.71</td>\n",
       "      <td>166</td>\n",
       "      <td>151</td>\n",
       "      <td>12.60</td>\n",
       "      <td>0</td>\n",
       "    </tr>\n",
       "    <tr>\n",
       "      <th>28660377</th>\n",
       "      <td>2023-10-10 07:03:08</td>\n",
       "      <td>2023-10-10 07:06:23</td>\n",
       "      <td>1.0</td>\n",
       "      <td>0.76</td>\n",
       "      <td>237</td>\n",
       "      <td>236</td>\n",
       "      <td>9.80</td>\n",
       "      <td>0</td>\n",
       "    </tr>\n",
       "    <tr>\n",
       "      <th>44971649</th>\n",
       "      <td>2024-03-13 13:45:28</td>\n",
       "      <td>2024-03-13 14:10:57</td>\n",
       "      <td>1.0</td>\n",
       "      <td>6.10</td>\n",
       "      <td>230</td>\n",
       "      <td>152</td>\n",
       "      <td>48.24</td>\n",
       "      <td>0</td>\n",
       "    </tr>\n",
       "    <tr>\n",
       "      <th>9976492</th>\n",
       "      <td>2023-04-07 14:53:28</td>\n",
       "      <td>2023-04-07 14:57:44</td>\n",
       "      <td>1.0</td>\n",
       "      <td>0.90</td>\n",
       "      <td>263</td>\n",
       "      <td>236</td>\n",
       "      <td>15.70</td>\n",
       "      <td>0</td>\n",
       "    </tr>\n",
       "    <tr>\n",
       "      <th>3602318</th>\n",
       "      <td>2023-02-06 16:30:03</td>\n",
       "      <td>2023-02-06 16:37:07</td>\n",
       "      <td>1.0</td>\n",
       "      <td>0.14</td>\n",
       "      <td>140</td>\n",
       "      <td>140</td>\n",
       "      <td>14.40</td>\n",
       "      <td>0</td>\n",
       "    </tr>\n",
       "    <tr>\n",
       "      <th>20806530</th>\n",
       "      <td>2023-07-18 12:17:58</td>\n",
       "      <td>2023-07-18 12:34:29</td>\n",
       "      <td>2.0</td>\n",
       "      <td>1.80</td>\n",
       "      <td>237</td>\n",
       "      <td>262</td>\n",
       "      <td>26.20</td>\n",
       "      <td>0</td>\n",
       "    </tr>\n",
       "    <tr>\n",
       "      <th>34775075</th>\n",
       "      <td>2023-12-04 12:41:51</td>\n",
       "      <td>2023-12-04 12:48:52</td>\n",
       "      <td>1.0</td>\n",
       "      <td>0.97</td>\n",
       "      <td>236</td>\n",
       "      <td>262</td>\n",
       "      <td>16.66</td>\n",
       "      <td>0</td>\n",
       "    </tr>\n",
       "    <tr>\n",
       "      <th>54753649</th>\n",
       "      <td>2024-06-05 05:40:30</td>\n",
       "      <td>2024-06-05 05:49:19</td>\n",
       "      <td>1.0</td>\n",
       "      <td>2.14</td>\n",
       "      <td>186</td>\n",
       "      <td>237</td>\n",
       "      <td>17.10</td>\n",
       "      <td>0</td>\n",
       "    </tr>\n",
       "    <tr>\n",
       "      <th>14011038</th>\n",
       "      <td>2023-05-13 18:33:48</td>\n",
       "      <td>2023-05-13 19:03:38</td>\n",
       "      <td>1.0</td>\n",
       "      <td>2.53</td>\n",
       "      <td>230</td>\n",
       "      <td>234</td>\n",
       "      <td>41.16</td>\n",
       "      <td>0</td>\n",
       "    </tr>\n",
       "    <tr>\n",
       "      <th>38975054</th>\n",
       "      <td>2024-01-14 22:39:45</td>\n",
       "      <td>2024-01-14 22:55:08</td>\n",
       "      <td>1.0</td>\n",
       "      <td>3.94</td>\n",
       "      <td>236</td>\n",
       "      <td>249</td>\n",
       "      <td>34.72</td>\n",
       "      <td>0</td>\n",
       "    </tr>\n",
       "    <tr>\n",
       "      <th>52820336</th>\n",
       "      <td>2024-05-18 17:35:35</td>\n",
       "      <td>2024-05-18 18:17:41</td>\n",
       "      <td>1.0</td>\n",
       "      <td>9.70</td>\n",
       "      <td>138</td>\n",
       "      <td>229</td>\n",
       "      <td>84.81</td>\n",
       "      <td>0</td>\n",
       "    </tr>\n",
       "    <tr>\n",
       "      <th>54719646</th>\n",
       "      <td>2024-06-04 19:40:41</td>\n",
       "      <td>2024-06-04 19:58:46</td>\n",
       "      <td>1.0</td>\n",
       "      <td>6.70</td>\n",
       "      <td>132</td>\n",
       "      <td>76</td>\n",
       "      <td>51.95</td>\n",
       "      <td>0</td>\n",
       "    </tr>\n",
       "    <tr>\n",
       "      <th>52015256</th>\n",
       "      <td>2024-05-12 12:49:07</td>\n",
       "      <td>2024-05-12 13:14:34</td>\n",
       "      <td>3.0</td>\n",
       "      <td>1.30</td>\n",
       "      <td>186</td>\n",
       "      <td>230</td>\n",
       "      <td>25.20</td>\n",
       "      <td>0</td>\n",
       "    </tr>\n",
       "    <tr>\n",
       "      <th>20762624</th>\n",
       "      <td>2023-07-17 21:12:18</td>\n",
       "      <td>2023-07-17 21:29:45</td>\n",
       "      <td>1.0</td>\n",
       "      <td>4.08</td>\n",
       "      <td>163</td>\n",
       "      <td>231</td>\n",
       "      <td>29.50</td>\n",
       "      <td>0</td>\n",
       "    </tr>\n",
       "    <tr>\n",
       "      <th>7026777</th>\n",
       "      <td>2023-03-10 21:48:32</td>\n",
       "      <td>2023-03-10 21:59:06</td>\n",
       "      <td>1.0</td>\n",
       "      <td>1.46</td>\n",
       "      <td>137</td>\n",
       "      <td>148</td>\n",
       "      <td>22.96</td>\n",
       "      <td>0</td>\n",
       "    </tr>\n",
       "  </tbody>\n",
       "</table>\n",
       "</div>"
      ],
      "text/plain": [
       "             pickup_datetime    dropoff_datetime  passenger_count  \\\n",
       "28819687 2023-10-11 15:42:18 2023-10-11 16:01:11              1.0   \n",
       "29409113 2023-10-16 19:19:58 2023-10-16 19:40:47              1.0   \n",
       "53015615 2024-05-20 11:46:07 2024-05-20 12:39:51              1.0   \n",
       "1603998  2023-01-17 23:59:40 2023-01-18 00:16:02              1.0   \n",
       "27094235 2023-09-25 12:45:36 2023-09-25 12:49:53              1.0   \n",
       "29099548 2023-10-13 21:19:57 2023-10-13 21:24:45              1.0   \n",
       "28660377 2023-10-10 07:03:08 2023-10-10 07:06:23              1.0   \n",
       "44971649 2024-03-13 13:45:28 2024-03-13 14:10:57              1.0   \n",
       "9976492  2023-04-07 14:53:28 2023-04-07 14:57:44              1.0   \n",
       "3602318  2023-02-06 16:30:03 2023-02-06 16:37:07              1.0   \n",
       "20806530 2023-07-18 12:17:58 2023-07-18 12:34:29              2.0   \n",
       "34775075 2023-12-04 12:41:51 2023-12-04 12:48:52              1.0   \n",
       "54753649 2024-06-05 05:40:30 2024-06-05 05:49:19              1.0   \n",
       "14011038 2023-05-13 18:33:48 2023-05-13 19:03:38              1.0   \n",
       "38975054 2024-01-14 22:39:45 2024-01-14 22:55:08              1.0   \n",
       "52820336 2024-05-18 17:35:35 2024-05-18 18:17:41              1.0   \n",
       "54719646 2024-06-04 19:40:41 2024-06-04 19:58:46              1.0   \n",
       "52015256 2024-05-12 12:49:07 2024-05-12 13:14:34              3.0   \n",
       "20762624 2023-07-17 21:12:18 2023-07-17 21:29:45              1.0   \n",
       "7026777  2023-03-10 21:48:32 2023-03-10 21:59:06              1.0   \n",
       "\n",
       "          trip_distance  PULocationID  DOLocationID  total_price  service  \n",
       "28819687           0.07           229           234        27.70        0  \n",
       "29409113           3.60           161           231        35.80        0  \n",
       "53015615          11.90           138           230       109.33        0  \n",
       "1603998            4.31           230           151        40.34        0  \n",
       "27094235           0.50           236           237        10.50        0  \n",
       "29099548           0.71           166           151        12.60        0  \n",
       "28660377           0.76           237           236         9.80        0  \n",
       "44971649           6.10           230           152        48.24        0  \n",
       "9976492            0.90           263           236        15.70        0  \n",
       "3602318            0.14           140           140        14.40        0  \n",
       "20806530           1.80           237           262        26.20        0  \n",
       "34775075           0.97           236           262        16.66        0  \n",
       "54753649           2.14           186           237        17.10        0  \n",
       "14011038           2.53           230           234        41.16        0  \n",
       "38975054           3.94           236           249        34.72        0  \n",
       "52820336           9.70           138           229        84.81        0  \n",
       "54719646           6.70           132            76        51.95        0  \n",
       "52015256           1.30           186           230        25.20        0  \n",
       "20762624           4.08           163           231        29.50        0  \n",
       "7026777            1.46           137           148        22.96        0  "
      ]
     },
     "execution_count": 38,
     "metadata": {},
     "output_type": "execute_result"
    }
   ],
   "source": [
    "df.sample(20)"
   ]
  },
  {
   "cell_type": "code",
   "execution_count": 39,
   "metadata": {},
   "outputs": [],
   "source": [
    "Q1 = df['trip_distance'].quantile(0.25)\n",
    "Q3 = df['trip_distance'].quantile(0.75)\n",
    "IQR = Q3 - Q1\n",
    "# df without outliers\n",
    "df_withoutliers = df[~((df['trip_distance'] < (Q1 - 1.5 * IQR)) | (df['trip_distance'] > (Q3 + 1.5 * IQR)))]"
   ]
  },
  {
   "cell_type": "code",
   "execution_count": 40,
   "metadata": {},
   "outputs": [
    {
     "data": {
      "image/png": "[encoded data removed]",
      "text/plain": [
       "<Figure size 640x480 with 1 Axes>"
      ]
     },
     "metadata": {},
     "output_type": "display_data"
    }
   ],
   "source": [
    "# Crear el histograma\n",
    "plt.hist(df_withoutliers['trip_distance'])\n",
    "plt.show()"
   ]
  }
 ],
 "metadata": {
  "kernelspec": {
   "display_name": "Python 3",
   "language": "python",
   "name": "python3"
  },
  "language_info": {
   "codemirror_mode": {
    "name": "ipython",
    "version": 3
   },
   "file_extension": ".py",
   "mimetype": "text/x-python",
   "name": "python",
   "nbconvert_exporter": "python",
   "pygments_lexer": "ipython3",
   "version": "3.11.4"
  }
 },
 "nbformat": 4,
 "nbformat_minor": 2
}
