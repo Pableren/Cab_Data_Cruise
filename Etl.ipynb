{
 "cells": [
  {
   "cell_type": "code",
   "execution_count": 1,
   "metadata": {},
   "outputs": [],
   "source": [
    "import pandas as pd"
   ]
  },
  {
   "cell_type": "markdown",
   "metadata": {},
   "source": [
    "#### Procesamiento de taxis"
   ]
  },
  {
   "cell_type": "markdown",
   "metadata": {},
   "source": [
    "Para simular una carga incremental en la nube, el ultimo mes de datos no se utilizaran."
   ]
  },
  {
   "cell_type": "code",
   "execution_count": 43,
   "metadata": {},
   "outputs": [],
   "source": [
    "green_2301 = pd.read_parquet('descargas/green_tripdata_2023-01.parquet',engine='pyarrow')\n",
    "green_2302 = pd.read_parquet('descargas/green_tripdata_2023-02.parquet',engine='pyarrow')\n",
    "green_2303 = pd.read_parquet('descargas/green_tripdata_2023-03.parquet',engine='pyarrow')\n",
    "green_2304 = pd.read_parquet('descargas/green_tripdata_2023-04.parquet',engine='pyarrow')\n",
    "green_2305 = pd.read_parquet('descargas/green_tripdata_2023-05.parquet',engine='pyarrow')\n",
    "green_2306 = pd.read_parquet('descargas/green_tripdata_2023-06.parquet',engine='pyarrow')\n",
    "green_2307 = pd.read_parquet('descargas/green_tripdata_2023-07.parquet',engine='pyarrow')\n",
    "green_2308 = pd.read_parquet('descargas/green_tripdata_2023-08.parquet',engine='pyarrow')\n",
    "green_2309 = pd.read_parquet('descargas/green_tripdata_2023-09.parquet',engine='pyarrow')\n",
    "green_2310 = pd.read_parquet('descargas/green_tripdata_2023-10.parquet',engine='pyarrow')\n",
    "green_2311 = pd.read_parquet('descargas/green_tripdata_2023-11.parquet',engine='pyarrow')\n",
    "green_2312 = pd.read_parquet('descargas/green_tripdata_2023-12.parquet',engine='pyarrow')\n",
    "green_2401 = pd.read_parquet('descargas/green_tripdata_2024-01.parquet',engine='pyarrow')\n",
    "green_2402 = pd.read_parquet('descargas/green_tripdata_2024-02.parquet',engine='pyarrow')\n",
    "green_2403 = pd.read_parquet('descargas/green_tripdata_2024-03.parquet',engine='pyarrow')\n",
    "green_2404 = pd.read_parquet('descargas/green_tripdata_2024-04.parquet',engine='pyarrow')\n",
    "green_2405 = pd.read_parquet('descargas/green_tripdata_2024-05.parquet',engine='pyarrow')\n",
    "green_2406 = pd.read_parquet('descargas/green_tripdata_2024-06.parquet',engine='pyarrow')\n",
    "#green_2407 = pd.read_parquet('descargas/green_tripdata_2024-07.parquet',engine='pyarrow')"
   ]
  },
  {
   "cell_type": "code",
   "execution_count": 44,
   "metadata": {},
   "outputs": [
    {
     "name": "stdout",
     "output_type": "stream",
     "text": [
      "<class 'list'>\n"
     ]
    }
   ],
   "source": [
    "df_taxis_green = [green_2301,green_2302,green_2303,green_2304,green_2305,\n",
    "               green_2306,green_2307,green_2308,green_2309,green_2310,green_2311,\n",
    "               green_2312,green_2401,green_2402,green_2403,green_2404,green_2405,green_2406]\n",
    "print(type(df_taxis_green))"
   ]
  },
  {
   "cell_type": "code",
   "execution_count": 45,
   "metadata": {},
   "outputs": [
    {
     "name": "stdout",
     "output_type": "stream",
     "text": [
      "<class 'pandas.core.frame.DataFrame'>\n",
      "RangeIndex: 1126867 entries, 0 to 1126866\n",
      "Data columns (total 20 columns):\n",
      " #   Column                 Non-Null Count    Dtype         \n",
      "---  ------                 --------------    -----         \n",
      " 0   VendorID               1126867 non-null  int64         \n",
      " 1   lpep_pickup_datetime   1126867 non-null  datetime64[us]\n",
      " 2   lpep_dropoff_datetime  1126867 non-null  datetime64[us]\n",
      " 3   store_and_fwd_flag     1057035 non-null  object        \n",
      " 4   RatecodeID             1057035 non-null  float64       \n",
      " 5   PULocationID           1126867 non-null  int64         \n",
      " 6   DOLocationID           1126867 non-null  int64         \n",
      " 7   passenger_count        1057035 non-null  float64       \n",
      " 8   trip_distance          1126867 non-null  float64       \n",
      " 9   fare_amount            1126867 non-null  float64       \n",
      " 10  extra                  1126867 non-null  float64       \n",
      " 11  mta_tax                1126867 non-null  float64       \n",
      " 12  tip_amount             1126867 non-null  float64       \n",
      " 13  tolls_amount           1126867 non-null  float64       \n",
      " 14  ehail_fee              0 non-null        object        \n",
      " 15  improvement_surcharge  1126867 non-null  float64       \n",
      " 16  total_amount           1126867 non-null  float64       \n",
      " 17  payment_type           1057035 non-null  float64       \n",
      " 18  trip_type              1056941 non-null  float64       \n",
      " 19  congestion_surcharge   1057035 non-null  float64       \n",
      "dtypes: datetime64[us](2), float64(13), int64(3), object(2)\n",
      "memory usage: 171.9+ MB\n"
     ]
    }
   ],
   "source": [
    "# Concateamos para crear uno solo\n",
    "df_taxis_green = pd.concat(df_taxis_green, ignore_index=True)\n",
    "df_taxis_green.info()"
   ]
  },
  {
   "cell_type": "markdown",
   "metadata": {},
   "source": [
    "1. **VendorID**: Un código que representa al proveedor de tecnología (TPEP) que proporcionó el registro del viaje.\n",
    "   - `1`: Creative Mobile Technologies, LLC\n",
    "   - `2`: VeriFone Inc.\n",
    "2. **tpep_pickup_datetime**: Fecha y hora en que se inició el viaje (se activó el taxímetro).\n",
    "3. **tpep_dropoff_datetime**: Fecha y hora en que finalizó el viaje (se desactivó el taxímetro).\n",
    "4. **Passenger_count**: Cantidad de pasajeros reportados para el viaje. Este dato es ingresado manualmente por el conductor.\n",
    "5. **Trip_distance**: Distancia recorrida durante el viaje, reportada en millas.\n",
    "6. **PULocationID**: ID de la zona de taxi TLC donde comenzó el viaje.\n",
    "7. **DOLocationID**: ID de la zona de taxi TLC donde terminó el viaje.\n",
    "8. **RateCodeID**: Código de la tarifa aplicada para el viaje.\n",
    "   - `1`: Tarifa estándar\n",
    "   - `2`: JFK\n",
    "   - `3`: Newark\n",
    "   - `4`: Nassau o Westchester\n",
    "   - `5`: Tarifa negociada\n",
    "   - `6`: Viaje en grupo\n",
    "9. **Store_and_fwd_flag**: Indica si el registro del viaje fue almacenado temporalmente en la memoria del vehículo debido a problemas de conectividad.\n",
    "   - `Y`: Sí, almacenado y enviado más tarde\n",
    "   - `N`: No, enviado en tiempo real\n",
    "10. **Payment_type**: Método de pago utilizado.\n",
    "    - `1`: Tarjeta de crédito\n",
    "    - `2`: Efectivo\n",
    "    - `3`: Sin cargo\n",
    "    - `4`: Disputa\n",
    "    - `5`: Desconocido\n",
    "    - `6`: Viaje anulado\n",
    "11. **Fare_amount**: Monto de la tarifa calculada en base al tiempo y distancia por el taxímetro.\n",
    "12. **Extra**: Cargos adicionales (como cargos por hora pico o nocturnos).\n",
    "13. **MTA_tax**: Un impuesto de $0.50 para la Autoridad Metropolitana de Transporte (MTA).\n",
    "14. **Improvement_surcharge**: Un recargo de $0.30 que se aplica desde 2015.\n",
    "15. **Tip_amount**: Propinas recibidas, automáticamente registradas para pagos con tarjeta de crédito (las propinas en efectivo no se incluyen).\n",
    "16. **Tolls_amount**: Total de peajes pagados durante el viaje.\n",
    "17. **Total_amount**: El total del viaje, excluyendo las propinas en efectivo.\n",
    "18. **Congestion_Surcharge**: Recargo por congestión recolectado para el programa de tarifas de congestión del Estado de Nueva York.\n",
    "19. **Airport_fee**: Un recargo de $1.25 para recogidas en los aeropuertos LaGuardia y JFK."
   ]
  },
  {
   "cell_type": "code",
   "execution_count": 46,
   "metadata": {},
   "outputs": [
    {
     "data": {
      "text/plain": [
       "VendorID                       0\n",
       "lpep_pickup_datetime           0\n",
       "lpep_dropoff_datetime          0\n",
       "store_and_fwd_flag         69832\n",
       "RatecodeID                 69832\n",
       "PULocationID                   0\n",
       "DOLocationID                   0\n",
       "passenger_count            69832\n",
       "trip_distance                  0\n",
       "fare_amount                    0\n",
       "extra                          0\n",
       "mta_tax                        0\n",
       "tip_amount                     0\n",
       "tolls_amount                   0\n",
       "ehail_fee                1126867\n",
       "improvement_surcharge          0\n",
       "total_amount                   0\n",
       "payment_type               69832\n",
       "trip_type                  69926\n",
       "congestion_surcharge       69832\n",
       "dtype: int64"
      ]
     },
     "execution_count": 46,
     "metadata": {},
     "output_type": "execute_result"
    }
   ],
   "source": [
    "df_taxis_green.isna().sum()"
   ]
  },
  {
   "cell_type": "markdown",
   "metadata": {},
   "source": [
    "#### Para lograr los objetivos de la empresa, se decidieron utilizar solamente las columnas de:\n",
    "\n",
    "- pickup_datetime\n",
    "- dropoff_datetime\n",
    "- PULocationID      \n",
    "- DOLocationID      \n",
    "- passenger_count\n",
    "- trip_distance\n",
    "- tip_amount\n",
    "- amount\n"
   ]
  },
  {
   "cell_type": "code",
   "execution_count": 47,
   "metadata": {},
   "outputs": [
    {
     "name": "stdout",
     "output_type": "stream",
     "text": [
      "<class 'pandas.core.frame.DataFrame'>\n",
      "RangeIndex: 1126867 entries, 0 to 1126866\n",
      "Data columns (total 8 columns):\n",
      " #   Column            Non-Null Count    Dtype         \n",
      "---  ------            --------------    -----         \n",
      " 0   pickup_datetime   1126867 non-null  datetime64[us]\n",
      " 1   dropoff_datetime  1126867 non-null  datetime64[us]\n",
      " 2   PULocationID      1126867 non-null  int64         \n",
      " 3   DOLocationID      1126867 non-null  int64         \n",
      " 4   passenger_count   1057035 non-null  float64       \n",
      " 5   trip_distance     1126867 non-null  float64       \n",
      " 6   tip_amount        1126867 non-null  float64       \n",
      " 7   amount            1126867 non-null  float64       \n",
      "dtypes: datetime64[us](2), float64(4), int64(2)\n",
      "memory usage: 68.8 MB\n"
     ]
    }
   ],
   "source": [
    "drop_cols = ['store_and_fwd_flag', 'fare_amount', 'extra', 'mta_tax', 'tolls_amount', 'improvement_surcharge',\n",
    "                    'ehail_fee', 'congestion_surcharge', 'trip_type', 'VendorID', 'RatecodeID', 'payment_type']\n",
    "\n",
    "# Eliminamos las columnas de la lista\n",
    "df_taxis_green.drop(columns=drop_cols, inplace=True)\n",
    "# Renombramos las columnas\n",
    "df_taxis_green.rename(columns={'lpep_pickup_datetime': 'pickup_datetime','lpep_dropoff_datetime': 'dropoff_datetime',\n",
    "                            'total_amount': 'amount'}, inplace=True)\n",
    "df_taxis_green.info()"
   ]
  },
  {
   "cell_type": "markdown",
   "metadata": {},
   "source": [
    "Las columnas de tip_amount y amount, se sumaran para tener una variable donde exprese la cantidad total del dinero que gasto el cliente."
   ]
  },
  {
   "cell_type": "code",
   "execution_count": 48,
   "metadata": {},
   "outputs": [],
   "source": [
    "# Sumamos las columnas amount y tip_amount para crear la columna total_price\n",
    "df_taxis_green['total_price'] = df_taxis_green['amount'] + df_taxis_green['tip_amount']\n",
    "df_taxis_green.drop(columns=['amount', 'tip_amount'], inplace=True)"
   ]
  },
  {
   "cell_type": "markdown",
   "metadata": {},
   "source": [
    "Debido a que las columnas con cantidad de pasajeros y distancia del viaje pueden llegar a ser 0, se procedio a eliminar las filas que posean 0 en estas columnas."
   ]
  },
  {
   "cell_type": "code",
   "execution_count": 49,
   "metadata": {},
   "outputs": [
    {
     "name": "stdout",
     "output_type": "stream",
     "text": [
      "passenger_count\n",
      "1.0    891297\n",
      "2.0     94581\n",
      "5.0     27804\n",
      "6.0     15144\n",
      "3.0     13620\n",
      "0.0      9260\n",
      "4.0      5190\n",
      "7.0        57\n",
      "9.0        43\n",
      "8.0        39\n",
      "Name: count, dtype: int64 trip_distance\n",
      "0.00        57261\n",
      "1.40        10015\n",
      "1.30         9529\n",
      "1.20         8453\n",
      "1.50         8092\n",
      "            ...  \n",
      "62.55           1\n",
      "58.74           1\n",
      "44.51           1\n",
      "107.97          1\n",
      "33967.47        1\n",
      "Name: count, Length: 4283, dtype: int64\n"
     ]
    }
   ],
   "source": [
    "print(df_taxis_green['passenger_count'].value_counts(),df_taxis_green['trip_distance'].value_counts())\n"
   ]
  },
  {
   "cell_type": "code",
   "execution_count": 50,
   "metadata": {},
   "outputs": [],
   "source": [
    "df_taxis_green = df_taxis_green[df_taxis_green['passenger_count'] != 0.0]\n",
    "df_taxis_green = df_taxis_green[df_taxis_green['trip_distance'] != 0.0]"
   ]
  },
  {
   "cell_type": "code",
   "execution_count": 51,
   "metadata": {},
   "outputs": [
    {
     "name": "stdout",
     "output_type": "stream",
     "text": [
      "67546\n"
     ]
    },
    {
     "data": {
      "text/plain": [
       "0"
      ]
     },
     "execution_count": 51,
     "metadata": {},
     "output_type": "execute_result"
    }
   ],
   "source": [
    "# Verificamos nulos\n",
    "print(df_taxis_green['passenger_count'].isnull().sum())\n",
    "# Debido a que sabemos que se efectuo el pago, completamos los valores nulos de la columna passenger_count con el valor 1.\n",
    "df_taxis_green['passenger_count'].fillna(1, inplace=True)\n",
    "df_taxis_green['passenger_count'].isnull().sum()"
   ]
  },
  {
   "cell_type": "markdown",
   "metadata": {},
   "source": [
    "#### Creacion de la columna \"service\" que sera booleana siendo 1 = \"green\" y 0 = \"yellow\""
   ]
  },
  {
   "cell_type": "code",
   "execution_count": 52,
   "metadata": {},
   "outputs": [
    {
     "data": {
      "text/html": [
       "<div>\n",
       "<style scoped>\n",
       "    .dataframe tbody tr th:only-of-type {\n",
       "        vertical-align: middle;\n",
       "    }\n",
       "\n",
       "    .dataframe tbody tr th {\n",
       "        vertical-align: top;\n",
       "    }\n",
       "\n",
       "    .dataframe thead th {\n",
       "        text-align: right;\n",
       "    }\n",
       "</style>\n",
       "<table border=\"1\" class=\"dataframe\">\n",
       "  <thead>\n",
       "    <tr style=\"text-align: right;\">\n",
       "      <th></th>\n",
       "      <th>pickup_datetime</th>\n",
       "      <th>dropoff_datetime</th>\n",
       "      <th>PULocationID</th>\n",
       "      <th>DOLocationID</th>\n",
       "      <th>passenger_count</th>\n",
       "      <th>trip_distance</th>\n",
       "      <th>total_price</th>\n",
       "      <th>service</th>\n",
       "    </tr>\n",
       "  </thead>\n",
       "  <tbody>\n",
       "    <tr>\n",
       "      <th>1126864</th>\n",
       "      <td>2024-06-30 19:39:00</td>\n",
       "      <td>2024-06-30 20:00:00</td>\n",
       "      <td>247</td>\n",
       "      <td>151</td>\n",
       "      <td>1.0</td>\n",
       "      <td>3.34</td>\n",
       "      <td>35.93</td>\n",
       "      <td>1</td>\n",
       "    </tr>\n",
       "    <tr>\n",
       "      <th>1126866</th>\n",
       "      <td>2024-06-30 22:10:00</td>\n",
       "      <td>2024-06-30 22:40:00</td>\n",
       "      <td>61</td>\n",
       "      <td>112</td>\n",
       "      <td>1.0</td>\n",
       "      <td>5.14</td>\n",
       "      <td>39.70</td>\n",
       "      <td>1</td>\n",
       "    </tr>\n",
       "  </tbody>\n",
       "</table>\n",
       "</div>"
      ],
      "text/plain": [
       "            pickup_datetime    dropoff_datetime  PULocationID  DOLocationID  \\\n",
       "1126864 2024-06-30 19:39:00 2024-06-30 20:00:00           247           151   \n",
       "1126866 2024-06-30 22:10:00 2024-06-30 22:40:00            61           112   \n",
       "\n",
       "         passenger_count  trip_distance  total_price  service  \n",
       "1126864              1.0           3.34        35.93        1  \n",
       "1126866              1.0           5.14        39.70        1  "
      ]
     },
     "execution_count": 52,
     "metadata": {},
     "output_type": "execute_result"
    }
   ],
   "source": [
    "df_taxis_green['service'] = 1\n",
    "df_taxis_green.tail(2)"
   ]
  },
  {
   "cell_type": "markdown",
   "metadata": {},
   "source": [
    "#### **Yellow Taxis**"
   ]
  },
  {
   "cell_type": "code",
   "execution_count": 53,
   "metadata": {},
   "outputs": [],
   "source": [
    "yellow_2301 = pd.read_parquet('descargas/yellow_tripdata_2023-01.parquet',engine='pyarrow')\n",
    "yellow_2302 = pd.read_parquet('descargas/yellow_tripdata_2023-02.parquet',engine='pyarrow')\n",
    "yellow_2303 = pd.read_parquet('descargas/yellow_tripdata_2023-03.parquet',engine='pyarrow')\n",
    "yellow_2304 = pd.read_parquet('descargas/yellow_tripdata_2023-04.parquet',engine='pyarrow')\n",
    "yellow_2305 = pd.read_parquet('descargas/yellow_tripdata_2023-05.parquet',engine='pyarrow')\n",
    "yellow_2306 = pd.read_parquet('descargas/yellow_tripdata_2023-06.parquet',engine='pyarrow')\n",
    "yellow_2307 = pd.read_parquet('descargas/yellow_tripdata_2023-07.parquet',engine='pyarrow')\n",
    "yellow_2308 = pd.read_parquet('descargas/yellow_tripdata_2023-08.parquet',engine='pyarrow')\n",
    "yellow_2309 = pd.read_parquet('descargas/yellow_tripdata_2023-09.parquet',engine='pyarrow')\n",
    "yellow_2310 = pd.read_parquet('descargas/yellow_tripdata_2023-10.parquet',engine='pyarrow')\n",
    "yellow_2311 = pd.read_parquet('descargas/yellow_tripdata_2023-11.parquet',engine='pyarrow')\n",
    "yellow_2312 = pd.read_parquet('descargas/yellow_tripdata_2023-12.parquet',engine='pyarrow')\n",
    "yellow_2401 = pd.read_parquet('descargas/yellow_tripdata_2024-01.parquet',engine='pyarrow')\n",
    "yellow_2402 = pd.read_parquet('descargas/yellow_tripdata_2024-02.parquet',engine='pyarrow')\n",
    "yellow_2403 = pd.read_parquet('descargas/yellow_tripdata_2024-03.parquet',engine='pyarrow')\n",
    "yellow_2404 = pd.read_parquet('descargas/yellow_tripdata_2024-04.parquet',engine='pyarrow')\n",
    "yellow_2405 = pd.read_parquet('descargas/yellow_tripdata_2024-05.parquet',engine='pyarrow')\n",
    "yellow_2406 = pd.read_parquet('descargas/yellow_tripdata_2024-06.parquet',engine='pyarrow')\n",
    "#green_2407 = pd.read_parquet('descargas/yellow_tripdata_2024-07.parquet',engine='pyarrow')"
   ]
  },
  {
   "cell_type": "markdown",
   "metadata": {},
   "source": []
  },
  {
   "cell_type": "code",
   "execution_count": 54,
   "metadata": {},
   "outputs": [
    {
     "name": "stdout",
     "output_type": "stream",
     "text": [
      "<class 'list'>\n",
      "<class 'pandas.core.frame.DataFrame'>\n",
      "RangeIndex: 58642319 entries, 0 to 58642318\n",
      "Data columns (total 20 columns):\n",
      " #   Column                 Dtype         \n",
      "---  ------                 -----         \n",
      " 0   VendorID               int64         \n",
      " 1   tpep_pickup_datetime   datetime64[us]\n",
      " 2   tpep_dropoff_datetime  datetime64[us]\n",
      " 3   passenger_count        float64       \n",
      " 4   trip_distance          float64       \n",
      " 5   RatecodeID             float64       \n",
      " 6   store_and_fwd_flag     object        \n",
      " 7   PULocationID           int64         \n",
      " 8   DOLocationID           int64         \n",
      " 9   payment_type           int64         \n",
      " 10  fare_amount            float64       \n",
      " 11  extra                  float64       \n",
      " 12  mta_tax                float64       \n",
      " 13  tip_amount             float64       \n",
      " 14  tolls_amount           float64       \n",
      " 15  improvement_surcharge  float64       \n",
      " 16  total_amount           float64       \n",
      " 17  congestion_surcharge   float64       \n",
      " 18  airport_fee            float64       \n",
      " 19  Airport_fee            float64       \n",
      "dtypes: datetime64[us](2), float64(13), int64(4), object(1)\n",
      "memory usage: 8.7+ GB\n",
      "VendorID                        0\n",
      "tpep_pickup_datetime            0\n",
      "tpep_dropoff_datetime           0\n",
      "passenger_count           3285341\n",
      "trip_distance                   0\n",
      "RatecodeID                3285341\n",
      "store_and_fwd_flag        3285341\n",
      "PULocationID                    0\n",
      "DOLocationID                    0\n",
      "payment_type                    0\n",
      "fare_amount                     0\n",
      "extra                           0\n",
      "mta_tax                         0\n",
      "tip_amount                      0\n",
      "tolls_amount                    0\n",
      "improvement_surcharge           0\n",
      "total_amount                    0\n",
      "congestion_surcharge      3285341\n",
      "airport_fee              55647296\n",
      "Airport_fee               6280364\n",
      "dtype: int64\n"
     ]
    }
   ],
   "source": [
    "df_taxis_yellow = [yellow_2301,yellow_2302,yellow_2303,yellow_2304,yellow_2305,yellow_2306,\n",
    "                   yellow_2307,yellow_2308,yellow_2309,yellow_2310,yellow_2311,yellow_2312,\n",
    "                   yellow_2401,yellow_2402,yellow_2403,yellow_2404,yellow_2405,yellow_2406]\n",
    "print(type(df_taxis_yellow))\n",
    "\n",
    "df_taxis_yellow = pd.concat(df_taxis_yellow, ignore_index=True)\n",
    "df_taxis_yellow.info()\n",
    "\n",
    "print(df_taxis_yellow.isna().sum())"
   ]
  },
  {
   "cell_type": "code",
   "execution_count": 55,
   "metadata": {},
   "outputs": [
    {
     "name": "stdout",
     "output_type": "stream",
     "text": [
      "<class 'pandas.core.frame.DataFrame'>\n",
      "RangeIndex: 58642319 entries, 0 to 58642318\n",
      "Data columns (total 8 columns):\n",
      " #   Column            Dtype         \n",
      "---  ------            -----         \n",
      " 0   pickup_datetime   datetime64[us]\n",
      " 1   dropoff_datetime  datetime64[us]\n",
      " 2   passenger_count   float64       \n",
      " 3   trip_distance     float64       \n",
      " 4   PULocationID      int64         \n",
      " 5   DOLocationID      int64         \n",
      " 6   tip_amount        float64       \n",
      " 7   amount            float64       \n",
      "dtypes: datetime64[us](2), float64(4), int64(2)\n",
      "memory usage: 3.5 GB\n"
     ]
    }
   ],
   "source": [
    "drop_cols = ['store_and_fwd_flag', 'fare_amount', 'extra', 'mta_tax', 'tolls_amount', 'improvement_surcharge',\n",
    "                    'congestion_surcharge', 'VendorID', 'RatecodeID', 'payment_type','airport_fee','Airport_fee']\n",
    "\n",
    "# Eliminamos las columnas de la lista\n",
    "df_taxis_yellow.drop(columns=drop_cols, inplace=True)\n",
    "\n",
    "# Renombramos las columnas\n",
    "df_taxis_yellow.rename(columns={'tpep_pickup_datetime': 'pickup_datetime','tpep_dropoff_datetime': 'dropoff_datetime',\n",
    "                            'total_amount': 'amount'}, inplace=True)\n",
    "df_taxis_yellow.info()"
   ]
  },
  {
   "cell_type": "markdown",
   "metadata": {},
   "source": [
    "- pickup_datetime\n",
    "- dropoff_datetime\n",
    "- PULocationID      \n",
    "- DOLocationID      \n",
    "- passenger_count\n",
    "- trip_distance\n",
    "- tip_amount\n",
    "- amount"
   ]
  },
  {
   "cell_type": "code",
   "execution_count": 56,
   "metadata": {},
   "outputs": [],
   "source": [
    "# Sumamos las columnas amount y tip_amount para crear la columna total_price\n",
    "df_taxis_yellow['total_price'] = df_taxis_yellow['amount'] + df_taxis_yellow['tip_amount']\n",
    "df_taxis_yellow.drop(columns=['amount', 'tip_amount'], inplace=True)"
   ]
  },
  {
   "cell_type": "code",
   "execution_count": 57,
   "metadata": {},
   "outputs": [],
   "source": [
    "df_taxis_yellow = df_taxis_yellow[df_taxis_yellow['passenger_count'] != 0.0]\n",
    "df_taxis_yellow = df_taxis_yellow[df_taxis_yellow['trip_distance'] != 0.0]"
   ]
  },
  {
   "cell_type": "code",
   "execution_count": 58,
   "metadata": {},
   "outputs": [
    {
     "name": "stdout",
     "output_type": "stream",
     "text": [
      "2869727\n"
     ]
    },
    {
     "data": {
      "text/plain": [
       "0"
      ]
     },
     "execution_count": 58,
     "metadata": {},
     "output_type": "execute_result"
    }
   ],
   "source": [
    "# Verificamos nulos\n",
    "print(df_taxis_yellow['passenger_count'].isnull().sum())\n",
    "# Debido a que sabemos que se efectuo el pago, completamos los valores nulos de la columna passenger_count con el valor 1.\n",
    "df_taxis_yellow['passenger_count'].fillna(1, inplace=True)\n",
    "df_taxis_yellow['passenger_count'].isnull().sum()"
   ]
  },
  {
   "cell_type": "code",
   "execution_count": 59,
   "metadata": {},
   "outputs": [
    {
     "data": {
      "text/html": [
       "<div>\n",
       "<style scoped>\n",
       "    .dataframe tbody tr th:only-of-type {\n",
       "        vertical-align: middle;\n",
       "    }\n",
       "\n",
       "    .dataframe tbody tr th {\n",
       "        vertical-align: top;\n",
       "    }\n",
       "\n",
       "    .dataframe thead th {\n",
       "        text-align: right;\n",
       "    }\n",
       "</style>\n",
       "<table border=\"1\" class=\"dataframe\">\n",
       "  <thead>\n",
       "    <tr style=\"text-align: right;\">\n",
       "      <th></th>\n",
       "      <th>pickup_datetime</th>\n",
       "      <th>dropoff_datetime</th>\n",
       "      <th>passenger_count</th>\n",
       "      <th>trip_distance</th>\n",
       "      <th>PULocationID</th>\n",
       "      <th>DOLocationID</th>\n",
       "      <th>total_price</th>\n",
       "      <th>service</th>\n",
       "    </tr>\n",
       "  </thead>\n",
       "  <tbody>\n",
       "    <tr>\n",
       "      <th>58642317</th>\n",
       "      <td>2024-06-30 23:33:36</td>\n",
       "      <td>2024-06-30 23:42:37</td>\n",
       "      <td>1.0</td>\n",
       "      <td>1.60</td>\n",
       "      <td>158</td>\n",
       "      <td>231</td>\n",
       "      <td>18.41</td>\n",
       "      <td>0</td>\n",
       "    </tr>\n",
       "    <tr>\n",
       "      <th>58642318</th>\n",
       "      <td>2024-06-30 23:04:50</td>\n",
       "      <td>2024-06-30 23:11:15</td>\n",
       "      <td>1.0</td>\n",
       "      <td>1.28</td>\n",
       "      <td>158</td>\n",
       "      <td>186</td>\n",
       "      <td>16.40</td>\n",
       "      <td>0</td>\n",
       "    </tr>\n",
       "  </tbody>\n",
       "</table>\n",
       "</div>"
      ],
      "text/plain": [
       "             pickup_datetime    dropoff_datetime  passenger_count  \\\n",
       "58642317 2024-06-30 23:33:36 2024-06-30 23:42:37              1.0   \n",
       "58642318 2024-06-30 23:04:50 2024-06-30 23:11:15              1.0   \n",
       "\n",
       "          trip_distance  PULocationID  DOLocationID  total_price  service  \n",
       "58642317           1.60           158           231        18.41        0  \n",
       "58642318           1.28           158           186        16.40        0  "
      ]
     },
     "execution_count": 59,
     "metadata": {},
     "output_type": "execute_result"
    }
   ],
   "source": [
    "df_taxis_yellow['service'] = 0\n",
    "df_taxis_yellow.tail(2)"
   ]
  },
  {
   "cell_type": "code",
   "execution_count": 60,
   "metadata": {},
   "outputs": [
    {
     "data": {
      "text/plain": [
       "Index(['pickup_datetime', 'dropoff_datetime', 'passenger_count',\n",
       "       'trip_distance', 'PULocationID', 'DOLocationID', 'total_price',\n",
       "       'service'],\n",
       "      dtype='object')"
      ]
     },
     "execution_count": 60,
     "metadata": {},
     "output_type": "execute_result"
    }
   ],
   "source": [
    "df_taxis_yellow.columns"
   ]
  },
  {
   "cell_type": "code",
   "execution_count": 61,
   "metadata": {},
   "outputs": [],
   "source": [
    "new_order = ['pickup_datetime', 'dropoff_datetime', 'passenger_count',\n",
    "             'trip_distance', 'PULocationID', 'DOLocationID','total_price','service']\n",
    "df_taxis_green = df_taxis_green.reindex(columns=new_order)"
   ]
  },
  {
   "cell_type": "code",
   "execution_count": 62,
   "metadata": {},
   "outputs": [
    {
     "name": "stdout",
     "output_type": "stream",
     "text": [
      "<class 'pandas.core.frame.DataFrame'>\n",
      "RangeIndex: 57785408 entries, 0 to 57785407\n",
      "Data columns (total 8 columns):\n",
      " #   Column            Dtype         \n",
      "---  ------            -----         \n",
      " 0   pickup_datetime   datetime64[us]\n",
      " 1   dropoff_datetime  datetime64[us]\n",
      " 2   passenger_count   float64       \n",
      " 3   trip_distance     float64       \n",
      " 4   PULocationID      int64         \n",
      " 5   DOLocationID      int64         \n",
      " 6   total_price       float64       \n",
      " 7   service           int64         \n",
      "dtypes: datetime64[us](2), float64(3), int64(3)\n",
      "memory usage: 3.4 GB\n"
     ]
    }
   ],
   "source": [
    "# Concatenamos los DataFrames de yellow y green taxis\n",
    "taxis = pd.concat([df_taxis_yellow, df_taxis_green], ignore_index=True)\n",
    "taxis.info()"
   ]
  },
  {
   "cell_type": "code",
   "execution_count": 63,
   "metadata": {},
   "outputs": [
    {
     "data": {
      "text/plain": [
       "Timestamp('2001-01-01 00:06:49')"
      ]
     },
     "execution_count": 63,
     "metadata": {},
     "output_type": "execute_result"
    }
   ],
   "source": [
    "taxis.pickup_datetime.min()"
   ]
  },
  {
   "cell_type": "code",
   "execution_count": 64,
   "metadata": {},
   "outputs": [
    {
     "data": {
      "text/plain": [
       "Index(['pickup_datetime', 'dropoff_datetime', 'passenger_count',\n",
       "       'trip_distance', 'PULocationID', 'DOLocationID', 'total_price',\n",
       "       'service'],\n",
       "      dtype='object')"
      ]
     },
     "execution_count": 64,
     "metadata": {},
     "output_type": "execute_result"
    }
   ],
   "source": [
    "taxis.columns"
   ]
  },
  {
   "cell_type": "code",
   "execution_count": 65,
   "metadata": {},
   "outputs": [],
   "source": [
    "taxis = taxis.sort_values(by='pickup_datetime')"
   ]
  },
  {
   "cell_type": "code",
   "execution_count": 66,
   "metadata": {},
   "outputs": [
    {
     "data": {
      "text/html": [
       "<div>\n",
       "<style scoped>\n",
       "    .dataframe tbody tr th:only-of-type {\n",
       "        vertical-align: middle;\n",
       "    }\n",
       "\n",
       "    .dataframe tbody tr th {\n",
       "        vertical-align: top;\n",
       "    }\n",
       "\n",
       "    .dataframe thead th {\n",
       "        text-align: right;\n",
       "    }\n",
       "</style>\n",
       "<table border=\"1\" class=\"dataframe\">\n",
       "  <thead>\n",
       "    <tr style=\"text-align: right;\">\n",
       "      <th></th>\n",
       "      <th>pickup_datetime</th>\n",
       "      <th>dropoff_datetime</th>\n",
       "      <th>passenger_count</th>\n",
       "      <th>trip_distance</th>\n",
       "      <th>PULocationID</th>\n",
       "      <th>DOLocationID</th>\n",
       "      <th>total_price</th>\n",
       "      <th>service</th>\n",
       "    </tr>\n",
       "  </thead>\n",
       "  <tbody>\n",
       "    <tr>\n",
       "      <th>7022616</th>\n",
       "      <td>2001-01-01 00:06:49</td>\n",
       "      <td>2001-01-01 15:42:11</td>\n",
       "      <td>2.0</td>\n",
       "      <td>7.41</td>\n",
       "      <td>161</td>\n",
       "      <td>231</td>\n",
       "      <td>53.9</td>\n",
       "      <td>0</td>\n",
       "    </tr>\n",
       "    <tr>\n",
       "      <th>12041332</th>\n",
       "      <td>2001-01-01 00:07:36</td>\n",
       "      <td>2001-01-01 00:16:31</td>\n",
       "      <td>1.0</td>\n",
       "      <td>1.68</td>\n",
       "      <td>239</td>\n",
       "      <td>43</td>\n",
       "      <td>14.7</td>\n",
       "      <td>0</td>\n",
       "    </tr>\n",
       "  </tbody>\n",
       "</table>\n",
       "</div>"
      ],
      "text/plain": [
       "             pickup_datetime    dropoff_datetime  passenger_count  \\\n",
       "7022616  2001-01-01 00:06:49 2001-01-01 15:42:11              2.0   \n",
       "12041332 2001-01-01 00:07:36 2001-01-01 00:16:31              1.0   \n",
       "\n",
       "          trip_distance  PULocationID  DOLocationID  total_price  service  \n",
       "7022616            7.41           161           231         53.9        0  \n",
       "12041332           1.68           239            43         14.7        0  "
      ]
     },
     "execution_count": 66,
     "metadata": {},
     "output_type": "execute_result"
    }
   ],
   "source": [
    "taxis.head(2)"
   ]
  },
  {
   "cell_type": "markdown",
   "metadata": {},
   "source": [
    "Debido a la existencia de algunos datos que su fecha no corresponde con los años extraidos, se procedera a aplicar una mascara para su filtrado."
   ]
  },
  {
   "cell_type": "code",
   "execution_count": 67,
   "metadata": {},
   "outputs": [
    {
     "name": "stdout",
     "output_type": "stream",
     "text": [
      "(57785408, 8)\n",
      "(57785287, 8)\n"
     ]
    }
   ],
   "source": [
    "print(taxis.shape)\n",
    "taxis = taxis[(taxis['pickup_datetime'].dt.year == 2023) | (taxis['pickup_datetime'].dt.year == 2024)]\n",
    "print(taxis.shape)"
   ]
  },
  {
   "cell_type": "code",
   "execution_count": 68,
   "metadata": {},
   "outputs": [
    {
     "name": "stdout",
     "output_type": "stream",
     "text": [
      "<class 'pandas.core.frame.DataFrame'>\n",
      "Index: 57785287 entries, 2906736 to 56322147\n",
      "Data columns (total 8 columns):\n",
      " #   Column            Dtype         \n",
      "---  ------            -----         \n",
      " 0   pickup_datetime   datetime64[us]\n",
      " 1   dropoff_datetime  datetime64[us]\n",
      " 2   passenger_count   float64       \n",
      " 3   trip_distance     float64       \n",
      " 4   PULocationID      int64         \n",
      " 5   DOLocationID      int64         \n",
      " 6   total_price       float64       \n",
      " 7   service           int64         \n",
      "dtypes: datetime64[us](2), float64(3), int64(3)\n",
      "memory usage: 3.9 GB\n"
     ]
    }
   ],
   "source": [
    "taxis.info()"
   ]
  },
  {
   "cell_type": "code",
   "execution_count": 1,
   "metadata": {},
   "outputs": [],
   "source": [
    "from funciones import get_borough"
   ]
  },
  {
   "cell_type": "code",
   "execution_count": 5,
   "metadata": {},
   "outputs": [],
   "source": [
    "taxis = pd.read_parquet('Data\\process_taxis.parquet',engine='pyarrow')\n",
    "taxis['pickup_borough'] = taxis['PULocationID'].apply(get_borough)\n",
    "taxis['dropoff_borough'] = taxis['DOLocationID'].apply(get_borough)"
   ]
  },
  {
   "cell_type": "code",
   "execution_count": 69,
   "metadata": {},
   "outputs": [],
   "source": [
    "# Extraer año, trimestre, mes, día del mes, día de la semana y hora\n",
    "#taxis['year'] = taxis['pickup_datetime'].dt.year\n",
    "#taxis['quarter'] = taxis['pickup_datetime'].dt.quarter\n",
    "#taxis['month'] = taxis['pickup_datetime'].dt.month\n",
    "#taxis['day_month'] = taxis['pickup_datetime'].dt.day\n",
    "#taxis['weekday'] = taxis['pickup_datetime'].dt.day_name()\n",
    "#taxis['hour'] = taxis['pickup_datetime'].dt.hour\n",
    "#taxis.drop(columns=['pickup_datetime','dropoff_datetime'],inplace=True)"
   ]
  },
  {
   "cell_type": "code",
   "execution_count": 75,
   "metadata": {},
   "outputs": [],
   "source": [
    "taxis.to_parquet('Data\\process_taxis.parquet',engine='pyarrow')"
   ]
  },
  {
   "cell_type": "code",
   "execution_count": 76,
   "metadata": {},
   "outputs": [],
   "source": [
    "del taxis\n",
    "del df_taxis_green\n",
    "del df_taxis_yellow"
   ]
  },
  {
   "cell_type": "markdown",
   "metadata": {},
   "source": [
    "#### Fuel data\n",
    "\n",
    "Para comprender mejor estos datos, a continuacion veremos algunas de las columnas que representan:\n",
    "\n",
    "#### **Vehículos tradicionales/híbridos**\n",
    "archivo: **fuel-consumption-ratings**\n",
    "- **Año** El año utilizado por el fabricante para designar un modelo de vehículo.\n",
    "- **Marca** El fabricante del vehículo\n",
    "- **Modelo** El nombre del modelo del vehículo.\n",
    "- **ategoría de vehículo** Clasificación de vehículos basada en el volumen interior para automóviles y el peso bruto vehicular para camionetas ligeras\n",
    "- **Desplazamiento (L)** El volumen total de todos los cilindros (en litros)\n",
    "- **Cilindros** El número de cilindros del motor.\n",
    "- **Transmisión** El tipo de transmisión y el número de informes/velocidades.\n",
    "- **Tipo de combustible** El tipo de combustible utilizado para impulsar el vehículo.\n",
    "- **Ciudad (L/100 km)** Clasificación del consumo de combustible en ciudad mostrada en litros cada 100 kilómetros\n",
    "- **Carretera (L/100 km)** Clasificación del consumo de combustible en carretera mostrada en litros cada 100 kilómetros\n",
    "- **Combinado (L/100 km)** Clasificación de consumo de combustible combinado mostrado en litros cada 100 kilómetros\n",
    "- **Combinado (mpg)** La clasificación combinada expresada en millas por galón imperial (mpg)\n",
    "- **Emisiones de CO2 (g/km)** Las emisiones de dióxido de carbono de los vehículos se muestran en gramos por kilómetro para conducción combinada en ciudad y carretera.\n",
    "- **índice de CO2** Emisiones de escape de dióxido de carbono clasificadas en una escala del 1 (peor) al 10 (mejor)\n",
    "- **índice de smog** Las emisiones de los tubos de escape de contaminantes que causan smog se clasifican en una escala del 1 (peor) al 10 (mejor)\n",
    "\n",
    "#### **Vehículos eléctricos híbridos enchufables**\n",
    "archivo: **plug-in-hybrid-electric-vehicles**\n",
    "\n",
    "- **Año** del modelo El año utilizado por el fabricante para designar un modelo de vehículo.\n",
    "- **Marca** El fabricante del vehículo.\n",
    "- **Modelo** El nombre del modelo del vehículo.\n",
    "- **Categoría de vehículo** La clasificación del vehículo basada en el volumen interior para automóviles y el peso bruto vehicular para camionetas livianas.\n",
    "- **Motor (kW)** La potencia máxima de un motor eléctrico (en kilovatios)\n",
    "- **Desplazamiento (L)** El volumen total de todos los cilindros (en litros)\n",
    "- **Cilindros** El número de cilindros en el motor.\n",
    "- **Transmisión** El tipo de transmisión y el número de marchas/velocidades.\n",
    "- **Tipo de combustible 1** El tipo de combustible utilizado para impulsar el vehículo en modo eléctrico.\n",
    "- **Le combinado/100 km** La clasificación de consumo de combustible combinado para funcionamiento en modo eléctrico expresado en litros equivalentes de gasolina cada 100 kilómetros. Entre paréntesis se muestra el consumo de electricidad en kilovatios hora cada 100 kilómetros y el consumo de gasolina (si corresponde) en litros cada 100 kilómetros.\n",
    "- **Autonomía 1** Distancia de conducción estimada (en kilómetros) con una batería completamente cargada\n",
    "- **Tiempo de carga (horas)** El período de tiempo estimado (en horas) para recargar completamente la batería a 240 voltios\n",
    "- **Tipo de combustible 2** El tipo de combustible utilizado para impulsar el vehículo en modo solo gasolina.\n",
    "- **Ciudad (L/100 km)** La clasificación de consumo de combustible en ciudad para el modo gasolina solo se muestra en litros cada 100 kilómetros.\n",
    "- **Carretera (L/100 km)** La clasificación de consumo de combustible en carretera para el modo gasolina solo se muestra en litros cada 100 kilómetros.\n",
    "- **Combinado (L/100 km)** La clasificación de consumo de combustible combinado para el modo gasolina solo se muestra en litros cada 100 kilómetros.\n",
    "- **Rango 2** La distancia estimada recorrida con el tanque lleno de combustible.\n",
    "- **Emisiones de CO2 (g/km)** Emisiones de escape de dióxido de carbono del vehículo mostradas en gramos por kilómetro para conducción combinada en ciudad y carretera\n",
    "- **Índice de CO2** Emisiones de escape de dióxido de carbono clasificadas en una escala del 1 (peor) al 10 (mejor)\n",
    "- **Índice de smog** Emisiones de escape de contaminantes que causan smog clasificadas en una escala del 1 (peor) al 10 (mejor)\n",
    "\n",
    "#### **vehículos eléctricos de batería**\n",
    "archivo: battery-electric-vehicles\n",
    "\n",
    "- **Año del modelo** El año utilizado por el fabricante para designar un modelo de vehículo.\n",
    "- **Marca** El fabricante del vehículo.\n",
    "- **Modelo** El nombre del modelo del vehículo.\n",
    "- **Categoría de vehículo** La clasificación del vehículo basada en el volumen interior para automóviles y el peso bruto - vehicular para camionetas livianas.\n",
    "- **Motor (kW)** La potencia máxima de un motor eléctrico (en kilovatios)\n",
    "- **Transmisión** El tipo de transmisión y el número de marchas/velocidades.\n",
    "- **Tipo de combustible** El tipo de combustible utilizado para impulsar el vehículo.\n",
    "- **Ciudad (kWh/100 km)** La clasificación de consumo de combustible en ciudad se muestra en kilovatios hora cada 100 kilómetros.\n",
    "- **Carretera (kWh/100 km)** La clasificación de consumo de combustible en carretera se muestra en kilovatios hora cada 100 - kilómetros.\n",
    "- **Combinado (kWh/100 km)** La clasificación de consumo de combustible combinado se muestra en kilovatios hora cada 100 - kilómetros.\n",
    "- **Ciudad (Le/100 km)** Índice de consumo de combustible en ciudad expresado en litros equivalentes de gasolina cada 100 - kilómetros.\n",
    "- **Carretera (Le/100 km)** Índice de consumo de combustible en carretera expresado en litros de gasolina equivalente cada 100 - **kilómetros.\n",
    "- **Combinado (Le/100 km)** El consumo combinado de combustible se expresa en litros equivalentes de gasolina cada 100 - kilómetros.\n",
    "- **Autonomía (km)** La distancia de conducción estimada (en kilómetros) recorrida con una batería completamente cargada.\n",
    "- **Emisiones de CO2 (g/km)** Emisiones de escape de dióxido de carbono del vehículo mostradas en gramos por kilómetro para conducción combinada en ciudad y carretera\n",
    "- **Índice de CO2** Emisiones de escape de dióxido de carbono clasificadas en una escala del 1 (peor) al 10 (mejor)\n",
    "- **Índice de smog** Emisiones de escape de contaminantes que causan smog clasificadas en una escala del 1 (peor) al 10 (mejor)\n",
    "- **Tiempo de carga (horas)** El período de tiempo estimado (en horas) para recargar completamente la batería a 240 voltios."
   ]
  },
  {
   "cell_type": "code",
   "execution_count": 2,
   "metadata": {},
   "outputs": [],
   "source": [
    "df_electric = pd.read_csv('descargas/Fuel_rate/my2012-2024-battery-electric-vehicles.csv')\n",
    "df_hybrid = pd.read_csv('descargas/Fuel_rate/my2012-2024-plug-in-hybrid-electric-vehicles.csv')\n",
    "df_combustion = pd.read_csv('descargas/Fuel_rate/my2024-fuel-consumption-ratings.csv', encoding='latin-1')"
   ]
  },
  {
   "cell_type": "code",
   "execution_count": 7,
   "metadata": {},
   "outputs": [
    {
     "data": {
      "text/plain": [
       "Fuel type\n",
       "B    687\n",
       "Name: count, dtype: int64"
      ]
     },
     "execution_count": 7,
     "metadata": {},
     "output_type": "execute_result"
    }
   ],
   "source": [
    "df_electric.value_counts(subset='Fuel type')"
   ]
  },
  {
   "cell_type": "code",
   "execution_count": 12,
   "metadata": {},
   "outputs": [
    {
     "data": {
      "text/plain": [
       "Fuel type 1\n",
       "B/Z*    133\n",
       "B/X*     92\n",
       "B        39\n",
       "B/Z      21\n",
       "B/X      11\n",
       "Name: count, dtype: int64"
      ]
     },
     "execution_count": 12,
     "metadata": {},
     "output_type": "execute_result"
    }
   ],
   "source": [
    "df_hybrid.value_counts(subset='Fuel type 1')"
   ]
  },
  {
   "cell_type": "markdown",
   "metadata": {},
   "source": [
    "La B representa que el auto utiliza electricidad y Z o X que tambien puede utilizar gasolina, pero en los casos por ejemplo que poseen un *, es que no utilizaron gasolina durante las pruebas."
   ]
  },
  {
   "cell_type": "markdown",
   "metadata": {},
   "source": [
    "### **Presupuesto**\n",
    "\n",
    "Para el calculo del presupuesto, se procedio a calcular el gasto de los vehiculos por km, por lo que debemos convertir la variable de gasto cada 100 km ya sea en kWh o litros de nafta para ver el gasto por km. Ademas, al no poseer mas informacion acerca del tipo de la unidad, se calculara un promedio para los 2 tipos de energia que puedan llegar a consumir.\n",
    "\n",
    "#### **precio del kW**\n",
    "\n",
    "Durante el año 2023, el promedio del gasto del kW es de 13 centavos de dolar pero al encontrarnos con viajes realizados en el estado de New York, el precio promedio del kW en 2022 fue de 22.64 ¢/kWh\ty durante el 2023 fue de 19.23¢ / kWh por lo que se realizaran los calculos con un precio de 20 centavos de dolar por cada kWh. **1 kWh = $0.2**\n",
    "\n",
    "#### **precio del combustible**\n",
    "El precio de la gasolina en USA puede variar depende la zona, variando desde 3 a 4 dolares por galon del combustible.\n",
    "\n",
    "Se utilizara de referencia el precio de 3.5 dolares cada galon. 1 galón equivale a aproximadamente 3.785 litros por lo que si utilizamos 3.5 dolares por galon, el litro de combustible costaria 0.92 dolares. \n",
    "\n",
    "#### **Desgaste vehicular**\n",
    "\n",
    "A diferencia de los autos convencionales, los eléctricos tienen menos partes móviles, lo que se traduce en menos desgaste y, por ende, menos gastos de mantenimiento rutinario. Existen algunos factores que diferenciamos de los autos convencionales:\n",
    "\n",
    "En un auto eléctrico no hay que hacer **cambios de aceite** y **filtros de aceite**, no hay que colocar **líquido refrigerante**, no hay **bujías**, ni **caño de escape**, **motor de arranque**, **radiador de agua**, **correas de distribución o mangueras**. **La transmisión es directa**, no hay **caja de velocidades**, por lo tanto tampoco hay **varillaje ni embrague**.\n",
    "\n",
    "Segun nuestras fuentes, el gasto en mantenimiento para autos electricos es aproximadamente la mitad que el gasto de los vehiculos convencionales.\n",
    "\n",
    "Para el desgaste del vehiculo convencional, si consideramos segun la AAA, el costo del mantenimiento y reparo del vehiculo es de 0.09 dolares por milla, lo cual serian 0.15 dolares por km aproximadamente y 0.07 dolares por km para autos electricos.\n",
    "\n",
    "fuente al final del archivo."
   ]
  },
  {
   "cell_type": "markdown",
   "metadata": {},
   "source": [
    "### Ejemplificacion del caso\n",
    "#### Caso 1) Vehiculo electrico\n",
    "\n",
    "Supongamos que un automovil electrico gasta 10 kWh cada 100km. Este gasto lo dividimos para obtener el gasto por km. Luego se multiplica este valor por el precio que cuesta la electricidad en este caso 0.2 dolares por kWh. \n",
    "\n",
    "(0.1 kWh/km) x (0.2 USD/kWh) = 0.02 USD/km\n",
    "\n",
    "#### Caso 2) Vehiculo convencional\n",
    "\n",
    "Supongamos que un automovil convencional gasta 5 litros de gasolina cada 100km. Este gasto lo dividimos para obtener el gasto por km. Luego se multiplica este valor por el precio que cuesta la gasolina en este caso 0.92 dolares por litro.\n",
    "\n",
    "(0.05 L/km) x (0.92 USD/L) = 0.046 USD/km\n"
   ]
  },
  {
   "cell_type": "code",
   "execution_count": 3,
   "metadata": {},
   "outputs": [
    {
     "data": {
      "text/html": [
       "<div>\n",
       "<style scoped>\n",
       "    .dataframe tbody tr th:only-of-type {\n",
       "        vertical-align: middle;\n",
       "    }\n",
       "\n",
       "    .dataframe tbody tr th {\n",
       "        vertical-align: top;\n",
       "    }\n",
       "\n",
       "    .dataframe thead th {\n",
       "        text-align: right;\n",
       "    }\n",
       "</style>\n",
       "<table border=\"1\" class=\"dataframe\">\n",
       "  <thead>\n",
       "    <tr style=\"text-align: right;\">\n",
       "      <th></th>\n",
       "      <th>Model year</th>\n",
       "      <th>Make</th>\n",
       "      <th>Model</th>\n",
       "      <th>Vehicle class</th>\n",
       "      <th>Engine size (L)</th>\n",
       "      <th>Cylinders</th>\n",
       "      <th>Transmission</th>\n",
       "      <th>Fuel type</th>\n",
       "      <th>City (L/100 km)</th>\n",
       "      <th>Highway (L/100 km)</th>\n",
       "      <th>Combined (L/100 km)</th>\n",
       "      <th>Combined (mpg)</th>\n",
       "      <th>CO2 emissions (g/km)</th>\n",
       "      <th>CO2 rating</th>\n",
       "      <th>Smog rating</th>\n",
       "    </tr>\n",
       "  </thead>\n",
       "  <tbody>\n",
       "    <tr>\n",
       "      <th>251</th>\n",
       "      <td>2024</td>\n",
       "      <td>Ford</td>\n",
       "      <td>F-150 4X4</td>\n",
       "      <td>Pickup truck: Standard</td>\n",
       "      <td>5.0</td>\n",
       "      <td>8</td>\n",
       "      <td>AS10</td>\n",
       "      <td>X</td>\n",
       "      <td>14.9</td>\n",
       "      <td>10.2</td>\n",
       "      <td>12.8</td>\n",
       "      <td>22</td>\n",
       "      <td>300</td>\n",
       "      <td>4</td>\n",
       "      <td>6</td>\n",
       "    </tr>\n",
       "    <tr>\n",
       "      <th>700</th>\n",
       "      <td>2024</td>\n",
       "      <td>Toyota</td>\n",
       "      <td>Corolla Hatchback</td>\n",
       "      <td>Compact</td>\n",
       "      <td>2.0</td>\n",
       "      <td>4</td>\n",
       "      <td>AV10</td>\n",
       "      <td>X</td>\n",
       "      <td>7.5</td>\n",
       "      <td>5.9</td>\n",
       "      <td>6.8</td>\n",
       "      <td>42</td>\n",
       "      <td>159</td>\n",
       "      <td>7</td>\n",
       "      <td>7</td>\n",
       "    </tr>\n",
       "    <tr>\n",
       "      <th>416</th>\n",
       "      <td>2024</td>\n",
       "      <td>Kia</td>\n",
       "      <td>Sportage</td>\n",
       "      <td>Sport utility vehicle: Small</td>\n",
       "      <td>2.5</td>\n",
       "      <td>4</td>\n",
       "      <td>AS8</td>\n",
       "      <td>X</td>\n",
       "      <td>9.3</td>\n",
       "      <td>7.1</td>\n",
       "      <td>8.3</td>\n",
       "      <td>34</td>\n",
       "      <td>195</td>\n",
       "      <td>6</td>\n",
       "      <td>7</td>\n",
       "    </tr>\n",
       "    <tr>\n",
       "      <th>741</th>\n",
       "      <td>2024</td>\n",
       "      <td>Toyota</td>\n",
       "      <td>Tundra Hybrid 4WD</td>\n",
       "      <td>Pickup truck: Standard</td>\n",
       "      <td>3.4</td>\n",
       "      <td>6</td>\n",
       "      <td>AS10</td>\n",
       "      <td>X</td>\n",
       "      <td>12.7</td>\n",
       "      <td>10.5</td>\n",
       "      <td>11.7</td>\n",
       "      <td>24</td>\n",
       "      <td>274</td>\n",
       "      <td>4</td>\n",
       "      <td>5</td>\n",
       "    </tr>\n",
       "    <tr>\n",
       "      <th>177</th>\n",
       "      <td>2024</td>\n",
       "      <td>Chevrolet</td>\n",
       "      <td>Silverado 4WD Mud Terrain Tire</td>\n",
       "      <td>Pickup truck: Standard</td>\n",
       "      <td>3.0</td>\n",
       "      <td>6</td>\n",
       "      <td>A10</td>\n",
       "      <td>D</td>\n",
       "      <td>11.3</td>\n",
       "      <td>10.4</td>\n",
       "      <td>10.9</td>\n",
       "      <td>26</td>\n",
       "      <td>293</td>\n",
       "      <td>4</td>\n",
       "      <td>5</td>\n",
       "    </tr>\n",
       "    <tr>\n",
       "      <th>410</th>\n",
       "      <td>2024</td>\n",
       "      <td>Kia</td>\n",
       "      <td>Seltos AWD</td>\n",
       "      <td>Sport utility vehicle: Small</td>\n",
       "      <td>1.6</td>\n",
       "      <td>4</td>\n",
       "      <td>AS8</td>\n",
       "      <td>X</td>\n",
       "      <td>9.4</td>\n",
       "      <td>8.7</td>\n",
       "      <td>9.1</td>\n",
       "      <td>31</td>\n",
       "      <td>213</td>\n",
       "      <td>5</td>\n",
       "      <td>5</td>\n",
       "    </tr>\n",
       "    <tr>\n",
       "      <th>684</th>\n",
       "      <td>2024</td>\n",
       "      <td>Subaru</td>\n",
       "      <td>Legacy AWD</td>\n",
       "      <td>Mid-size</td>\n",
       "      <td>2.4</td>\n",
       "      <td>4</td>\n",
       "      <td>AV8</td>\n",
       "      <td>X</td>\n",
       "      <td>10.1</td>\n",
       "      <td>7.5</td>\n",
       "      <td>9.0</td>\n",
       "      <td>31</td>\n",
       "      <td>209</td>\n",
       "      <td>5</td>\n",
       "      <td>6</td>\n",
       "    </tr>\n",
       "    <tr>\n",
       "      <th>311</th>\n",
       "      <td>2024</td>\n",
       "      <td>GMC</td>\n",
       "      <td>Yukon 4WD</td>\n",
       "      <td>Sport utility vehicle: Standard</td>\n",
       "      <td>3.0</td>\n",
       "      <td>6</td>\n",
       "      <td>A10</td>\n",
       "      <td>D</td>\n",
       "      <td>11.7</td>\n",
       "      <td>9.0</td>\n",
       "      <td>10.5</td>\n",
       "      <td>27</td>\n",
       "      <td>281</td>\n",
       "      <td>4</td>\n",
       "      <td>3</td>\n",
       "    </tr>\n",
       "    <tr>\n",
       "      <th>568</th>\n",
       "      <td>2024</td>\n",
       "      <td>MINI</td>\n",
       "      <td>John Cooper Works Convertible</td>\n",
       "      <td>Minicompact</td>\n",
       "      <td>2.0</td>\n",
       "      <td>4</td>\n",
       "      <td>AS8</td>\n",
       "      <td>Z</td>\n",
       "      <td>9.6</td>\n",
       "      <td>7.1</td>\n",
       "      <td>8.5</td>\n",
       "      <td>33</td>\n",
       "      <td>197</td>\n",
       "      <td>6</td>\n",
       "      <td>7</td>\n",
       "    </tr>\n",
       "    <tr>\n",
       "      <th>175</th>\n",
       "      <td>2024</td>\n",
       "      <td>Chevrolet</td>\n",
       "      <td>Silverado 4WD</td>\n",
       "      <td>Pickup truck: Standard</td>\n",
       "      <td>3.0</td>\n",
       "      <td>6</td>\n",
       "      <td>A10</td>\n",
       "      <td>D</td>\n",
       "      <td>11.0</td>\n",
       "      <td>9.7</td>\n",
       "      <td>10.4</td>\n",
       "      <td>27</td>\n",
       "      <td>280</td>\n",
       "      <td>4</td>\n",
       "      <td>5</td>\n",
       "    </tr>\n",
       "  </tbody>\n",
       "</table>\n",
       "</div>"
      ],
      "text/plain": [
       "     Model year       Make                           Model  \\\n",
       "251        2024       Ford                       F-150 4X4   \n",
       "700        2024     Toyota               Corolla Hatchback   \n",
       "416        2024        Kia                        Sportage   \n",
       "741        2024     Toyota               Tundra Hybrid 4WD   \n",
       "177        2024  Chevrolet  Silverado 4WD Mud Terrain Tire   \n",
       "410        2024        Kia                      Seltos AWD   \n",
       "684        2024     Subaru                      Legacy AWD   \n",
       "311        2024        GMC                       Yukon 4WD   \n",
       "568        2024       MINI   John Cooper Works Convertible   \n",
       "175        2024  Chevrolet                   Silverado 4WD   \n",
       "\n",
       "                       Vehicle class  Engine size (L)  Cylinders Transmission  \\\n",
       "251           Pickup truck: Standard              5.0          8         AS10   \n",
       "700                          Compact              2.0          4         AV10   \n",
       "416     Sport utility vehicle: Small              2.5          4          AS8   \n",
       "741           Pickup truck: Standard              3.4          6         AS10   \n",
       "177           Pickup truck: Standard              3.0          6          A10   \n",
       "410     Sport utility vehicle: Small              1.6          4          AS8   \n",
       "684                         Mid-size              2.4          4          AV8   \n",
       "311  Sport utility vehicle: Standard              3.0          6          A10   \n",
       "568                      Minicompact              2.0          4          AS8   \n",
       "175           Pickup truck: Standard              3.0          6          A10   \n",
       "\n",
       "    Fuel type  City (L/100 km)  Highway (L/100 km)  Combined (L/100 km)  \\\n",
       "251         X             14.9                10.2                 12.8   \n",
       "700         X              7.5                 5.9                  6.8   \n",
       "416         X              9.3                 7.1                  8.3   \n",
       "741         X             12.7                10.5                 11.7   \n",
       "177         D             11.3                10.4                 10.9   \n",
       "410         X              9.4                 8.7                  9.1   \n",
       "684         X             10.1                 7.5                  9.0   \n",
       "311         D             11.7                 9.0                 10.5   \n",
       "568         Z              9.6                 7.1                  8.5   \n",
       "175         D             11.0                 9.7                 10.4   \n",
       "\n",
       "     Combined (mpg)  CO2 emissions (g/km)  CO2 rating  Smog rating  \n",
       "251              22                   300           4            6  \n",
       "700              42                   159           7            7  \n",
       "416              34                   195           6            7  \n",
       "741              24                   274           4            5  \n",
       "177              26                   293           4            5  \n",
       "410              31                   213           5            5  \n",
       "684              31                   209           5            6  \n",
       "311              27                   281           4            3  \n",
       "568              33                   197           6            7  \n",
       "175              27                   280           4            5  "
      ]
     },
     "execution_count": 3,
     "metadata": {},
     "output_type": "execute_result"
    }
   ],
   "source": [
    "df_combustion.sample(10)"
   ]
  },
  {
   "cell_type": "code",
   "execution_count": 36,
   "metadata": {},
   "outputs": [],
   "source": [
    "df = pd.read_parquet('Data\\process_taxis.parquet',engine='pyarrow')"
   ]
  },
  {
   "cell_type": "code",
   "execution_count": 37,
   "metadata": {},
   "outputs": [],
   "source": [
    "import seaborn as sns\n",
    "import matplotlib.pyplot as plt"
   ]
  },
  {
   "cell_type": "code",
   "execution_count": 38,
   "metadata": {},
   "outputs": [
    {
     "data": {
      "text/html": [
       "<div>\n",
       "<style scoped>\n",
       "    .dataframe tbody tr th:only-of-type {\n",
       "        vertical-align: middle;\n",
       "    }\n",
       "\n",
       "    .dataframe tbody tr th {\n",
       "        vertical-align: top;\n",
       "    }\n",
       "\n",
       "    .dataframe thead th {\n",
       "        text-align: right;\n",
       "    }\n",
       "</style>\n",
       "<table border=\"1\" class=\"dataframe\">\n",
       "  <thead>\n",
       "    <tr style=\"text-align: right;\">\n",
       "      <th></th>\n",
       "      <th>pickup_datetime</th>\n",
       "      <th>dropoff_datetime</th>\n",
       "      <th>passenger_count</th>\n",
       "      <th>trip_distance</th>\n",
       "      <th>PULocationID</th>\n",
       "      <th>DOLocationID</th>\n",
       "      <th>total_price</th>\n",
       "      <th>service</th>\n",
       "    </tr>\n",
       "  </thead>\n",
       "  <tbody>\n",
       "    <tr>\n",
       "      <th>28819687</th>\n",
       "      <td>2023-10-11 15:42:18</td>\n",
       "      <td>2023-10-11 16:01:11</td>\n",
       "      <td>1.0</td>\n",
       "      <td>0.07</td>\n",
       "      <td>229</td>\n",
       "      <td>234</td>\n",
       "      <td>27.70</td>\n",
       "      <td>0</td>\n",
       "    </tr>\n",
       "    <tr>\n",
       "      <th>29409113</th>\n",
       "      <td>2023-10-16 19:19:58</td>\n",
       "      <td>2023-10-16 19:40:47</td>\n",
       "      <td>1.0</td>\n",
       "      <td>3.60</td>\n",
       "      <td>161</td>\n",
       "      <td>231</td>\n",
       "      <td>35.80</td>\n",
       "      <td>0</td>\n",
       "    </tr>\n",
       "    <tr>\n",
       "      <th>53015615</th>\n",
       "      <td>2024-05-20 11:46:07</td>\n",
       "      <td>2024-05-20 12:39:51</td>\n",
       "      <td>1.0</td>\n",
       "      <td>11.90</td>\n",
       "      <td>138</td>\n",
       "      <td>230</td>\n",
       "      <td>109.33</td>\n",
       "      <td>0</td>\n",
       "    </tr>\n",
       "    <tr>\n",
       "      <th>1603998</th>\n",
       "      <td>2023-01-17 23:59:40</td>\n",
       "      <td>2023-01-18 00:16:02</td>\n",
       "      <td>1.0</td>\n",
       "      <td>4.31</td>\n",
       "      <td>230</td>\n",
       "      <td>151</td>\n",
       "      <td>40.34</td>\n",
       "      <td>0</td>\n",
       "    </tr>\n",
       "    <tr>\n",
       "      <th>27094235</th>\n",
       "      <td>2023-09-25 12:45:36</td>\n",
       "      <td>2023-09-25 12:49:53</td>\n",
       "      <td>1.0</td>\n",
       "      <td>0.50</td>\n",
       "      <td>236</td>\n",
       "      <td>237</td>\n",
       "      <td>10.50</td>\n",
       "      <td>0</td>\n",
       "    </tr>\n",
       "    <tr>\n",
       "      <th>29099548</th>\n",
       "      <td>2023-10-13 21:19:57</td>\n",
       "      <td>2023-10-13 21:24:45</td>\n",
       "      <td>1.0</td>\n",
       "      <td>0.71</td>\n",
       "      <td>166</td>\n",
       "      <td>151</td>\n",
       "      <td>12.60</td>\n",
       "      <td>0</td>\n",
       "    </tr>\n",
       "    <tr>\n",
       "      <th>28660377</th>\n",
       "      <td>2023-10-10 07:03:08</td>\n",
       "      <td>2023-10-10 07:06:23</td>\n",
       "      <td>1.0</td>\n",
       "      <td>0.76</td>\n",
       "      <td>237</td>\n",
       "      <td>236</td>\n",
       "      <td>9.80</td>\n",
       "      <td>0</td>\n",
       "    </tr>\n",
       "    <tr>\n",
       "      <th>44971649</th>\n",
       "      <td>2024-03-13 13:45:28</td>\n",
       "      <td>2024-03-13 14:10:57</td>\n",
       "      <td>1.0</td>\n",
       "      <td>6.10</td>\n",
       "      <td>230</td>\n",
       "      <td>152</td>\n",
       "      <td>48.24</td>\n",
       "      <td>0</td>\n",
       "    </tr>\n",
       "    <tr>\n",
       "      <th>9976492</th>\n",
       "      <td>2023-04-07 14:53:28</td>\n",
       "      <td>2023-04-07 14:57:44</td>\n",
       "      <td>1.0</td>\n",
       "      <td>0.90</td>\n",
       "      <td>263</td>\n",
       "      <td>236</td>\n",
       "      <td>15.70</td>\n",
       "      <td>0</td>\n",
       "    </tr>\n",
       "    <tr>\n",
       "      <th>3602318</th>\n",
       "      <td>2023-02-06 16:30:03</td>\n",
       "      <td>2023-02-06 16:37:07</td>\n",
       "      <td>1.0</td>\n",
       "      <td>0.14</td>\n",
       "      <td>140</td>\n",
       "      <td>140</td>\n",
       "      <td>14.40</td>\n",
       "      <td>0</td>\n",
       "    </tr>\n",
       "    <tr>\n",
       "      <th>20806530</th>\n",
       "      <td>2023-07-18 12:17:58</td>\n",
       "      <td>2023-07-18 12:34:29</td>\n",
       "      <td>2.0</td>\n",
       "      <td>1.80</td>\n",
       "      <td>237</td>\n",
       "      <td>262</td>\n",
       "      <td>26.20</td>\n",
       "      <td>0</td>\n",
       "    </tr>\n",
       "    <tr>\n",
       "      <th>34775075</th>\n",
       "      <td>2023-12-04 12:41:51</td>\n",
       "      <td>2023-12-04 12:48:52</td>\n",
       "      <td>1.0</td>\n",
       "      <td>0.97</td>\n",
       "      <td>236</td>\n",
       "      <td>262</td>\n",
       "      <td>16.66</td>\n",
       "      <td>0</td>\n",
       "    </tr>\n",
       "    <tr>\n",
       "      <th>54753649</th>\n",
       "      <td>2024-06-05 05:40:30</td>\n",
       "      <td>2024-06-05 05:49:19</td>\n",
       "      <td>1.0</td>\n",
       "      <td>2.14</td>\n",
       "      <td>186</td>\n",
       "      <td>237</td>\n",
       "      <td>17.10</td>\n",
       "      <td>0</td>\n",
       "    </tr>\n",
       "    <tr>\n",
       "      <th>14011038</th>\n",
       "      <td>2023-05-13 18:33:48</td>\n",
       "      <td>2023-05-13 19:03:38</td>\n",
       "      <td>1.0</td>\n",
       "      <td>2.53</td>\n",
       "      <td>230</td>\n",
       "      <td>234</td>\n",
       "      <td>41.16</td>\n",
       "      <td>0</td>\n",
       "    </tr>\n",
       "    <tr>\n",
       "      <th>38975054</th>\n",
       "      <td>2024-01-14 22:39:45</td>\n",
       "      <td>2024-01-14 22:55:08</td>\n",
       "      <td>1.0</td>\n",
       "      <td>3.94</td>\n",
       "      <td>236</td>\n",
       "      <td>249</td>\n",
       "      <td>34.72</td>\n",
       "      <td>0</td>\n",
       "    </tr>\n",
       "    <tr>\n",
       "      <th>52820336</th>\n",
       "      <td>2024-05-18 17:35:35</td>\n",
       "      <td>2024-05-18 18:17:41</td>\n",
       "      <td>1.0</td>\n",
       "      <td>9.70</td>\n",
       "      <td>138</td>\n",
       "      <td>229</td>\n",
       "      <td>84.81</td>\n",
       "      <td>0</td>\n",
       "    </tr>\n",
       "    <tr>\n",
       "      <th>54719646</th>\n",
       "      <td>2024-06-04 19:40:41</td>\n",
       "      <td>2024-06-04 19:58:46</td>\n",
       "      <td>1.0</td>\n",
       "      <td>6.70</td>\n",
       "      <td>132</td>\n",
       "      <td>76</td>\n",
       "      <td>51.95</td>\n",
       "      <td>0</td>\n",
       "    </tr>\n",
       "    <tr>\n",
       "      <th>52015256</th>\n",
       "      <td>2024-05-12 12:49:07</td>\n",
       "      <td>2024-05-12 13:14:34</td>\n",
       "      <td>3.0</td>\n",
       "      <td>1.30</td>\n",
       "      <td>186</td>\n",
       "      <td>230</td>\n",
       "      <td>25.20</td>\n",
       "      <td>0</td>\n",
       "    </tr>\n",
       "    <tr>\n",
       "      <th>20762624</th>\n",
       "      <td>2023-07-17 21:12:18</td>\n",
       "      <td>2023-07-17 21:29:45</td>\n",
       "      <td>1.0</td>\n",
       "      <td>4.08</td>\n",
       "      <td>163</td>\n",
       "      <td>231</td>\n",
       "      <td>29.50</td>\n",
       "      <td>0</td>\n",
       "    </tr>\n",
       "    <tr>\n",
       "      <th>7026777</th>\n",
       "      <td>2023-03-10 21:48:32</td>\n",
       "      <td>2023-03-10 21:59:06</td>\n",
       "      <td>1.0</td>\n",
       "      <td>1.46</td>\n",
       "      <td>137</td>\n",
       "      <td>148</td>\n",
       "      <td>22.96</td>\n",
       "      <td>0</td>\n",
       "    </tr>\n",
       "  </tbody>\n",
       "</table>\n",
       "</div>"
      ],
      "text/plain": [
       "             pickup_datetime    dropoff_datetime  passenger_count  \\\n",
       "28819687 2023-10-11 15:42:18 2023-10-11 16:01:11              1.0   \n",
       "29409113 2023-10-16 19:19:58 2023-10-16 19:40:47              1.0   \n",
       "53015615 2024-05-20 11:46:07 2024-05-20 12:39:51              1.0   \n",
       "1603998  2023-01-17 23:59:40 2023-01-18 00:16:02              1.0   \n",
       "27094235 2023-09-25 12:45:36 2023-09-25 12:49:53              1.0   \n",
       "29099548 2023-10-13 21:19:57 2023-10-13 21:24:45              1.0   \n",
       "28660377 2023-10-10 07:03:08 2023-10-10 07:06:23              1.0   \n",
       "44971649 2024-03-13 13:45:28 2024-03-13 14:10:57              1.0   \n",
       "9976492  2023-04-07 14:53:28 2023-04-07 14:57:44              1.0   \n",
       "3602318  2023-02-06 16:30:03 2023-02-06 16:37:07              1.0   \n",
       "20806530 2023-07-18 12:17:58 2023-07-18 12:34:29              2.0   \n",
       "34775075 2023-12-04 12:41:51 2023-12-04 12:48:52              1.0   \n",
       "54753649 2024-06-05 05:40:30 2024-06-05 05:49:19              1.0   \n",
       "14011038 2023-05-13 18:33:48 2023-05-13 19:03:38              1.0   \n",
       "38975054 2024-01-14 22:39:45 2024-01-14 22:55:08              1.0   \n",
       "52820336 2024-05-18 17:35:35 2024-05-18 18:17:41              1.0   \n",
       "54719646 2024-06-04 19:40:41 2024-06-04 19:58:46              1.0   \n",
       "52015256 2024-05-12 12:49:07 2024-05-12 13:14:34              3.0   \n",
       "20762624 2023-07-17 21:12:18 2023-07-17 21:29:45              1.0   \n",
       "7026777  2023-03-10 21:48:32 2023-03-10 21:59:06              1.0   \n",
       "\n",
       "          trip_distance  PULocationID  DOLocationID  total_price  service  \n",
       "28819687           0.07           229           234        27.70        0  \n",
       "29409113           3.60           161           231        35.80        0  \n",
       "53015615          11.90           138           230       109.33        0  \n",
       "1603998            4.31           230           151        40.34        0  \n",
       "27094235           0.50           236           237        10.50        0  \n",
       "29099548           0.71           166           151        12.60        0  \n",
       "28660377           0.76           237           236         9.80        0  \n",
       "44971649           6.10           230           152        48.24        0  \n",
       "9976492            0.90           263           236        15.70        0  \n",
       "3602318            0.14           140           140        14.40        0  \n",
       "20806530           1.80           237           262        26.20        0  \n",
       "34775075           0.97           236           262        16.66        0  \n",
       "54753649           2.14           186           237        17.10        0  \n",
       "14011038           2.53           230           234        41.16        0  \n",
       "38975054           3.94           236           249        34.72        0  \n",
       "52820336           9.70           138           229        84.81        0  \n",
       "54719646           6.70           132            76        51.95        0  \n",
       "52015256           1.30           186           230        25.20        0  \n",
       "20762624           4.08           163           231        29.50        0  \n",
       "7026777            1.46           137           148        22.96        0  "
      ]
     },
     "execution_count": 38,
     "metadata": {},
     "output_type": "execute_result"
    }
   ],
   "source": [
    "df.sample(20)"
   ]
  },
  {
   "cell_type": "code",
   "execution_count": 39,
   "metadata": {},
   "outputs": [],
   "source": [
    "Q1 = df['trip_distance'].quantile(0.25)\n",
    "Q3 = df['trip_distance'].quantile(0.75)\n",
    "IQR = Q3 - Q1\n",
    "# df without outliers\n",
    "df_withoutliers = df[~((df['trip_distance'] < (Q1 - 1.5 * IQR)) | (df['trip_distance'] > (Q3 + 1.5 * IQR)))]"
   ]
  },
  {
   "cell_type": "code",
   "execution_count": 40,
   "metadata": {},
   "outputs": [
    {
     "data": {
      "image/png": "[encoded data removed]",
      "text/plain": [
       "<Figure size 640x480 with 1 Axes>"
      ]
     },
     "metadata": {},
     "output_type": "display_data"
    }
   ],
   "source": [
    "# Crear el histograma\n",
    "plt.hist(df_withoutliers['trip_distance'])\n",
    "plt.show()"
   ]
  },
  {
   "cell_type": "markdown",
   "metadata": {},
   "source": [
    "Fuentes\n",
    "\n",
    "kW:\n",
    "- https://www.energysage.com/local-data/electricity-cost/#:~:text=As%20of%20February%202023%2C%20the,based%20on%20where%20you%20live.\n",
    "\n",
    "Fuel:\n",
    "- https://www.eia.gov/petroleum/gasdiesel/\n",
    "\n",
    "Maintenance:\n",
    "- https://wrrv.com/the-average-cost-of-car-maintenance-per-year-in-new-york/\n",
    "-->\n",
    "- https://www.thebalancemoney.com/average-car-maintenance-cost-4775765#:~:text=If%20you%20drive%2010%2C000%20miles,to%20budget%20for%20these%20expenses.\n",
    "\n",
    "Maintenance electric cars:\n",
    "- https://www.greencars.com/es-us/perspectivas-de-expertos/costo-de-mantenimiento-de-un-automovil-electrico\n"
   ]
  }
 ],
 "metadata": {
  "kernelspec": {
   "display_name": "Python 3",
   "language": "python",
   "name": "python3"
  },
  "language_info": {
   "codemirror_mode": {
    "name": "ipython",
    "version": 3
   },
   "file_extension": ".py",
   "mimetype": "text/x-python",
   "name": "python",
   "nbconvert_exporter": "python",
   "pygments_lexer": "ipython3",
   "version": "3.11.4"
  }
 },
 "nbformat": 4,
 "nbformat_minor": 2
}
