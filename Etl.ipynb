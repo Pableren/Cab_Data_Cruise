{
 "cells": [
  {
   "cell_type": "code",
   "execution_count": 2,
   "metadata": {},
   "outputs": [],
   "source": [
    "import pandas as pd\n",
    "import numpy as np\n"
   ]
  },
  {
   "cell_type": "markdown",
   "metadata": {},
   "source": [
    "#### Procesamiento de taxis"
   ]
  },
  {
   "cell_type": "markdown",
   "metadata": {},
   "source": [
    "Para simular una carga incremental en la nube, el ultimo mes de datos no se utilizaran."
   ]
  },
  {
   "cell_type": "code",
   "execution_count": 36,
   "metadata": {},
   "outputs": [],
   "source": [
    "green_2301 = pd.read_parquet('descargas/green_tripdata_2023-01.parquet',engine='pyarrow')\n",
    "green_2302 = pd.read_parquet('descargas/green_tripdata_2023-02.parquet',engine='pyarrow')\n",
    "green_2303 = pd.read_parquet('descargas/green_tripdata_2023-03.parquet',engine='pyarrow')\n",
    "green_2304 = pd.read_parquet('descargas/green_tripdata_2023-04.parquet',engine='pyarrow')\n",
    "green_2305 = pd.read_parquet('descargas/green_tripdata_2023-05.parquet',engine='pyarrow')\n",
    "green_2306 = pd.read_parquet('descargas/green_tripdata_2023-06.parquet',engine='pyarrow')\n",
    "green_2307 = pd.read_parquet('descargas/green_tripdata_2023-07.parquet',engine='pyarrow')\n",
    "green_2308 = pd.read_parquet('descargas/green_tripdata_2023-08.parquet',engine='pyarrow')\n",
    "green_2309 = pd.read_parquet('descargas/green_tripdata_2023-09.parquet',engine='pyarrow')\n",
    "green_2310 = pd.read_parquet('descargas/green_tripdata_2023-10.parquet',engine='pyarrow')\n",
    "green_2311 = pd.read_parquet('descargas/green_tripdata_2023-11.parquet',engine='pyarrow')\n",
    "green_2312 = pd.read_parquet('descargas/green_tripdata_2023-12.parquet',engine='pyarrow')\n",
    "green_2401 = pd.read_parquet('descargas/green_tripdata_2024-01.parquet',engine='pyarrow')\n",
    "green_2402 = pd.read_parquet('descargas/green_tripdata_2024-02.parquet',engine='pyarrow')\n",
    "green_2403 = pd.read_parquet('descargas/green_tripdata_2024-03.parquet',engine='pyarrow')\n",
    "green_2404 = pd.read_parquet('descargas/green_tripdata_2024-04.parquet',engine='pyarrow')\n",
    "green_2405 = pd.read_parquet('descargas/green_tripdata_2024-05.parquet',engine='pyarrow')\n",
    "green_2406 = pd.read_parquet('descargas/green_tripdata_2024-06.parquet',engine='pyarrow')\n",
    "#green_2407 = pd.read_parquet('descargas/green_tripdata_2024-07.parquet',engine='pyarrow')"
   ]
  },
  {
   "cell_type": "code",
   "execution_count": 37,
   "metadata": {},
   "outputs": [
    {
     "name": "stdout",
     "output_type": "stream",
     "text": [
      "<class 'list'>\n"
     ]
    }
   ],
   "source": [
    "df_taxis_green = [green_2301,green_2302,green_2303,green_2304,green_2305,\n",
    "               green_2306,green_2307,green_2308,green_2309,green_2310,green_2311,\n",
    "               green_2312,green_2401,green_2402,green_2403,green_2404,green_2405,green_2406]\n",
    "print(type(df_taxis_green))"
   ]
  },
  {
   "cell_type": "code",
   "execution_count": 38,
   "metadata": {},
   "outputs": [
    {
     "name": "stdout",
     "output_type": "stream",
     "text": [
      "<class 'pandas.core.frame.DataFrame'>\n",
      "RangeIndex: 1126867 entries, 0 to 1126866\n",
      "Data columns (total 20 columns):\n",
      " #   Column                 Non-Null Count    Dtype         \n",
      "---  ------                 --------------    -----         \n",
      " 0   VendorID               1126867 non-null  int64         \n",
      " 1   lpep_pickup_datetime   1126867 non-null  datetime64[us]\n",
      " 2   lpep_dropoff_datetime  1126867 non-null  datetime64[us]\n",
      " 3   store_and_fwd_flag     1057035 non-null  object        \n",
      " 4   RatecodeID             1057035 non-null  float64       \n",
      " 5   PULocationID           1126867 non-null  int64         \n",
      " 6   DOLocationID           1126867 non-null  int64         \n",
      " 7   passenger_count        1057035 non-null  float64       \n",
      " 8   trip_distance          1126867 non-null  float64       \n",
      " 9   fare_amount            1126867 non-null  float64       \n",
      " 10  extra                  1126867 non-null  float64       \n",
      " 11  mta_tax                1126867 non-null  float64       \n",
      " 12  tip_amount             1126867 non-null  float64       \n",
      " 13  tolls_amount           1126867 non-null  float64       \n",
      " 14  ehail_fee              0 non-null        object        \n",
      " 15  improvement_surcharge  1126867 non-null  float64       \n",
      " 16  total_amount           1126867 non-null  float64       \n",
      " 17  payment_type           1057035 non-null  float64       \n",
      " 18  trip_type              1056941 non-null  float64       \n",
      " 19  congestion_surcharge   1057035 non-null  float64       \n",
      "dtypes: datetime64[us](2), float64(13), int64(3), object(2)\n",
      "memory usage: 171.9+ MB\n"
     ]
    }
   ],
   "source": [
    "# Concateamos para crear uno solo\n",
    "df_taxis_green = pd.concat(df_taxis_green, ignore_index=True)\n",
    "df_taxis_green.info()"
   ]
  },
  {
   "cell_type": "markdown",
   "metadata": {},
   "source": [
    "1. **VendorID**: Un código que representa al proveedor de tecnología (TPEP) que proporcionó el registro del viaje.\n",
    "   - `1`: Creative Mobile Technologies, LLC\n",
    "   - `2`: VeriFone Inc.\n",
    "2. **tpep_pickup_datetime**: Fecha y hora en que se inició el viaje (se activó el taxímetro).\n",
    "3. **tpep_dropoff_datetime**: Fecha y hora en que finalizó el viaje (se desactivó el taxímetro).\n",
    "4. **Passenger_count**: Cantidad de pasajeros reportados para el viaje. Este dato es ingresado manualmente por el conductor.\n",
    "5. **Trip_distance**: Distancia recorrida durante el viaje, reportada en millas.\n",
    "6. **PULocationID**: ID de la zona de taxi TLC donde comenzó el viaje.\n",
    "7. **DOLocationID**: ID de la zona de taxi TLC donde terminó el viaje.\n",
    "8. **RateCodeID**: Código de la tarifa aplicada para el viaje.\n",
    "   - `1`: Tarifa estándar\n",
    "   - `2`: JFK\n",
    "   - `3`: Newark\n",
    "   - `4`: Nassau o Westchester\n",
    "   - `5`: Tarifa negociada\n",
    "   - `6`: Viaje en grupo\n",
    "9. **Store_and_fwd_flag**: Indica si el registro del viaje fue almacenado temporalmente en la memoria del vehículo debido a problemas de conectividad.\n",
    "   - `Y`: Sí, almacenado y enviado más tarde\n",
    "   - `N`: No, enviado en tiempo real\n",
    "10. **Payment_type**: Método de pago utilizado.\n",
    "    - `1`: Tarjeta de crédito\n",
    "    - `2`: Efectivo\n",
    "    - `3`: Sin cargo\n",
    "    - `4`: Disputa\n",
    "    - `5`: Desconocido\n",
    "    - `6`: Viaje anulado\n",
    "11. **Fare_amount**: Monto de la tarifa calculada en base al tiempo y distancia por el taxímetro.\n",
    "12. **Extra**: Cargos adicionales (como cargos por hora pico o nocturnos).\n",
    "13. **MTA_tax**: Un impuesto de $0.50 para la Autoridad Metropolitana de Transporte (MTA).\n",
    "14. **Improvement_surcharge**: Un recargo de $0.30 que se aplica desde 2015.\n",
    "15. **Tip_amount**: Propinas recibidas, automáticamente registradas para pagos con tarjeta de crédito (las propinas en efectivo no se incluyen).\n",
    "16. **Tolls_amount**: Total de peajes pagados durante el viaje.\n",
    "17. **Total_amount**: El total del viaje, excluyendo las propinas en efectivo.\n",
    "18. **Congestion_Surcharge**: Recargo por congestión recolectado para el programa de tarifas de congestión del Estado de Nueva York.\n",
    "19. **Airport_fee**: Un recargo de $1.25 para recogidas en los aeropuertos LaGuardia y JFK."
   ]
  },
  {
   "cell_type": "code",
   "execution_count": 39,
   "metadata": {},
   "outputs": [
    {
     "data": {
      "text/plain": [
       "VendorID                       0\n",
       "lpep_pickup_datetime           0\n",
       "lpep_dropoff_datetime          0\n",
       "store_and_fwd_flag         69832\n",
       "RatecodeID                 69832\n",
       "PULocationID                   0\n",
       "DOLocationID                   0\n",
       "passenger_count            69832\n",
       "trip_distance                  0\n",
       "fare_amount                    0\n",
       "extra                          0\n",
       "mta_tax                        0\n",
       "tip_amount                     0\n",
       "tolls_amount                   0\n",
       "ehail_fee                1126867\n",
       "improvement_surcharge          0\n",
       "total_amount                   0\n",
       "payment_type               69832\n",
       "trip_type                  69926\n",
       "congestion_surcharge       69832\n",
       "dtype: int64"
      ]
     },
     "execution_count": 39,
     "metadata": {},
     "output_type": "execute_result"
    }
   ],
   "source": [
    "df_taxis_green.isna().sum()"
   ]
  },
  {
   "cell_type": "markdown",
   "metadata": {},
   "source": [
    "#### Para lograr los objetivos de la empresa, se decidieron utilizar solamente las columnas de:\n",
    "\n",
    "- pickup_datetime\n",
    "- dropoff_datetime\n",
    "- PULocationID      \n",
    "- DOLocationID      \n",
    "- passenger_count\n",
    "- trip_distance\n",
    "- tip_amount\n",
    "- amount\n"
   ]
  },
  {
   "cell_type": "code",
   "execution_count": 40,
   "metadata": {},
   "outputs": [
    {
     "name": "stdout",
     "output_type": "stream",
     "text": [
      "<class 'pandas.core.frame.DataFrame'>\n",
      "RangeIndex: 1126867 entries, 0 to 1126866\n",
      "Data columns (total 8 columns):\n",
      " #   Column            Non-Null Count    Dtype         \n",
      "---  ------            --------------    -----         \n",
      " 0   pickup_datetime   1126867 non-null  datetime64[us]\n",
      " 1   dropoff_datetime  1126867 non-null  datetime64[us]\n",
      " 2   PULocationID      1126867 non-null  int64         \n",
      " 3   DOLocationID      1126867 non-null  int64         \n",
      " 4   passenger_count   1057035 non-null  float64       \n",
      " 5   trip_distance     1126867 non-null  float64       \n",
      " 6   tip_amount        1126867 non-null  float64       \n",
      " 7   amount            1126867 non-null  float64       \n",
      "dtypes: datetime64[us](2), float64(4), int64(2)\n",
      "memory usage: 68.8 MB\n"
     ]
    }
   ],
   "source": [
    "drop_cols = ['store_and_fwd_flag', 'fare_amount', 'extra', 'mta_tax', 'tolls_amount', 'improvement_surcharge',\n",
    "                    'ehail_fee', 'congestion_surcharge', 'trip_type', 'VendorID', 'RatecodeID', 'payment_type']\n",
    "\n",
    "# Eliminamos las columnas de la lista\n",
    "df_taxis_green.drop(columns=drop_cols, inplace=True)\n",
    "# Renombramos las columnas\n",
    "df_taxis_green.rename(columns={'lpep_pickup_datetime': 'pickup_datetime','lpep_dropoff_datetime': 'dropoff_datetime',\n",
    "                            'total_amount': 'amount'}, inplace=True)\n",
    "df_taxis_green.info()"
   ]
  },
  {
   "cell_type": "markdown",
   "metadata": {},
   "source": [
    "Las columnas de tip_amount y amount, se sumaran para tener una variable donde exprese la cantidad total del dinero que gasto el cliente."
   ]
  },
  {
   "cell_type": "code",
   "execution_count": 41,
   "metadata": {},
   "outputs": [],
   "source": [
    "# Sumamos las columnas amount y tip_amount para crear la columna total_price\n",
    "df_taxis_green['total_price'] = df_taxis_green['amount'] + df_taxis_green['tip_amount']\n",
    "df_taxis_green.drop(columns=['amount', 'tip_amount'], inplace=True)"
   ]
  },
  {
   "cell_type": "markdown",
   "metadata": {},
   "source": [
    "Debido a que las columnas con cantidad de pasajeros y distancia del viaje pueden llegar a ser 0, se procedio a eliminar las filas que posean 0 en estas columnas."
   ]
  },
  {
   "cell_type": "code",
   "execution_count": 42,
   "metadata": {},
   "outputs": [
    {
     "name": "stdout",
     "output_type": "stream",
     "text": [
      "passenger_count\n",
      "1.0    891297\n",
      "2.0     94581\n",
      "5.0     27804\n",
      "6.0     15144\n",
      "3.0     13620\n",
      "0.0      9260\n",
      "4.0      5190\n",
      "7.0        57\n",
      "9.0        43\n",
      "8.0        39\n",
      "Name: count, dtype: int64 trip_distance\n",
      "0.00        57261\n",
      "1.40        10015\n",
      "1.30         9529\n",
      "1.20         8453\n",
      "1.50         8092\n",
      "            ...  \n",
      "62.55           1\n",
      "58.74           1\n",
      "44.51           1\n",
      "107.97          1\n",
      "33967.47        1\n",
      "Name: count, Length: 4283, dtype: int64\n"
     ]
    }
   ],
   "source": [
    "print(df_taxis_green['passenger_count'].value_counts(),df_taxis_green['trip_distance'].value_counts())\n"
   ]
  },
  {
   "cell_type": "code",
   "execution_count": 43,
   "metadata": {},
   "outputs": [],
   "source": [
    "df_taxis_green = df_taxis_green[df_taxis_green['passenger_count'] != 0.0]\n",
    "df_taxis_green = df_taxis_green[df_taxis_green['trip_distance'] != 0.0]"
   ]
  },
  {
   "cell_type": "code",
   "execution_count": 44,
   "metadata": {},
   "outputs": [
    {
     "name": "stdout",
     "output_type": "stream",
     "text": [
      "67546\n"
     ]
    },
    {
     "data": {
      "text/plain": [
       "0"
      ]
     },
     "execution_count": 44,
     "metadata": {},
     "output_type": "execute_result"
    }
   ],
   "source": [
    "# Verificamos nulos\n",
    "print(df_taxis_green['passenger_count'].isnull().sum())\n",
    "# Debido a que sabemos que se efectuo el pago, completamos los valores nulos de la columna passenger_count con el valor 1.\n",
    "df_taxis_green['passenger_count'].fillna(1, inplace=True)\n",
    "df_taxis_green['passenger_count'].isnull().sum()"
   ]
  },
  {
   "cell_type": "markdown",
   "metadata": {},
   "source": [
    "#### Creacion de la columna \"service\" que sera booleana siendo 1 = \"green\" y 0 = \"yellow\""
   ]
  },
  {
   "cell_type": "code",
   "execution_count": 45,
   "metadata": {},
   "outputs": [
    {
     "data": {
      "text/html": [
       "<div>\n",
       "<style scoped>\n",
       "    .dataframe tbody tr th:only-of-type {\n",
       "        vertical-align: middle;\n",
       "    }\n",
       "\n",
       "    .dataframe tbody tr th {\n",
       "        vertical-align: top;\n",
       "    }\n",
       "\n",
       "    .dataframe thead th {\n",
       "        text-align: right;\n",
       "    }\n",
       "</style>\n",
       "<table border=\"1\" class=\"dataframe\">\n",
       "  <thead>\n",
       "    <tr style=\"text-align: right;\">\n",
       "      <th></th>\n",
       "      <th>pickup_datetime</th>\n",
       "      <th>dropoff_datetime</th>\n",
       "      <th>PULocationID</th>\n",
       "      <th>DOLocationID</th>\n",
       "      <th>passenger_count</th>\n",
       "      <th>trip_distance</th>\n",
       "      <th>total_price</th>\n",
       "      <th>service</th>\n",
       "    </tr>\n",
       "  </thead>\n",
       "  <tbody>\n",
       "    <tr>\n",
       "      <th>1126864</th>\n",
       "      <td>2024-06-30 19:39:00</td>\n",
       "      <td>2024-06-30 20:00:00</td>\n",
       "      <td>247</td>\n",
       "      <td>151</td>\n",
       "      <td>1.0</td>\n",
       "      <td>3.34</td>\n",
       "      <td>35.93</td>\n",
       "      <td>1</td>\n",
       "    </tr>\n",
       "    <tr>\n",
       "      <th>1126866</th>\n",
       "      <td>2024-06-30 22:10:00</td>\n",
       "      <td>2024-06-30 22:40:00</td>\n",
       "      <td>61</td>\n",
       "      <td>112</td>\n",
       "      <td>1.0</td>\n",
       "      <td>5.14</td>\n",
       "      <td>39.70</td>\n",
       "      <td>1</td>\n",
       "    </tr>\n",
       "  </tbody>\n",
       "</table>\n",
       "</div>"
      ],
      "text/plain": [
       "            pickup_datetime    dropoff_datetime  PULocationID  DOLocationID  \\\n",
       "1126864 2024-06-30 19:39:00 2024-06-30 20:00:00           247           151   \n",
       "1126866 2024-06-30 22:10:00 2024-06-30 22:40:00            61           112   \n",
       "\n",
       "         passenger_count  trip_distance  total_price  service  \n",
       "1126864              1.0           3.34        35.93        1  \n",
       "1126866              1.0           5.14        39.70        1  "
      ]
     },
     "execution_count": 45,
     "metadata": {},
     "output_type": "execute_result"
    }
   ],
   "source": [
    "df_taxis_green['service'] = 1\n",
    "df_taxis_green.tail(2)"
   ]
  },
  {
   "cell_type": "markdown",
   "metadata": {},
   "source": [
    "#### **Yellow Taxis**"
   ]
  },
  {
   "cell_type": "code",
   "execution_count": 46,
   "metadata": {},
   "outputs": [],
   "source": [
    "yellow_2301 = pd.read_parquet('descargas/yellow_tripdata_2023-01.parquet',engine='pyarrow')\n",
    "yellow_2302 = pd.read_parquet('descargas/yellow_tripdata_2023-02.parquet',engine='pyarrow')\n",
    "yellow_2303 = pd.read_parquet('descargas/yellow_tripdata_2023-03.parquet',engine='pyarrow')\n",
    "yellow_2304 = pd.read_parquet('descargas/yellow_tripdata_2023-04.parquet',engine='pyarrow')\n",
    "yellow_2305 = pd.read_parquet('descargas/yellow_tripdata_2023-05.parquet',engine='pyarrow')\n",
    "yellow_2306 = pd.read_parquet('descargas/yellow_tripdata_2023-06.parquet',engine='pyarrow')\n",
    "yellow_2307 = pd.read_parquet('descargas/yellow_tripdata_2023-07.parquet',engine='pyarrow')\n",
    "yellow_2308 = pd.read_parquet('descargas/yellow_tripdata_2023-08.parquet',engine='pyarrow')\n",
    "yellow_2309 = pd.read_parquet('descargas/yellow_tripdata_2023-09.parquet',engine='pyarrow')\n",
    "yellow_2310 = pd.read_parquet('descargas/yellow_tripdata_2023-10.parquet',engine='pyarrow')\n",
    "yellow_2311 = pd.read_parquet('descargas/yellow_tripdata_2023-11.parquet',engine='pyarrow')\n",
    "yellow_2312 = pd.read_parquet('descargas/yellow_tripdata_2023-12.parquet',engine='pyarrow')\n",
    "yellow_2401 = pd.read_parquet('descargas/yellow_tripdata_2024-01.parquet',engine='pyarrow')\n",
    "yellow_2402 = pd.read_parquet('descargas/yellow_tripdata_2024-02.parquet',engine='pyarrow')\n",
    "yellow_2403 = pd.read_parquet('descargas/yellow_tripdata_2024-03.parquet',engine='pyarrow')\n",
    "yellow_2404 = pd.read_parquet('descargas/yellow_tripdata_2024-04.parquet',engine='pyarrow')\n",
    "yellow_2405 = pd.read_parquet('descargas/yellow_tripdata_2024-05.parquet',engine='pyarrow')\n",
    "yellow_2406 = pd.read_parquet('descargas/yellow_tripdata_2024-06.parquet',engine='pyarrow')\n",
    "#green_2407 = pd.read_parquet('descargas/yellow_tripdata_2024-07.parquet',engine='pyarrow')"
   ]
  },
  {
   "cell_type": "code",
   "execution_count": 47,
   "metadata": {},
   "outputs": [
    {
     "name": "stdout",
     "output_type": "stream",
     "text": [
      "<class 'list'>\n",
      "<class 'pandas.core.frame.DataFrame'>\n",
      "RangeIndex: 58642319 entries, 0 to 58642318\n",
      "Data columns (total 20 columns):\n",
      " #   Column                 Dtype         \n",
      "---  ------                 -----         \n",
      " 0   VendorID               int64         \n",
      " 1   tpep_pickup_datetime   datetime64[us]\n",
      " 2   tpep_dropoff_datetime  datetime64[us]\n",
      " 3   passenger_count        float64       \n",
      " 4   trip_distance          float64       \n",
      " 5   RatecodeID             float64       \n",
      " 6   store_and_fwd_flag     object        \n",
      " 7   PULocationID           int64         \n",
      " 8   DOLocationID           int64         \n",
      " 9   payment_type           int64         \n",
      " 10  fare_amount            float64       \n",
      " 11  extra                  float64       \n",
      " 12  mta_tax                float64       \n",
      " 13  tip_amount             float64       \n",
      " 14  tolls_amount           float64       \n",
      " 15  improvement_surcharge  float64       \n",
      " 16  total_amount           float64       \n",
      " 17  congestion_surcharge   float64       \n",
      " 18  airport_fee            float64       \n",
      " 19  Airport_fee            float64       \n",
      "dtypes: datetime64[us](2), float64(13), int64(4), object(1)\n",
      "memory usage: 8.7+ GB\n",
      "VendorID                        0\n",
      "tpep_pickup_datetime            0\n",
      "tpep_dropoff_datetime           0\n",
      "passenger_count           3285341\n",
      "trip_distance                   0\n",
      "RatecodeID                3285341\n",
      "store_and_fwd_flag        3285341\n",
      "PULocationID                    0\n",
      "DOLocationID                    0\n",
      "payment_type                    0\n",
      "fare_amount                     0\n",
      "extra                           0\n",
      "mta_tax                         0\n",
      "tip_amount                      0\n",
      "tolls_amount                    0\n",
      "improvement_surcharge           0\n",
      "total_amount                    0\n",
      "congestion_surcharge      3285341\n",
      "airport_fee              55647296\n",
      "Airport_fee               6280364\n",
      "dtype: int64\n"
     ]
    }
   ],
   "source": [
    "df_taxis_yellow = [yellow_2301,yellow_2302,yellow_2303,yellow_2304,yellow_2305,yellow_2306,\n",
    "                   yellow_2307,yellow_2308,yellow_2309,yellow_2310,yellow_2311,yellow_2312,\n",
    "                   yellow_2401,yellow_2402,yellow_2403,yellow_2404,yellow_2405,yellow_2406]\n",
    "print(type(df_taxis_yellow))\n",
    "\n",
    "df_taxis_yellow = pd.concat(df_taxis_yellow, ignore_index=True)\n",
    "df_taxis_yellow.info()\n",
    "\n",
    "print(df_taxis_yellow.isna().sum())"
   ]
  },
  {
   "cell_type": "code",
   "execution_count": 48,
   "metadata": {},
   "outputs": [
    {
     "name": "stdout",
     "output_type": "stream",
     "text": [
      "<class 'pandas.core.frame.DataFrame'>\n",
      "RangeIndex: 58642319 entries, 0 to 58642318\n",
      "Data columns (total 8 columns):\n",
      " #   Column            Dtype         \n",
      "---  ------            -----         \n",
      " 0   pickup_datetime   datetime64[us]\n",
      " 1   dropoff_datetime  datetime64[us]\n",
      " 2   passenger_count   float64       \n",
      " 3   trip_distance     float64       \n",
      " 4   PULocationID      int64         \n",
      " 5   DOLocationID      int64         \n",
      " 6   tip_amount        float64       \n",
      " 7   amount            float64       \n",
      "dtypes: datetime64[us](2), float64(4), int64(2)\n",
      "memory usage: 3.5 GB\n"
     ]
    }
   ],
   "source": [
    "drop_cols = ['store_and_fwd_flag', 'fare_amount', 'extra', 'mta_tax', 'tolls_amount', 'improvement_surcharge',\n",
    "                    'congestion_surcharge', 'VendorID', 'RatecodeID', 'payment_type','airport_fee','Airport_fee']\n",
    "\n",
    "# Eliminamos las columnas de la lista\n",
    "df_taxis_yellow.drop(columns=drop_cols, inplace=True)\n",
    "\n",
    "# Renombramos las columnas\n",
    "df_taxis_yellow.rename(columns={'tpep_pickup_datetime': 'pickup_datetime','tpep_dropoff_datetime': 'dropoff_datetime',\n",
    "                            'total_amount': 'amount'}, inplace=True)\n",
    "df_taxis_yellow.info()"
   ]
  },
  {
   "cell_type": "markdown",
   "metadata": {},
   "source": [
    "- pickup_datetime\n",
    "- dropoff_datetime\n",
    "- PULocationID      \n",
    "- DOLocationID      \n",
    "- passenger_count\n",
    "- trip_distance\n",
    "- tip_amount\n",
    "- amount"
   ]
  },
  {
   "cell_type": "code",
   "execution_count": 49,
   "metadata": {},
   "outputs": [],
   "source": [
    "# Sumamos las columnas amount y tip_amount para crear la columna total_price\n",
    "df_taxis_yellow['total_price'] = df_taxis_yellow['amount'] + df_taxis_yellow['tip_amount']\n",
    "df_taxis_yellow.drop(columns=['amount', 'tip_amount'], inplace=True)"
   ]
  },
  {
   "cell_type": "code",
   "execution_count": 50,
   "metadata": {},
   "outputs": [],
   "source": [
    "df_taxis_yellow = df_taxis_yellow[df_taxis_yellow['passenger_count'] != 0.0]\n",
    "df_taxis_yellow = df_taxis_yellow[df_taxis_yellow['trip_distance'] != 0.0]"
   ]
  },
  {
   "cell_type": "code",
   "execution_count": 51,
   "metadata": {},
   "outputs": [
    {
     "name": "stdout",
     "output_type": "stream",
     "text": [
      "2869727\n"
     ]
    },
    {
     "data": {
      "text/plain": [
       "0"
      ]
     },
     "execution_count": 51,
     "metadata": {},
     "output_type": "execute_result"
    }
   ],
   "source": [
    "# Verificamos nulos\n",
    "print(df_taxis_yellow['passenger_count'].isnull().sum())\n",
    "# Debido a que sabemos que se efectuo el pago, completamos los valores nulos de la columna passenger_count con el valor 1.\n",
    "df_taxis_yellow['passenger_count'].fillna(1, inplace=True)\n",
    "df_taxis_yellow['passenger_count'].isnull().sum()"
   ]
  },
  {
   "cell_type": "code",
   "execution_count": 52,
   "metadata": {},
   "outputs": [
    {
     "data": {
      "text/html": [
       "<div>\n",
       "<style scoped>\n",
       "    .dataframe tbody tr th:only-of-type {\n",
       "        vertical-align: middle;\n",
       "    }\n",
       "\n",
       "    .dataframe tbody tr th {\n",
       "        vertical-align: top;\n",
       "    }\n",
       "\n",
       "    .dataframe thead th {\n",
       "        text-align: right;\n",
       "    }\n",
       "</style>\n",
       "<table border=\"1\" class=\"dataframe\">\n",
       "  <thead>\n",
       "    <tr style=\"text-align: right;\">\n",
       "      <th></th>\n",
       "      <th>pickup_datetime</th>\n",
       "      <th>dropoff_datetime</th>\n",
       "      <th>passenger_count</th>\n",
       "      <th>trip_distance</th>\n",
       "      <th>PULocationID</th>\n",
       "      <th>DOLocationID</th>\n",
       "      <th>total_price</th>\n",
       "      <th>service</th>\n",
       "    </tr>\n",
       "  </thead>\n",
       "  <tbody>\n",
       "    <tr>\n",
       "      <th>58642317</th>\n",
       "      <td>2024-06-30 23:33:36</td>\n",
       "      <td>2024-06-30 23:42:37</td>\n",
       "      <td>1.0</td>\n",
       "      <td>1.60</td>\n",
       "      <td>158</td>\n",
       "      <td>231</td>\n",
       "      <td>18.41</td>\n",
       "      <td>0</td>\n",
       "    </tr>\n",
       "    <tr>\n",
       "      <th>58642318</th>\n",
       "      <td>2024-06-30 23:04:50</td>\n",
       "      <td>2024-06-30 23:11:15</td>\n",
       "      <td>1.0</td>\n",
       "      <td>1.28</td>\n",
       "      <td>158</td>\n",
       "      <td>186</td>\n",
       "      <td>16.40</td>\n",
       "      <td>0</td>\n",
       "    </tr>\n",
       "  </tbody>\n",
       "</table>\n",
       "</div>"
      ],
      "text/plain": [
       "             pickup_datetime    dropoff_datetime  passenger_count  \\\n",
       "58642317 2024-06-30 23:33:36 2024-06-30 23:42:37              1.0   \n",
       "58642318 2024-06-30 23:04:50 2024-06-30 23:11:15              1.0   \n",
       "\n",
       "          trip_distance  PULocationID  DOLocationID  total_price  service  \n",
       "58642317           1.60           158           231        18.41        0  \n",
       "58642318           1.28           158           186        16.40        0  "
      ]
     },
     "execution_count": 52,
     "metadata": {},
     "output_type": "execute_result"
    }
   ],
   "source": [
    "df_taxis_yellow['service'] = 0\n",
    "df_taxis_yellow.tail(2)"
   ]
  },
  {
   "cell_type": "code",
   "execution_count": 53,
   "metadata": {},
   "outputs": [],
   "source": [
    "new_order = ['pickup_datetime', 'dropoff_datetime', 'passenger_count',\n",
    "             'trip_distance', 'PULocationID', 'DOLocationID','total_price','service']\n",
    "df_taxis_green = df_taxis_green.reindex(columns=new_order)"
   ]
  },
  {
   "cell_type": "code",
   "execution_count": 54,
   "metadata": {},
   "outputs": [
    {
     "name": "stdout",
     "output_type": "stream",
     "text": [
      "<class 'pandas.core.frame.DataFrame'>\n",
      "RangeIndex: 57785408 entries, 0 to 57785407\n",
      "Data columns (total 8 columns):\n",
      " #   Column            Dtype         \n",
      "---  ------            -----         \n",
      " 0   pickup_datetime   datetime64[us]\n",
      " 1   dropoff_datetime  datetime64[us]\n",
      " 2   passenger_count   float64       \n",
      " 3   trip_distance     float64       \n",
      " 4   PULocationID      int64         \n",
      " 5   DOLocationID      int64         \n",
      " 6   total_price       float64       \n",
      " 7   service           int64         \n",
      "dtypes: datetime64[us](2), float64(3), int64(3)\n",
      "memory usage: 3.4 GB\n"
     ]
    }
   ],
   "source": [
    "# Concatenamos los DataFrames de yellow y green taxis\n",
    "taxis = pd.concat([df_taxis_yellow, df_taxis_green], ignore_index=True)\n",
    "taxis.info()"
   ]
  },
  {
   "cell_type": "code",
   "execution_count": 55,
   "metadata": {},
   "outputs": [
    {
     "data": {
      "text/plain": [
       "Timestamp('2001-01-01 00:06:49')"
      ]
     },
     "execution_count": 55,
     "metadata": {},
     "output_type": "execute_result"
    }
   ],
   "source": [
    "taxis.pickup_datetime.min()"
   ]
  },
  {
   "cell_type": "code",
   "execution_count": 4,
   "metadata": {},
   "outputs": [],
   "source": [
    "taxis = taxis.sort_values(by='pickup_datetime')"
   ]
  },
  {
   "cell_type": "code",
   "execution_count": 57,
   "metadata": {},
   "outputs": [
    {
     "data": {
      "text/html": [
       "<div>\n",
       "<style scoped>\n",
       "    .dataframe tbody tr th:only-of-type {\n",
       "        vertical-align: middle;\n",
       "    }\n",
       "\n",
       "    .dataframe tbody tr th {\n",
       "        vertical-align: top;\n",
       "    }\n",
       "\n",
       "    .dataframe thead th {\n",
       "        text-align: right;\n",
       "    }\n",
       "</style>\n",
       "<table border=\"1\" class=\"dataframe\">\n",
       "  <thead>\n",
       "    <tr style=\"text-align: right;\">\n",
       "      <th></th>\n",
       "      <th>pickup_datetime</th>\n",
       "      <th>dropoff_datetime</th>\n",
       "      <th>passenger_count</th>\n",
       "      <th>trip_distance</th>\n",
       "      <th>PULocationID</th>\n",
       "      <th>DOLocationID</th>\n",
       "      <th>total_price</th>\n",
       "      <th>service</th>\n",
       "    </tr>\n",
       "  </thead>\n",
       "  <tbody>\n",
       "    <tr>\n",
       "      <th>7022616</th>\n",
       "      <td>2001-01-01 00:06:49</td>\n",
       "      <td>2001-01-01 15:42:11</td>\n",
       "      <td>2.0</td>\n",
       "      <td>7.41</td>\n",
       "      <td>161</td>\n",
       "      <td>231</td>\n",
       "      <td>53.90</td>\n",
       "      <td>0</td>\n",
       "    </tr>\n",
       "    <tr>\n",
       "      <th>12041332</th>\n",
       "      <td>2001-01-01 00:07:36</td>\n",
       "      <td>2001-01-01 00:16:31</td>\n",
       "      <td>1.0</td>\n",
       "      <td>1.68</td>\n",
       "      <td>239</td>\n",
       "      <td>43</td>\n",
       "      <td>14.70</td>\n",
       "      <td>0</td>\n",
       "    </tr>\n",
       "    <tr>\n",
       "      <th>11943398</th>\n",
       "      <td>2001-01-01 00:08:31</td>\n",
       "      <td>2001-01-01 16:01:27</td>\n",
       "      <td>1.0</td>\n",
       "      <td>18.63</td>\n",
       "      <td>132</td>\n",
       "      <td>264</td>\n",
       "      <td>115.22</td>\n",
       "      <td>0</td>\n",
       "    </tr>\n",
       "    <tr>\n",
       "      <th>8831805</th>\n",
       "      <td>2001-01-01 00:08:42</td>\n",
       "      <td>2001-01-01 14:13:51</td>\n",
       "      <td>1.0</td>\n",
       "      <td>17.68</td>\n",
       "      <td>132</td>\n",
       "      <td>68</td>\n",
       "      <td>81.80</td>\n",
       "      <td>0</td>\n",
       "    </tr>\n",
       "    <tr>\n",
       "      <th>12047517</th>\n",
       "      <td>2001-01-01 00:28:40</td>\n",
       "      <td>2001-01-01 01:11:09</td>\n",
       "      <td>1.0</td>\n",
       "      <td>10.23</td>\n",
       "      <td>239</td>\n",
       "      <td>97</td>\n",
       "      <td>52.50</td>\n",
       "      <td>0</td>\n",
       "    </tr>\n",
       "  </tbody>\n",
       "</table>\n",
       "</div>"
      ],
      "text/plain": [
       "             pickup_datetime    dropoff_datetime  passenger_count  \\\n",
       "7022616  2001-01-01 00:06:49 2001-01-01 15:42:11              2.0   \n",
       "12041332 2001-01-01 00:07:36 2001-01-01 00:16:31              1.0   \n",
       "11943398 2001-01-01 00:08:31 2001-01-01 16:01:27              1.0   \n",
       "8831805  2001-01-01 00:08:42 2001-01-01 14:13:51              1.0   \n",
       "12047517 2001-01-01 00:28:40 2001-01-01 01:11:09              1.0   \n",
       "\n",
       "          trip_distance  PULocationID  DOLocationID  total_price  service  \n",
       "7022616            7.41           161           231        53.90        0  \n",
       "12041332           1.68           239            43        14.70        0  \n",
       "11943398          18.63           132           264       115.22        0  \n",
       "8831805           17.68           132            68        81.80        0  \n",
       "12047517          10.23           239            97        52.50        0  "
      ]
     },
     "execution_count": 57,
     "metadata": {},
     "output_type": "execute_result"
    }
   ],
   "source": [
    "taxis.head(5)"
   ]
  },
  {
   "cell_type": "markdown",
   "metadata": {},
   "source": [
    "Debido a la existencia de algunos datos que su fecha no corresponde con los años extraidos, se procedera a aplicar una mascara para su filtrado."
   ]
  },
  {
   "cell_type": "code",
   "execution_count": 5,
   "metadata": {},
   "outputs": [
    {
     "name": "stdout",
     "output_type": "stream",
     "text": [
      "(47089415, 16)\n",
      "(47089377, 16)\n"
     ]
    }
   ],
   "source": [
    "print(taxis.shape)\n",
    "taxis = taxis[(taxis['pickup_datetime'].dt.year == 2023) | (taxis['pickup_datetime'].dt.year == 2024)]\n",
    "print(taxis.shape)"
   ]
  },
  {
   "cell_type": "code",
   "execution_count": 30,
   "metadata": {},
   "outputs": [
    {
     "data": {
      "text/html": [
       "<div>\n",
       "<style scoped>\n",
       "    .dataframe tbody tr th:only-of-type {\n",
       "        vertical-align: middle;\n",
       "    }\n",
       "\n",
       "    .dataframe tbody tr th {\n",
       "        vertical-align: top;\n",
       "    }\n",
       "\n",
       "    .dataframe thead th {\n",
       "        text-align: right;\n",
       "    }\n",
       "</style>\n",
       "<table border=\"1\" class=\"dataframe\">\n",
       "  <thead>\n",
       "    <tr style=\"text-align: right;\">\n",
       "      <th></th>\n",
       "      <th>pickup_datetime</th>\n",
       "      <th>dropoff_datetime</th>\n",
       "      <th>passenger_count</th>\n",
       "      <th>trip_distance</th>\n",
       "      <th>PULocationID</th>\n",
       "      <th>DOLocationID</th>\n",
       "      <th>total_price</th>\n",
       "      <th>service</th>\n",
       "    </tr>\n",
       "  </thead>\n",
       "  <tbody>\n",
       "    <tr>\n",
       "      <th>56321563</th>\n",
       "      <td>2024-06-30 23:59:56</td>\n",
       "      <td>2024-07-01 00:01:30</td>\n",
       "      <td>1.0</td>\n",
       "      <td>0.65</td>\n",
       "      <td>162</td>\n",
       "      <td>162</td>\n",
       "      <td>14.14</td>\n",
       "      <td>0</td>\n",
       "    </tr>\n",
       "    <tr>\n",
       "      <th>56323027</th>\n",
       "      <td>2024-06-30 23:59:57</td>\n",
       "      <td>2024-07-01 00:17:15</td>\n",
       "      <td>1.0</td>\n",
       "      <td>9.22</td>\n",
       "      <td>138</td>\n",
       "      <td>236</td>\n",
       "      <td>71.87</td>\n",
       "      <td>0</td>\n",
       "    </tr>\n",
       "    <tr>\n",
       "      <th>56322210</th>\n",
       "      <td>2024-07-01 00:00:27</td>\n",
       "      <td>2024-07-01 00:08:00</td>\n",
       "      <td>6.0</td>\n",
       "      <td>1.72</td>\n",
       "      <td>48</td>\n",
       "      <td>163</td>\n",
       "      <td>15.00</td>\n",
       "      <td>0</td>\n",
       "    </tr>\n",
       "    <tr>\n",
       "      <th>56322398</th>\n",
       "      <td>2024-07-01 00:02:34</td>\n",
       "      <td>2024-07-01 00:21:07</td>\n",
       "      <td>1.0</td>\n",
       "      <td>9.38</td>\n",
       "      <td>138</td>\n",
       "      <td>49</td>\n",
       "      <td>46.55</td>\n",
       "      <td>0</td>\n",
       "    </tr>\n",
       "    <tr>\n",
       "      <th>56322147</th>\n",
       "      <td>2024-07-01 00:05:23</td>\n",
       "      <td>2024-07-01 00:15:02</td>\n",
       "      <td>5.0</td>\n",
       "      <td>2.07</td>\n",
       "      <td>263</td>\n",
       "      <td>151</td>\n",
       "      <td>26.70</td>\n",
       "      <td>0</td>\n",
       "    </tr>\n",
       "  </tbody>\n",
       "</table>\n",
       "</div>"
      ],
      "text/plain": [
       "             pickup_datetime    dropoff_datetime  passenger_count  \\\n",
       "56321563 2024-06-30 23:59:56 2024-07-01 00:01:30              1.0   \n",
       "56323027 2024-06-30 23:59:57 2024-07-01 00:17:15              1.0   \n",
       "56322210 2024-07-01 00:00:27 2024-07-01 00:08:00              6.0   \n",
       "56322398 2024-07-01 00:02:34 2024-07-01 00:21:07              1.0   \n",
       "56322147 2024-07-01 00:05:23 2024-07-01 00:15:02              5.0   \n",
       "\n",
       "          trip_distance  PULocationID  DOLocationID  total_price  service  \n",
       "56321563           0.65           162           162        14.14        0  \n",
       "56323027           9.22           138           236        71.87        0  \n",
       "56322210           1.72            48           163        15.00        0  \n",
       "56322398           9.38           138            49        46.55        0  \n",
       "56322147           2.07           263           151        26.70        0  "
      ]
     },
     "execution_count": 30,
     "metadata": {},
     "output_type": "execute_result"
    }
   ],
   "source": [
    "taxis.tail(5)"
   ]
  },
  {
   "cell_type": "code",
   "execution_count": 58,
   "metadata": {},
   "outputs": [
    {
     "name": "stdout",
     "output_type": "stream",
     "text": [
      "<class 'pandas.core.frame.DataFrame'>\n",
      "Index: 57785408 entries, 7022616 to 55930135\n",
      "Data columns (total 8 columns):\n",
      " #   Column            Dtype         \n",
      "---  ------            -----         \n",
      " 0   pickup_datetime   datetime64[us]\n",
      " 1   dropoff_datetime  datetime64[us]\n",
      " 2   passenger_count   float64       \n",
      " 3   trip_distance     float64       \n",
      " 4   PULocationID      int64         \n",
      " 5   DOLocationID      int64         \n",
      " 6   total_price       float64       \n",
      " 7   service           int64         \n",
      "dtypes: datetime64[us](2), float64(3), int64(3)\n",
      "memory usage: 3.9 GB\n"
     ]
    }
   ],
   "source": [
    "taxis.info()"
   ]
  },
  {
   "cell_type": "code",
   "execution_count": 59,
   "metadata": {},
   "outputs": [],
   "source": [
    "from funciones import get_borough"
   ]
  },
  {
   "cell_type": "code",
   "execution_count": 60,
   "metadata": {},
   "outputs": [],
   "source": [
    "#taxis = pd.read_parquet('Data\\process_taxis.parquet',engine='pyarrow')\n",
    "taxis['pickup_borough'] = taxis['PULocationID'].apply(get_borough)\n",
    "taxis['dropoff_borough'] = taxis['DOLocationID'].apply(get_borough)"
   ]
  },
  {
   "cell_type": "code",
   "execution_count": 61,
   "metadata": {},
   "outputs": [
    {
     "data": {
      "text/plain": [
       "pickup_borough\n",
       "Manhattan        51012424\n",
       "Queens            5621875\n",
       "Brooklyn           626376\n",
       "Unknown            400125\n",
       "Bronx              120461\n",
       "Staten Island        2499\n",
       "EWR                  1648\n",
       "Name: count, dtype: int64"
      ]
     },
     "execution_count": 61,
     "metadata": {},
     "output_type": "execute_result"
    }
   ],
   "source": [
    "taxis.pickup_borough.value_counts()"
   ]
  },
  {
   "cell_type": "code",
   "execution_count": 62,
   "metadata": {},
   "outputs": [
    {
     "data": {
      "text/plain": [
       "dropoff_borough\n",
       "Manhattan        51104271\n",
       "Queens            3174826\n",
       "Brooklyn          2321620\n",
       "Unknown            641915\n",
       "Bronx              364348\n",
       "EWR                163501\n",
       "Staten Island       14927\n",
       "Name: count, dtype: int64"
      ]
     },
     "execution_count": 62,
     "metadata": {},
     "output_type": "execute_result"
    }
   ],
   "source": [
    "taxis.dropoff_borough.value_counts()"
   ]
  },
  {
   "cell_type": "markdown",
   "metadata": {},
   "source": [
    "Filtro para evaluar los viajes que se realizaron solamente en Manhattan. "
   ]
  },
  {
   "cell_type": "code",
   "execution_count": 63,
   "metadata": {},
   "outputs": [
    {
     "data": {
      "text/plain": [
       "service\n",
       "0    47054952\n",
       "1      583478\n",
       "Name: count, dtype: int64"
      ]
     },
     "execution_count": 63,
     "metadata": {},
     "output_type": "execute_result"
    }
   ],
   "source": [
    "taxis = taxis[(taxis['pickup_borough']=='Manhattan')& (taxis['dropoff_borough']=='Manhattan')]\n",
    "taxis.drop(columns=['pickup_borough','dropoff_borough'],inplace=True)\n",
    "taxis['passenger_count'] = taxis['passenger_count'].astype(int)\n",
    "taxis.service.value_counts()"
   ]
  },
  {
   "cell_type": "code",
   "execution_count": 64,
   "metadata": {},
   "outputs": [
    {
     "name": "stdout",
     "output_type": "stream",
     "text": [
      "(47638430, 8)\n",
      "<class 'pandas.core.frame.DataFrame'>\n",
      "Index: 47638430 entries, 7022616 to 56322147\n",
      "Data columns (total 8 columns):\n",
      " #   Column            Dtype         \n",
      "---  ------            -----         \n",
      " 0   pickup_datetime   datetime64[us]\n",
      " 1   dropoff_datetime  datetime64[us]\n",
      " 2   passenger_count   int32         \n",
      " 3   trip_distance     float64       \n",
      " 4   PULocationID      int64         \n",
      " 5   DOLocationID      int64         \n",
      " 6   total_price       float64       \n",
      " 7   service           int64         \n",
      "dtypes: datetime64[us](2), float64(2), int32(1), int64(3)\n",
      "memory usage: 3.0 GB\n"
     ]
    }
   ],
   "source": [
    "print(taxis.shape)\n",
    "taxis.info()"
   ]
  },
  {
   "cell_type": "code",
   "execution_count": 5,
   "metadata": {},
   "outputs": [],
   "source": [
    "# convert the trip_distance column from miles to km\n",
    "taxis['trip_distance'] = taxis['trip_distance']*1.6"
   ]
  },
  {
   "cell_type": "markdown",
   "metadata": {},
   "source": [
    "#### Para el calculo del presupuesto, se procedio a establecer cuales serian los taxis que utilizan gasolina, electricidad o hibridos\n",
    "- 0 = vehiculo a gasolina\n",
    "- 1 = vehiculo electrico\n",
    "- 2 = vehiculo hibrido"
   ]
  },
  {
   "cell_type": "code",
   "execution_count": 66,
   "metadata": {},
   "outputs": [
    {
     "name": "stdout",
     "output_type": "stream",
     "text": [
      "47638430\n"
     ]
    }
   ],
   "source": [
    "proporciones = [0.5, 0.3, 0.2]\n",
    "# Calcular el número de filas para cada categoría\n",
    "num_filas = len(taxis)\n",
    "num_por_categoria = [int(prop * num_filas) for prop in proporciones]\n",
    "# Crear una lista con los valores de la nueva columna\n",
    "fuel_type = []\n",
    "for i in range(len(proporciones)):\n",
    "    fuel_type.extend([i] * num_por_categoria[i])\n",
    "# Mezclar aleatoriamente la lista\n",
    "np.random.shuffle(fuel_type)\n",
    "\n",
    "# Agregar la nueva columna al DataFrame\n",
    "num_filas = len(taxis)\n",
    "print(num_filas)"
   ]
  },
  {
   "cell_type": "code",
   "execution_count": 67,
   "metadata": {},
   "outputs": [],
   "source": [
    "# Asegurarse de que la longitud de fuel_type sea igual a num_filas\n",
    "assert len(fuel_type) == num_filas, \"La longitud de fuel_type no coincide con el número de filas del dataframe.\"\n",
    "taxis['fuel_type'] = fuel_type"
   ]
  },
  {
   "cell_type": "markdown",
   "metadata": {},
   "source": [
    "Columna con la duracion del viaje"
   ]
  },
  {
   "cell_type": "code",
   "execution_count": null,
   "metadata": {},
   "outputs": [],
   "source": [
    "taxis['trip_duration'] = (taxis['dropoff_datetime'] - taxis['pickup_datetime']).dt.total_seconds()"
   ]
  },
  {
   "cell_type": "code",
   "execution_count": 5,
   "metadata": {},
   "outputs": [
    {
     "data": {
      "text/plain": [
       "fuel_type\n",
       "0    23819215\n",
       "1    14291529\n",
       "2     9527686\n",
       "Name: count, dtype: int64"
      ]
     },
     "execution_count": 5,
     "metadata": {},
     "output_type": "execute_result"
    }
   ],
   "source": [
    "taxis.fuel_type.value_counts()"
   ]
  },
  {
   "cell_type": "markdown",
   "metadata": {},
   "source": [
    "#### Consumo de energia y gasto"
   ]
  },
  {
   "cell_type": "code",
   "execution_count": 6,
   "metadata": {},
   "outputs": [],
   "source": [
    "taxis['energy_consumption'] = np.where(\n",
    "    taxis['fuel_type'] == 0,  # Condición para fuel_type == 0\n",
    "    taxis['trip_distance'] * 0.1,  # Cálculo cuando fuel_type es 0\n",
    "    np.where(\n",
    "        taxis['fuel_type'] == 1,  # Condición para fuel_type == 1\n",
    "        taxis['trip_distance'] * 0.025,  # Cálculo cuando fuel_type es 1\n",
    "        taxis['trip_distance'] * 0.035  # Cálculo para otros casos, como fuel_type == 2\n",
    "    )\n",
    ")"
   ]
  },
  {
   "cell_type": "markdown",
   "metadata": {},
   "source": [
    "Segun nuestras fuentes, el gasto en mantenimiento para autos electricos es aproximadamente un cuarto que el gasto de los vehiculos convencionales.\n",
    "Para el desgaste del vehiculo convencional, si consideramos segun la AAA, el costo del mantenimiento y reparo del vehiculo es de 0.15 dolares por milla, lo cual serian 0.25 dolares por km aproximadamente sumadonse 0.0625(representando el desgaste de sus partes), 0.075 dolares por km para autos electricos y 0.15 dolares por km aproximadamente para autos hibridos."
   ]
  },
  {
   "cell_type": "code",
   "execution_count": 3,
   "metadata": {},
   "outputs": [],
   "source": [
    "taxis.drop(columns=['maintenance','net_profit'],inplace=True)"
   ]
  },
  {
   "cell_type": "code",
   "execution_count": 4,
   "metadata": {},
   "outputs": [],
   "source": [
    "taxis['maintenance'] = np.where(\n",
    "    taxis['fuel_type'] == 0,  # Condición para fuel_type == 0\n",
    "    taxis['trip_distance'] * 0.3125,  \n",
    "    np.where(\n",
    "        taxis['fuel_type'] == 1,  # Condición para fuel_type == 1\n",
    "        taxis['trip_distance'] * 0.075,  \n",
    "        taxis['trip_distance'] * 0.15\n",
    "    )\n",
    ")"
   ]
  },
  {
   "cell_type": "markdown",
   "metadata": {},
   "source": [
    "En New York, el salario mensual de un taxista puede oscilar entre $30.000 y $35.000, dependiendo de diversos factores. Si consideramos un promedio de $30.000 dolares anuales y una jornada laboral de 8 horas diarias, 6 días a la semana, el ingreso por hora estaria oscilando entre $13 a $15 dolares. Sin embargo, es importante tener en cuenta que este es un valor promedio y que los ingresos reales pueden variar considerablemente"
   ]
  },
  {
   "cell_type": "markdown",
   "metadata": {},
   "source": [
    "Convertimos la duracion del viaje de segundos a horas"
   ]
  },
  {
   "cell_type": "code",
   "execution_count": 19,
   "metadata": {},
   "outputs": [],
   "source": [
    "taxis[\"trip_duration\"] = taxis[\"trip_duration\"]/3600"
   ]
  },
  {
   "cell_type": "markdown",
   "metadata": {},
   "source": [
    "CO2 emitido"
   ]
  },
  {
   "cell_type": "code",
   "execution_count": 3,
   "metadata": {},
   "outputs": [],
   "source": [
    "taxis['co2'] = np.where(\n",
    "    taxis['fuel_type'] == 0,  # Condición para fuel_type == 0\n",
    "    taxis['trip_distance'] * 2.6,  \n",
    "    np.where(\n",
    "        taxis['fuel_type'] == 1,  # Condición para fuel_type == 1\n",
    "        taxis['trip_distance'] * 0,  \n",
    "        taxis['trip_distance'] * 0.99\n",
    "    )\n",
    ")"
   ]
  },
  {
   "cell_type": "code",
   "execution_count": 21,
   "metadata": {},
   "outputs": [
    {
     "data": {
      "text/html": [
       "<div>\n",
       "<style scoped>\n",
       "    .dataframe tbody tr th:only-of-type {\n",
       "        vertical-align: middle;\n",
       "    }\n",
       "\n",
       "    .dataframe tbody tr th {\n",
       "        vertical-align: top;\n",
       "    }\n",
       "\n",
       "    .dataframe thead th {\n",
       "        text-align: right;\n",
       "    }\n",
       "</style>\n",
       "<table border=\"1\" class=\"dataframe\">\n",
       "  <thead>\n",
       "    <tr style=\"text-align: right;\">\n",
       "      <th></th>\n",
       "      <th>trip_duration</th>\n",
       "      <th>dropoff_datetime</th>\n",
       "      <th>pickup_datetime</th>\n",
       "      <th>total_price</th>\n",
       "    </tr>\n",
       "  </thead>\n",
       "  <tbody>\n",
       "    <tr>\n",
       "      <th>7022616</th>\n",
       "      <td>15.589444</td>\n",
       "      <td>2001-01-01 15:42:11</td>\n",
       "      <td>2001-01-01 00:06:49</td>\n",
       "      <td>53.9</td>\n",
       "    </tr>\n",
       "    <tr>\n",
       "      <th>12041332</th>\n",
       "      <td>0.148611</td>\n",
       "      <td>2001-01-01 00:16:31</td>\n",
       "      <td>2001-01-01 00:07:36</td>\n",
       "      <td>14.7</td>\n",
       "    </tr>\n",
       "    <tr>\n",
       "      <th>7245608</th>\n",
       "      <td>6.830278</td>\n",
       "      <td>2001-01-01 22:08:40</td>\n",
       "      <td>2001-01-01 15:18:51</td>\n",
       "      <td>43.0</td>\n",
       "    </tr>\n",
       "  </tbody>\n",
       "</table>\n",
       "</div>"
      ],
      "text/plain": [
       "          trip_duration    dropoff_datetime     pickup_datetime  total_price\n",
       "7022616       15.589444 2001-01-01 15:42:11 2001-01-01 00:06:49         53.9\n",
       "12041332       0.148611 2001-01-01 00:16:31 2001-01-01 00:07:36         14.7\n",
       "7245608        6.830278 2001-01-01 22:08:40 2001-01-01 15:18:51         43.0"
      ]
     },
     "execution_count": 21,
     "metadata": {},
     "output_type": "execute_result"
    }
   ],
   "source": [
    "taxis[[\"trip_duration\",\"dropoff_datetime\",\"pickup_datetime\",\"total_price\"]].head(3)"
   ]
  },
  {
   "cell_type": "code",
   "execution_count": 5,
   "metadata": {},
   "outputs": [],
   "source": [
    "taxis[\"labor\"] = taxis[\"trip_duration\"] * 13\n",
    "taxis[\"fuel_cost\"] = taxis[\"energy_consumption\"]*0.92\n",
    "taxis[\"net_profit\"] = taxis[\"total_price\"]-taxis[\"fuel_cost\"]-taxis[\"maintenance\"]-taxis[\"labor\"]"
   ]
  },
  {
   "cell_type": "code",
   "execution_count": 6,
   "metadata": {},
   "outputs": [
    {
     "data": {
      "text/html": [
       "<div>\n",
       "<style scoped>\n",
       "    .dataframe tbody tr th:only-of-type {\n",
       "        vertical-align: middle;\n",
       "    }\n",
       "\n",
       "    .dataframe tbody tr th {\n",
       "        vertical-align: top;\n",
       "    }\n",
       "\n",
       "    .dataframe thead th {\n",
       "        text-align: right;\n",
       "    }\n",
       "</style>\n",
       "<table border=\"1\" class=\"dataframe\">\n",
       "  <thead>\n",
       "    <tr style=\"text-align: right;\">\n",
       "      <th></th>\n",
       "      <th>trip_distance</th>\n",
       "      <th>fuel_type</th>\n",
       "      <th>fuel_cost</th>\n",
       "      <th>maintenance</th>\n",
       "      <th>labor</th>\n",
       "      <th>net_profit</th>\n",
       "    </tr>\n",
       "  </thead>\n",
       "  <tbody>\n",
       "    <tr>\n",
       "      <th>20457255</th>\n",
       "      <td>1.616</td>\n",
       "      <td>1</td>\n",
       "      <td>0.037168</td>\n",
       "      <td>0.1212</td>\n",
       "      <td>1.931944</td>\n",
       "      <td>11.209688</td>\n",
       "    </tr>\n",
       "    <tr>\n",
       "      <th>179039</th>\n",
       "      <td>0.640</td>\n",
       "      <td>0</td>\n",
       "      <td>0.058880</td>\n",
       "      <td>0.2000</td>\n",
       "      <td>0.711389</td>\n",
       "      <td>8.129731</td>\n",
       "    </tr>\n",
       "    <tr>\n",
       "      <th>4900359</th>\n",
       "      <td>29.520</td>\n",
       "      <td>2</td>\n",
       "      <td>0.950544</td>\n",
       "      <td>4.4280</td>\n",
       "      <td>9.630833</td>\n",
       "      <td>104.760623</td>\n",
       "    </tr>\n",
       "    <tr>\n",
       "      <th>620810</th>\n",
       "      <td>2.448</td>\n",
       "      <td>1</td>\n",
       "      <td>0.056304</td>\n",
       "      <td>0.1836</td>\n",
       "      <td>1.390278</td>\n",
       "      <td>16.989818</td>\n",
       "    </tr>\n",
       "    <tr>\n",
       "      <th>15659350</th>\n",
       "      <td>7.808</td>\n",
       "      <td>0</td>\n",
       "      <td>0.718336</td>\n",
       "      <td>2.4400</td>\n",
       "      <td>5.748889</td>\n",
       "      <td>33.742775</td>\n",
       "    </tr>\n",
       "    <tr>\n",
       "      <th>5119430</th>\n",
       "      <td>3.680</td>\n",
       "      <td>2</td>\n",
       "      <td>0.118496</td>\n",
       "      <td>0.5520</td>\n",
       "      <td>2.116111</td>\n",
       "      <td>22.133393</td>\n",
       "    </tr>\n",
       "    <tr>\n",
       "      <th>16058211</th>\n",
       "      <td>5.312</td>\n",
       "      <td>1</td>\n",
       "      <td>0.122176</td>\n",
       "      <td>0.3984</td>\n",
       "      <td>3.105556</td>\n",
       "      <td>26.753868</td>\n",
       "    </tr>\n",
       "    <tr>\n",
       "      <th>41256171</th>\n",
       "      <td>2.176</td>\n",
       "      <td>0</td>\n",
       "      <td>0.200192</td>\n",
       "      <td>0.6800</td>\n",
       "      <td>1.801944</td>\n",
       "      <td>17.337864</td>\n",
       "    </tr>\n",
       "    <tr>\n",
       "      <th>14135253</th>\n",
       "      <td>4.800</td>\n",
       "      <td>2</td>\n",
       "      <td>0.154560</td>\n",
       "      <td>0.7200</td>\n",
       "      <td>6.063056</td>\n",
       "      <td>39.862384</td>\n",
       "    </tr>\n",
       "    <tr>\n",
       "      <th>44992575</th>\n",
       "      <td>0.640</td>\n",
       "      <td>0</td>\n",
       "      <td>0.058880</td>\n",
       "      <td>0.2000</td>\n",
       "      <td>0.855833</td>\n",
       "      <td>12.985287</td>\n",
       "    </tr>\n",
       "    <tr>\n",
       "      <th>5822963</th>\n",
       "      <td>1.408</td>\n",
       "      <td>0</td>\n",
       "      <td>0.129536</td>\n",
       "      <td>0.4400</td>\n",
       "      <td>1.650278</td>\n",
       "      <td>10.920186</td>\n",
       "    </tr>\n",
       "    <tr>\n",
       "      <th>29212882</th>\n",
       "      <td>9.600</td>\n",
       "      <td>0</td>\n",
       "      <td>0.883200</td>\n",
       "      <td>3.0000</td>\n",
       "      <td>6.965833</td>\n",
       "      <td>42.550967</td>\n",
       "    </tr>\n",
       "    <tr>\n",
       "      <th>53993226</th>\n",
       "      <td>2.240</td>\n",
       "      <td>0</td>\n",
       "      <td>0.206080</td>\n",
       "      <td>0.7000</td>\n",
       "      <td>2.867222</td>\n",
       "      <td>25.126698</td>\n",
       "    </tr>\n",
       "    <tr>\n",
       "      <th>19861758</th>\n",
       "      <td>7.264</td>\n",
       "      <td>1</td>\n",
       "      <td>0.167072</td>\n",
       "      <td>0.5448</td>\n",
       "      <td>3.791667</td>\n",
       "      <td>36.096461</td>\n",
       "    </tr>\n",
       "    <tr>\n",
       "      <th>38557931</th>\n",
       "      <td>1.472</td>\n",
       "      <td>2</td>\n",
       "      <td>0.047398</td>\n",
       "      <td>0.2208</td>\n",
       "      <td>0.751111</td>\n",
       "      <td>13.680690</td>\n",
       "    </tr>\n",
       "    <tr>\n",
       "      <th>38442074</th>\n",
       "      <td>0.544</td>\n",
       "      <td>1</td>\n",
       "      <td>0.012512</td>\n",
       "      <td>0.0408</td>\n",
       "      <td>0.397222</td>\n",
       "      <td>11.309466</td>\n",
       "    </tr>\n",
       "    <tr>\n",
       "      <th>19888370</th>\n",
       "      <td>1.888</td>\n",
       "      <td>0</td>\n",
       "      <td>0.173696</td>\n",
       "      <td>0.5900</td>\n",
       "      <td>1.671944</td>\n",
       "      <td>16.184360</td>\n",
       "    </tr>\n",
       "    <tr>\n",
       "      <th>33029666</th>\n",
       "      <td>1.408</td>\n",
       "      <td>0</td>\n",
       "      <td>0.129536</td>\n",
       "      <td>0.4400</td>\n",
       "      <td>1.693611</td>\n",
       "      <td>16.776853</td>\n",
       "    </tr>\n",
       "    <tr>\n",
       "      <th>32541631</th>\n",
       "      <td>1.616</td>\n",
       "      <td>2</td>\n",
       "      <td>0.052035</td>\n",
       "      <td>0.2424</td>\n",
       "      <td>0.931667</td>\n",
       "      <td>12.273898</td>\n",
       "    </tr>\n",
       "    <tr>\n",
       "      <th>8170048</th>\n",
       "      <td>0.768</td>\n",
       "      <td>0</td>\n",
       "      <td>0.070656</td>\n",
       "      <td>0.2400</td>\n",
       "      <td>0.570556</td>\n",
       "      <td>10.718788</td>\n",
       "    </tr>\n",
       "  </tbody>\n",
       "</table>\n",
       "</div>"
      ],
      "text/plain": [
       "          trip_distance  fuel_type  fuel_cost  maintenance     labor  \\\n",
       "20457255          1.616          1   0.037168       0.1212  1.931944   \n",
       "179039            0.640          0   0.058880       0.2000  0.711389   \n",
       "4900359          29.520          2   0.950544       4.4280  9.630833   \n",
       "620810            2.448          1   0.056304       0.1836  1.390278   \n",
       "15659350          7.808          0   0.718336       2.4400  5.748889   \n",
       "5119430           3.680          2   0.118496       0.5520  2.116111   \n",
       "16058211          5.312          1   0.122176       0.3984  3.105556   \n",
       "41256171          2.176          0   0.200192       0.6800  1.801944   \n",
       "14135253          4.800          2   0.154560       0.7200  6.063056   \n",
       "44992575          0.640          0   0.058880       0.2000  0.855833   \n",
       "5822963           1.408          0   0.129536       0.4400  1.650278   \n",
       "29212882          9.600          0   0.883200       3.0000  6.965833   \n",
       "53993226          2.240          0   0.206080       0.7000  2.867222   \n",
       "19861758          7.264          1   0.167072       0.5448  3.791667   \n",
       "38557931          1.472          2   0.047398       0.2208  0.751111   \n",
       "38442074          0.544          1   0.012512       0.0408  0.397222   \n",
       "19888370          1.888          0   0.173696       0.5900  1.671944   \n",
       "33029666          1.408          0   0.129536       0.4400  1.693611   \n",
       "32541631          1.616          2   0.052035       0.2424  0.931667   \n",
       "8170048           0.768          0   0.070656       0.2400  0.570556   \n",
       "\n",
       "          net_profit  \n",
       "20457255   11.209688  \n",
       "179039      8.129731  \n",
       "4900359   104.760623  \n",
       "620810     16.989818  \n",
       "15659350   33.742775  \n",
       "5119430    22.133393  \n",
       "16058211   26.753868  \n",
       "41256171   17.337864  \n",
       "14135253   39.862384  \n",
       "44992575   12.985287  \n",
       "5822963    10.920186  \n",
       "29212882   42.550967  \n",
       "53993226   25.126698  \n",
       "19861758   36.096461  \n",
       "38557931   13.680690  \n",
       "38442074   11.309466  \n",
       "19888370   16.184360  \n",
       "33029666   16.776853  \n",
       "32541631   12.273898  \n",
       "8170048    10.718788  "
      ]
     },
     "execution_count": 6,
     "metadata": {},
     "output_type": "execute_result"
    }
   ],
   "source": [
    "taxis[[\"trip_distance\",\"fuel_type\",\"fuel_cost\",\"maintenance\",\"labor\",\"net_profit\"]].sample(20)"
   ]
  },
  {
   "cell_type": "code",
   "execution_count": 14,
   "metadata": {},
   "outputs": [
    {
     "name": "stdout",
     "output_type": "stream",
     "text": [
      "<class 'pandas.core.frame.DataFrame'>\n",
      "Index: 47097253 entries, 12041332 to 56322147\n",
      "Data columns (total 16 columns):\n",
      " #   Column              Dtype         \n",
      "---  ------              -----         \n",
      " 0   pickup_datetime     datetime64[us]\n",
      " 1   dropoff_datetime    datetime64[us]\n",
      " 2   passenger_count     int32         \n",
      " 3   trip_distance       float64       \n",
      " 4   PULocationID        int64         \n",
      " 5   DOLocationID        int64         \n",
      " 6   total_price         float64       \n",
      " 7   service             int64         \n",
      " 8   fuel_type           int64         \n",
      " 9   energy_consumption  float64       \n",
      " 10  fuel_cost           float64       \n",
      " 11  trip_duration       float64       \n",
      " 12  labor               float64       \n",
      " 13  co2                 float64       \n",
      " 14  maintenance         float64       \n",
      " 15  net_profit          float64       \n",
      "dtypes: datetime64[us](2), float64(9), int32(1), int64(4)\n",
      "memory usage: 5.8 GB\n"
     ]
    }
   ],
   "source": [
    "taxis.info()"
   ]
  },
  {
   "cell_type": "code",
   "execution_count": null,
   "metadata": {},
   "outputs": [],
   "source": [
    "print(taxis[taxis[\"net_profit\"]<0].shape)\n",
    "taxis[taxis[\"net_profit\"]<0].sample(10)"
   ]
  },
  {
   "cell_type": "code",
   "execution_count": 37,
   "metadata": {},
   "outputs": [
    {
     "name": "stdout",
     "output_type": "stream",
     "text": [
      "pickup_datetime       2001-01-01 00:06:49\n",
      "dropoff_datetime      2001-01-01 15:42:11\n",
      "passenger_count                         2\n",
      "trip_distance                      11.856\n",
      "PULocationID                          161\n",
      "DOLocationID                          231\n",
      "total_price                          53.9\n",
      "service                                 0\n",
      "fuel_type                               0\n",
      "energy_consumption                 1.1856\n",
      "maintenance                        1.7784\n",
      "fuel_cost                        1.090752\n",
      "net_profit                     -151.63193\n",
      "trip_duration                   15.589444\n",
      "labor                          202.662778\n",
      "Name: 7022616, dtype: object\n"
     ]
    }
   ],
   "source": [
    "print(taxis.loc[7022616])"
   ]
  },
  {
   "cell_type": "code",
   "execution_count": 36,
   "metadata": {},
   "outputs": [
    {
     "name": "stdout",
     "output_type": "stream",
     "text": [
      "pickup_datetime       2002-12-31 22:10:04\n",
      "dropoff_datetime      2002-12-31 22:14:22\n",
      "passenger_count                         1\n",
      "trip_distance                       12.08\n",
      "PULocationID                          170\n",
      "DOLocationID                          231\n",
      "total_price                         53.34\n",
      "service                                 0\n",
      "fuel_type                               0\n",
      "energy_consumption                  1.208\n",
      "maintenance                         1.812\n",
      "fuel_cost                         1.11136\n",
      "net_profit                      49.484973\n",
      "trip_duration                    0.071667\n",
      "labor                            0.931667\n",
      "Name: 46494424, dtype: object\n"
     ]
    }
   ],
   "source": [
    "print(taxis.loc[46494424])"
   ]
  },
  {
   "cell_type": "markdown",
   "metadata": {},
   "source": [
    "Considerando que existen ciertas inconsistencias en los datos como por ejemplo viajes excesivamente largo con lo que respecta al tiempo y no tan largos en distancia recorrida, teniendo en cuenta que un taxi si realiza un detenimiento durante su trayecto sigue cobrando por el viaje, aunque este parado y es por esto que:\n",
    "Se filtro la data por:\n",
    "- Valores negativos en total_price.\n",
    "- Valores negativos en net_profit:\n",
    "Esto se realizo debido a viajes por ejemplo de duracion muy elevada y valores de total_price negativos o sin sentido.\n",
    "Tambien existen casos en los que la duracion fue extremadamente corta para la cantidad de kilometros recorridos durante el viaje(Se encontraron casos como viajes de 12 kilometros en 4 minutos siendo estos fisicamente imposible y probablemente un error al ingresar los datos)\n"
   ]
  },
  {
   "cell_type": "code",
   "execution_count": 6,
   "metadata": {},
   "outputs": [
    {
     "name": "stdout",
     "output_type": "stream",
     "text": [
      "(47089377, 16)\n",
      "(47089377, 16)\n"
     ]
    }
   ],
   "source": [
    "print(taxis.shape)\n",
    "taxis = taxis[taxis[\"total_price\"]>0]\n",
    "taxis = taxis[taxis[\"net_profit\"]>0]\n",
    "print(taxis.shape)"
   ]
  },
  {
   "cell_type": "code",
   "execution_count": 3,
   "metadata": {},
   "outputs": [],
   "source": [
    "taxis = pd.read_parquet(\"Data/process_taxis.parquet\",engine='pyarrow')"
   ]
  },
  {
   "cell_type": "code",
   "execution_count": 5,
   "metadata": {},
   "outputs": [
    {
     "data": {
      "text/plain": [
       "(47097253, 16)"
      ]
     },
     "execution_count": 5,
     "metadata": {},
     "output_type": "execute_result"
    }
   ],
   "source": [
    "taxis.shape"
   ]
  },
  {
   "cell_type": "code",
   "execution_count": 6,
   "metadata": {},
   "outputs": [
    {
     "data": {
      "text/html": [
       "<div>\n",
       "<style scoped>\n",
       "    .dataframe tbody tr th:only-of-type {\n",
       "        vertical-align: middle;\n",
       "    }\n",
       "\n",
       "    .dataframe tbody tr th {\n",
       "        vertical-align: top;\n",
       "    }\n",
       "\n",
       "    .dataframe thead th {\n",
       "        text-align: right;\n",
       "    }\n",
       "</style>\n",
       "<table border=\"1\" class=\"dataframe\">\n",
       "  <thead>\n",
       "    <tr style=\"text-align: right;\">\n",
       "      <th></th>\n",
       "      <th>pickup_datetime</th>\n",
       "      <th>dropoff_datetime</th>\n",
       "      <th>passenger_count</th>\n",
       "      <th>trip_distance</th>\n",
       "      <th>PULocationID</th>\n",
       "      <th>DOLocationID</th>\n",
       "      <th>total_price</th>\n",
       "      <th>service</th>\n",
       "      <th>fuel_type</th>\n",
       "      <th>energy_consumption</th>\n",
       "      <th>maintenance</th>\n",
       "      <th>fuel_cost</th>\n",
       "      <th>net_profit</th>\n",
       "      <th>trip_duration</th>\n",
       "      <th>labor</th>\n",
       "      <th>co2</th>\n",
       "    </tr>\n",
       "  </thead>\n",
       "  <tbody>\n",
       "    <tr>\n",
       "      <th>12041332</th>\n",
       "      <td>2001-01-01 00:07:36</td>\n",
       "      <td>2001-01-01 00:16:31</td>\n",
       "      <td>1</td>\n",
       "      <td>2.688</td>\n",
       "      <td>239</td>\n",
       "      <td>43</td>\n",
       "      <td>14.70</td>\n",
       "      <td>0</td>\n",
       "      <td>1</td>\n",
       "      <td>0.06720</td>\n",
       "      <td>0.18816</td>\n",
       "      <td>0.061824</td>\n",
       "      <td>12.518072</td>\n",
       "      <td>0.148611</td>\n",
       "      <td>1.931944</td>\n",
       "      <td>0.00000</td>\n",
       "    </tr>\n",
       "    <tr>\n",
       "      <th>46494424</th>\n",
       "      <td>2002-12-31 22:10:04</td>\n",
       "      <td>2002-12-31 22:14:22</td>\n",
       "      <td>1</td>\n",
       "      <td>12.080</td>\n",
       "      <td>170</td>\n",
       "      <td>231</td>\n",
       "      <td>53.34</td>\n",
       "      <td>0</td>\n",
       "      <td>0</td>\n",
       "      <td>1.20800</td>\n",
       "      <td>1.81200</td>\n",
       "      <td>1.111360</td>\n",
       "      <td>49.484973</td>\n",
       "      <td>0.071667</td>\n",
       "      <td>0.931667</td>\n",
       "      <td>31.40800</td>\n",
       "    </tr>\n",
       "    <tr>\n",
       "      <th>44377670</th>\n",
       "      <td>2002-12-31 22:17:10</td>\n",
       "      <td>2002-12-31 22:42:24</td>\n",
       "      <td>1</td>\n",
       "      <td>2.240</td>\n",
       "      <td>50</td>\n",
       "      <td>162</td>\n",
       "      <td>21.00</td>\n",
       "      <td>0</td>\n",
       "      <td>0</td>\n",
       "      <td>0.22400</td>\n",
       "      <td>0.33600</td>\n",
       "      <td>0.206080</td>\n",
       "      <td>14.990698</td>\n",
       "      <td>0.420556</td>\n",
       "      <td>5.467222</td>\n",
       "      <td>5.82400</td>\n",
       "    </tr>\n",
       "    <tr>\n",
       "      <th>37020533</th>\n",
       "      <td>2002-12-31 22:59:39</td>\n",
       "      <td>2002-12-31 23:05:41</td>\n",
       "      <td>1</td>\n",
       "      <td>1.008</td>\n",
       "      <td>170</td>\n",
       "      <td>170</td>\n",
       "      <td>10.50</td>\n",
       "      <td>0</td>\n",
       "      <td>2</td>\n",
       "      <td>0.03528</td>\n",
       "      <td>0.10080</td>\n",
       "      <td>0.032458</td>\n",
       "      <td>9.059520</td>\n",
       "      <td>0.100556</td>\n",
       "      <td>1.307222</td>\n",
       "      <td>0.99792</td>\n",
       "    </tr>\n",
       "    <tr>\n",
       "      <th>12138808</th>\n",
       "      <td>2002-12-31 23:18:49</td>\n",
       "      <td>2002-12-31 23:33:34</td>\n",
       "      <td>1</td>\n",
       "      <td>4.848</td>\n",
       "      <td>141</td>\n",
       "      <td>79</td>\n",
       "      <td>21.00</td>\n",
       "      <td>0</td>\n",
       "      <td>1</td>\n",
       "      <td>0.12120</td>\n",
       "      <td>0.33936</td>\n",
       "      <td>0.111504</td>\n",
       "      <td>17.353303</td>\n",
       "      <td>0.245833</td>\n",
       "      <td>3.195833</td>\n",
       "      <td>0.00000</td>\n",
       "    </tr>\n",
       "  </tbody>\n",
       "</table>\n",
       "</div>"
      ],
      "text/plain": [
       "             pickup_datetime    dropoff_datetime  passenger_count  \\\n",
       "12041332 2001-01-01 00:07:36 2001-01-01 00:16:31                1   \n",
       "46494424 2002-12-31 22:10:04 2002-12-31 22:14:22                1   \n",
       "44377670 2002-12-31 22:17:10 2002-12-31 22:42:24                1   \n",
       "37020533 2002-12-31 22:59:39 2002-12-31 23:05:41                1   \n",
       "12138808 2002-12-31 23:18:49 2002-12-31 23:33:34                1   \n",
       "\n",
       "          trip_distance  PULocationID  DOLocationID  total_price  service  \\\n",
       "12041332          2.688           239            43        14.70        0   \n",
       "46494424         12.080           170           231        53.34        0   \n",
       "44377670          2.240            50           162        21.00        0   \n",
       "37020533          1.008           170           170        10.50        0   \n",
       "12138808          4.848           141            79        21.00        0   \n",
       "\n",
       "          fuel_type  energy_consumption  maintenance  fuel_cost  net_profit  \\\n",
       "12041332          1             0.06720      0.18816   0.061824   12.518072   \n",
       "46494424          0             1.20800      1.81200   1.111360   49.484973   \n",
       "44377670          0             0.22400      0.33600   0.206080   14.990698   \n",
       "37020533          2             0.03528      0.10080   0.032458    9.059520   \n",
       "12138808          1             0.12120      0.33936   0.111504   17.353303   \n",
       "\n",
       "          trip_duration     labor       co2  \n",
       "12041332       0.148611  1.931944   0.00000  \n",
       "46494424       0.071667  0.931667  31.40800  \n",
       "44377670       0.420556  5.467222   5.82400  \n",
       "37020533       0.100556  1.307222   0.99792  \n",
       "12138808       0.245833  3.195833   0.00000  "
      ]
     },
     "execution_count": 6,
     "metadata": {},
     "output_type": "execute_result"
    }
   ],
   "source": [
    "taxis.head(5)"
   ]
  },
  {
   "cell_type": "code",
   "execution_count": 7,
   "metadata": {},
   "outputs": [],
   "source": [
    "taxis.to_parquet('Data\\process_taxis.parquet',engine='pyarrow')"
   ]
  },
  {
   "cell_type": "code",
   "execution_count": 76,
   "metadata": {},
   "outputs": [],
   "source": [
    "del taxis\n",
    "del df_taxis_green\n",
    "del df_taxis_yellow"
   ]
  },
  {
   "cell_type": "markdown",
   "metadata": {},
   "source": [
    "Fuentes:\n",
    "\n",
    "https://www.moneygeek.com/insurance/auto/seguro-auto-barato-nueva-york/\n",
    "\n",
    "https://www.miproximopaso.org/profile/wages/53-3054.00?s=NY\n",
    "\n",
    "https://www.muchoneumatico.com/blog/coches/piezas-coche-desgastan/"
   ]
  }
 ],
 "metadata": {
  "kernelspec": {
   "display_name": "Python 3",
   "language": "python",
   "name": "python3"
  },
  "language_info": {
   "codemirror_mode": {
    "name": "ipython",
    "version": 3
   },
   "file_extension": ".py",
   "mimetype": "text/x-python",
   "name": "python",
   "nbconvert_exporter": "python",
   "pygments_lexer": "ipython3",
   "version": "3.11.4"
  }
 },
 "nbformat": 4,
 "nbformat_minor": 2
}
