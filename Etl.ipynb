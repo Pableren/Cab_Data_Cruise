{
 "cells": [
  {
   "cell_type": "markdown",
   "metadata": {},
   "source": [
    "# Web scraping - Extraccion de la data\n",
    "\n",
    "Considerar el punto de que:\n",
    "El web scraping que realizado, se encarga de descargar(link referenciando al archivo parket de la data) los archivos de la pagina web de TCL(Taxis & Limousine Commission), por lo que en realidad podrias decir cumplimos con una premisa del web scraping: la extracción de datos de una fuente externa, pero no realizamos una \"disección\" o \"scraping\"(en realidad referie a raspado-raspar) del documento html para luego procesar la data para construir y reorganizar los datos. En este caso, la data ya se obtiene en formato tabular."
   ]
  },
  {
   "cell_type": "code",
   "execution_count": 54,
   "metadata": {},
   "outputs": [],
   "source": [
    "import requests\n",
    "import os\n",
    "import pandas as pd\n",
    "import time\n",
    "from selenium import webdriver # pip install selenium\n",
    "from selenium.webdriver.common.by import By\n",
    "from selenium.webdriver.chrome.service import Service\n",
    "from selenium.webdriver.support.ui import WebDriverWait\n",
    "from selenium.webdriver.support import expected_conditions as EC"
   ]
  },
  {
   "cell_type": "code",
   "execution_count": null,
   "metadata": {},
   "outputs": [],
   "source": [
    "# Crear una carpeta para las descargas si no existe\n",
    "download_dir = os.path.join(os.getcwd(), \"descargas\")\n",
    "if not os.path.exists(download_dir):\n",
    "    os.makedirs(download_dir)\n",
    "print(download_dir)"
   ]
  },
  {
   "cell_type": "markdown",
   "metadata": {},
   "source": [
    "#### Web driver de Selenium"
   ]
  },
  {
   "cell_type": "code",
   "execution_count": 56,
   "metadata": {},
   "outputs": [],
   "source": [
    "# Configura el WebDriver (asegúrate de tener el driver correspondiente)\n",
    "options = webdriver.ChromeOptions()\n",
    "options.add_argument(\"--window-size=800,640\")\n",
    "#Directorio predeterminado para descargar los archivos\n",
    "prefs = {\n",
    "    \"download.default_directory\": download_dir,  # Cambiar a tu directorio de descargas\n",
    "    \"download.prompt_for_download\": False,       # Desactivar el cuadro de diálogo de descarga\n",
    "    \"download.directory_upgrade\": True,          # Permitir actualizar la carpeta de descarga\n",
    "    \"safebrowsing.enabled\": True                 # Activar descarga segura\n",
    "}\n",
    "options.add_experimental_option(\"prefs\", prefs)\n",
    "service = Service(executable_path=\"chromedriver_win64\\chromedriver.exe\") #Ruta del chromedriver\n",
    "options.headless = True  # Enable headless mode\n",
    "#options.add_argument(\"--window-size=800,640\")\n",
    "driver = webdriver.Chrome(service=service, options=options)\n",
    "driver.get('https://www.nyc.gov/site/tlc/about/tlc-trip-record-data.page') # URL pagina de la data\n",
    "\n",
    "# Usar WebDriverWait para esperar hasta que la sección con la clase y el id estén visibles\n",
    "wait = WebDriverWait(driver, 20)\n",
    "faq_section = wait.until(EC.presence_of_element_located((By.CSS_SELECTOR, 'div.faq-answers#faq2023')))\n",
    "\n",
    "# Buscar todos los enlaces dentro de la sección con class 'faq-answers' y id 'faq2023'\n",
    "taxi_links = faq_section.find_elements(By.CSS_SELECTOR, 'a[title=\"Yellow Taxi Trip Records\"], a[title=\"Green Taxi Trip Records\"]')"
   ]
  },
  {
   "cell_type": "markdown",
   "metadata": {},
   "source": [
    "#### Descarga de archivos"
   ]
  },
  {
   "cell_type": "code",
   "execution_count": null,
   "metadata": {},
   "outputs": [],
   "source": [
    "# Descargar cada archivo\n",
    "for url in taxi_links:\n",
    "    # Extraer el nombre del archivo de la URL\n",
    "    url = url.get_attribute('href')\n",
    "    file_name = url.split(\"/\")[-1]\n",
    "    file_path = os.path.join(download_dir, file_name)\n",
    "    # Descargar el archivo\n",
    "    print(f\"Descargando {file_name} ...\")\n",
    "    #response = requests.get(url)\n",
    "    try:\n",
    "        response = requests.get(url, timeout=120)  # Aumentar el timeout a 120 segundos\n",
    "    except requests.exceptions.Timeout:\n",
    "        print(f\"Error: El archivo {file_name} tardó demasiado en responder.\")\n",
    "        continue  # Salta al siguiente archivo si hay un problema de tiempo de espera\n",
    "    # Verificar si la descarga fue exitosa\n",
    "    if response.status_code == 200:\n",
    "        # Guardar el archivo en la carpeta de descargas\n",
    "        with open(file_path, 'wb') as f:\n",
    "            f.write(response.content)\n",
    "        print(f\"Archivo descargado y guardado en: {file_path}\")\n",
    "    else:\n",
    "        print(f\"Error al descargar {file_name}: Código de estado {response.status_code}\")"
   ]
  },
  {
   "cell_type": "code",
   "execution_count": 53,
   "metadata": {},
   "outputs": [],
   "source": [
    "# Cierra el driver\n",
    "driver.quit()"
   ]
  }
 ],
 "metadata": {
  "kernelspec": {
   "display_name": "Python 3",
   "language": "python",
   "name": "python3"
  },
  "language_info": {
   "codemirror_mode": {
    "name": "ipython",
    "version": 3
   },
   "file_extension": ".py",
   "mimetype": "text/x-python",
   "name": "python",
   "nbconvert_exporter": "python",
   "pygments_lexer": "ipython3",
   "version": "3.11.4"
  }
 },
 "nbformat": 4,
 "nbformat_minor": 2
}
