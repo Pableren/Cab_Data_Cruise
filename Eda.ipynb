{
 "cells": [
  {
   "cell_type": "code",
   "execution_count": 1,
   "metadata": {},
   "outputs": [],
   "source": [
    "import pandas as pd"
   ]
  },
  {
   "cell_type": "code",
   "execution_count": 2,
   "metadata": {},
   "outputs": [],
   "source": [
    "df = pd.read_parquet('Data\\process_taxis.parquet',engine='pyarrow')"
   ]
  },
  {
   "cell_type": "code",
   "execution_count": 6,
   "metadata": {},
   "outputs": [],
   "source": [
    "df['trip_duration'] = (df['dropoff_datetime'] - df['pickup_datetime']).dt.total_seconds()"
   ]
  },
  {
   "cell_type": "code",
   "execution_count": 7,
   "metadata": {},
   "outputs": [
    {
     "data": {
      "text/html": [
       "<div>\n",
       "<style scoped>\n",
       "    .dataframe tbody tr th:only-of-type {\n",
       "        vertical-align: middle;\n",
       "    }\n",
       "\n",
       "    .dataframe tbody tr th {\n",
       "        vertical-align: top;\n",
       "    }\n",
       "\n",
       "    .dataframe thead th {\n",
       "        text-align: right;\n",
       "    }\n",
       "</style>\n",
       "<table border=\"1\" class=\"dataframe\">\n",
       "  <thead>\n",
       "    <tr style=\"text-align: right;\">\n",
       "      <th></th>\n",
       "      <th>pickup_datetime</th>\n",
       "      <th>dropoff_datetime</th>\n",
       "      <th>passenger_count</th>\n",
       "      <th>trip_distance</th>\n",
       "      <th>PULocationID</th>\n",
       "      <th>DOLocationID</th>\n",
       "      <th>total_price</th>\n",
       "      <th>service</th>\n",
       "      <th>trip_duration</th>\n",
       "    </tr>\n",
       "  </thead>\n",
       "  <tbody>\n",
       "    <tr>\n",
       "      <th>57785405</th>\n",
       "      <td>2024-07-01 00:05:23</td>\n",
       "      <td>2024-07-01 00:15:02</td>\n",
       "      <td>5.0</td>\n",
       "      <td>2.07</td>\n",
       "      <td>263</td>\n",
       "      <td>151</td>\n",
       "      <td>26.70</td>\n",
       "      <td>0</td>\n",
       "      <td>579.0</td>\n",
       "    </tr>\n",
       "    <tr>\n",
       "      <th>57785406</th>\n",
       "      <td>2026-06-26 23:26:55</td>\n",
       "      <td>2026-06-26 23:47:51</td>\n",
       "      <td>1.0</td>\n",
       "      <td>10.96</td>\n",
       "      <td>138</td>\n",
       "      <td>233</td>\n",
       "      <td>85.25</td>\n",
       "      <td>0</td>\n",
       "      <td>1256.0</td>\n",
       "    </tr>\n",
       "    <tr>\n",
       "      <th>57785407</th>\n",
       "      <td>2026-06-26 23:53:12</td>\n",
       "      <td>2026-06-27 20:59:10</td>\n",
       "      <td>1.0</td>\n",
       "      <td>0.56</td>\n",
       "      <td>233</td>\n",
       "      <td>264</td>\n",
       "      <td>16.20</td>\n",
       "      <td>0</td>\n",
       "      <td>75958.0</td>\n",
       "    </tr>\n",
       "  </tbody>\n",
       "</table>\n",
       "</div>"
      ],
      "text/plain": [
       "             pickup_datetime    dropoff_datetime  passenger_count  \\\n",
       "57785405 2024-07-01 00:05:23 2024-07-01 00:15:02              5.0   \n",
       "57785406 2026-06-26 23:26:55 2026-06-26 23:47:51              1.0   \n",
       "57785407 2026-06-26 23:53:12 2026-06-27 20:59:10              1.0   \n",
       "\n",
       "          trip_distance  PULocationID  DOLocationID  total_price  service  \\\n",
       "57785405           2.07           263           151        26.70        0   \n",
       "57785406          10.96           138           233        85.25        0   \n",
       "57785407           0.56           233           264        16.20        0   \n",
       "\n",
       "          trip_duration  \n",
       "57785405          579.0  \n",
       "57785406         1256.0  \n",
       "57785407        75958.0  "
      ]
     },
     "execution_count": 7,
     "metadata": {},
     "output_type": "execute_result"
    }
   ],
   "source": [
    "df.tail(3)"
   ]
  }
 ],
 "metadata": {
  "kernelspec": {
   "display_name": "Python 3",
   "language": "python",
   "name": "python3"
  },
  "language_info": {
   "codemirror_mode": {
    "name": "ipython",
    "version": 3
   },
   "file_extension": ".py",
   "mimetype": "text/x-python",
   "name": "python",
   "nbconvert_exporter": "python",
   "pygments_lexer": "ipython3",
   "version": "3.11.4"
  }
 },
 "nbformat": 4,
 "nbformat_minor": 2
}
